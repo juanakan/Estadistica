{
 "cells": [
  {
   "cell_type": "code",
   "execution_count": 1,
   "metadata": {},
   "outputs": [],
   "source": [
    "library(ggplot2)\n",
    "options(repr.plot.height=8,repr.plot.width=12)"
   ]
  },
  {
   "cell_type": "markdown",
   "metadata": {},
   "source": [
    "Cargar los datos en un dataframe llamado: airbnb"
   ]
  },
  {
   "cell_type": "code",
   "execution_count": 2,
   "metadata": {},
   "outputs": [],
   "source": [
    "airbnb<-read.csv('data//airbnb.csv',sep = ',')"
   ]
  },
  {
   "cell_type": "markdown",
   "metadata": {},
   "source": [
    "Mostrar las primeras 6 filas del dataframe"
   ]
  },
  {
   "cell_type": "code",
   "execution_count": 3,
   "metadata": {
    "scrolled": true
   },
   "outputs": [
    {
     "data": {
      "text/html": [
       "<table>\n",
       "<caption>A data.frame: 6 × 13</caption>\n",
       "<thead>\n",
       "\t<tr><th scope=col>Zipcode</th><th scope=col>Neighbourhood.Cleansed</th><th scope=col>Property.Type</th><th scope=col>Room.Type</th><th scope=col>Accommodates</th><th scope=col>Bathrooms</th><th scope=col>Bedrooms</th><th scope=col>Beds</th><th scope=col>Bed.Type</th><th scope=col>Amenities</th><th scope=col>Square.Feet</th><th scope=col>Price</th><th scope=col>Review.Scores.Rating</th></tr>\n",
       "\t<tr><th scope=col>&lt;fct&gt;</th><th scope=col>&lt;fct&gt;</th><th scope=col>&lt;fct&gt;</th><th scope=col>&lt;fct&gt;</th><th scope=col>&lt;int&gt;</th><th scope=col>&lt;dbl&gt;</th><th scope=col>&lt;int&gt;</th><th scope=col>&lt;int&gt;</th><th scope=col>&lt;fct&gt;</th><th scope=col>&lt;fct&gt;</th><th scope=col>&lt;int&gt;</th><th scope=col>&lt;int&gt;</th><th scope=col>&lt;int&gt;</th></tr>\n",
       "</thead>\n",
       "<tbody>\n",
       "\t<tr><td>28004</td><td>Universidad</td><td>Apartment</td><td>Private room   </td><td>2</td><td>2</td><td>1</td><td>1</td><td>Real Bed</td><td>TV,Wireless Internet,Kitchen,Pets allowed,Pets live on this property,Buzzer/wireless intercom,Heating,Suitable for events,Washer,First aid kit,Essentials,Lock on bedroom door,Iron                                                                                                                                                                             </td><td> NA</td><td>35</td><td> NA</td></tr>\n",
       "\t<tr><td>28004</td><td>Universidad</td><td>Apartment</td><td>Entire home/apt</td><td>6</td><td>1</td><td>3</td><td>5</td><td>Real Bed</td><td>TV,Internet,Wireless Internet,Air conditioning,Kitchen,Indoor fireplace,Heating,Family/kid friendly,Washer,Dryer,Smoke detector,Carbon monoxide detector,Essentials,Shampoo                                                                                                                                                                                     </td><td> NA</td><td>92</td><td> 96</td></tr>\n",
       "\t<tr><td>28004</td><td>Universidad</td><td>Apartment</td><td>Entire home/apt</td><td>3</td><td>1</td><td>2</td><td>2</td><td>Real Bed</td><td>TV,Internet,Wireless Internet,Air conditioning,Kitchen,Doorman,Heating,Family/kid friendly,Washer,Essentials,Shampoo,Hangers,Hair dryer,Iron,Laptop friendly workspace                                                                                                                                                                                          </td><td> NA</td><td>55</td><td> 91</td></tr>\n",
       "\t<tr><td>28004</td><td>Universidad</td><td>Loft     </td><td>Entire home/apt</td><td>3</td><td>2</td><td>1</td><td>1</td><td>Real Bed</td><td>TV,Internet,Wireless Internet,Air conditioning,Kitchen,Pets allowed,Breakfast,Elevator in building,Indoor fireplace,Buzzer/wireless intercom,Heating,Washer,Essentials,Shampoo,Hangers,Hair dryer,Iron,Laptop friendly workspace,translation missing: en.hosting_amenity_49,translation missing: en.hosting_amenity_50                                          </td><td> NA</td><td>60</td><td>100</td></tr>\n",
       "\t<tr><td>28015</td><td>Universidad</td><td>Apartment</td><td>Entire home/apt</td><td>5</td><td>1</td><td>1</td><td>1</td><td>Real Bed</td><td>TV,Wireless Internet,Air conditioning,Kitchen,Smoking allowed,Pets allowed,Elevator in building,Heating,Family/kid friendly,Washer,Essentials,Iron                                                                                                                                                                                                              </td><td>538</td><td>75</td><td> 90</td></tr>\n",
       "\t<tr><td>28004</td><td>Universidad</td><td>Apartment</td><td>Entire home/apt</td><td>2</td><td>1</td><td>0</td><td>1</td><td>Real Bed</td><td>TV,Cable TV,Internet,Wireless Internet,Air conditioning,Wheelchair accessible,Kitchen,Doorman,Elevator in building,Buzzer/wireless intercom,Heating,Washer,Smoke detector,Carbon monoxide detector,First aid kit,Safety card,Fire extinguisher,Essentials,Shampoo,24-hour check-in,Hangers,Hair dryer,Iron,Laptop friendly workspace,Self Check-In,Doorman Entry</td><td> NA</td><td>55</td><td> 95</td></tr>\n",
       "</tbody>\n",
       "</table>\n"
      ],
      "text/latex": [
       "A data.frame: 6 × 13\n",
       "\\begin{tabular}{r|lllllllllllll}\n",
       " Zipcode & Neighbourhood.Cleansed & Property.Type & Room.Type & Accommodates & Bathrooms & Bedrooms & Beds & Bed.Type & Amenities & Square.Feet & Price & Review.Scores.Rating\\\\\n",
       " <fct> & <fct> & <fct> & <fct> & <int> & <dbl> & <int> & <int> & <fct> & <fct> & <int> & <int> & <int>\\\\\n",
       "\\hline\n",
       "\t 28004 & Universidad & Apartment & Private room    & 2 & 2 & 1 & 1 & Real Bed & TV,Wireless Internet,Kitchen,Pets allowed,Pets live on this property,Buzzer/wireless intercom,Heating,Suitable for events,Washer,First aid kit,Essentials,Lock on bedroom door,Iron                                                                                                                                                                              &  NA & 35 &  NA\\\\\n",
       "\t 28004 & Universidad & Apartment & Entire home/apt & 6 & 1 & 3 & 5 & Real Bed & TV,Internet,Wireless Internet,Air conditioning,Kitchen,Indoor fireplace,Heating,Family/kid friendly,Washer,Dryer,Smoke detector,Carbon monoxide detector,Essentials,Shampoo                                                                                                                                                                                      &  NA & 92 &  96\\\\\n",
       "\t 28004 & Universidad & Apartment & Entire home/apt & 3 & 1 & 2 & 2 & Real Bed & TV,Internet,Wireless Internet,Air conditioning,Kitchen,Doorman,Heating,Family/kid friendly,Washer,Essentials,Shampoo,Hangers,Hair dryer,Iron,Laptop friendly workspace                                                                                                                                                                                           &  NA & 55 &  91\\\\\n",
       "\t 28004 & Universidad & Loft      & Entire home/apt & 3 & 2 & 1 & 1 & Real Bed & TV,Internet,Wireless Internet,Air conditioning,Kitchen,Pets allowed,Breakfast,Elevator in building,Indoor fireplace,Buzzer/wireless intercom,Heating,Washer,Essentials,Shampoo,Hangers,Hair dryer,Iron,Laptop friendly workspace,translation missing: en.hosting\\_amenity\\_49,translation missing: en.hosting\\_amenity\\_50                                           &  NA & 60 & 100\\\\\n",
       "\t 28015 & Universidad & Apartment & Entire home/apt & 5 & 1 & 1 & 1 & Real Bed & TV,Wireless Internet,Air conditioning,Kitchen,Smoking allowed,Pets allowed,Elevator in building,Heating,Family/kid friendly,Washer,Essentials,Iron                                                                                                                                                                                                               & 538 & 75 &  90\\\\\n",
       "\t 28004 & Universidad & Apartment & Entire home/apt & 2 & 1 & 0 & 1 & Real Bed & TV,Cable TV,Internet,Wireless Internet,Air conditioning,Wheelchair accessible,Kitchen,Doorman,Elevator in building,Buzzer/wireless intercom,Heating,Washer,Smoke detector,Carbon monoxide detector,First aid kit,Safety card,Fire extinguisher,Essentials,Shampoo,24-hour check-in,Hangers,Hair dryer,Iron,Laptop friendly workspace,Self Check-In,Doorman Entry &  NA & 55 &  95\\\\\n",
       "\\end{tabular}\n"
      ],
      "text/markdown": [
       "\n",
       "A data.frame: 6 × 13\n",
       "\n",
       "| Zipcode &lt;fct&gt; | Neighbourhood.Cleansed &lt;fct&gt; | Property.Type &lt;fct&gt; | Room.Type &lt;fct&gt; | Accommodates &lt;int&gt; | Bathrooms &lt;dbl&gt; | Bedrooms &lt;int&gt; | Beds &lt;int&gt; | Bed.Type &lt;fct&gt; | Amenities &lt;fct&gt; | Square.Feet &lt;int&gt; | Price &lt;int&gt; | Review.Scores.Rating &lt;int&gt; |\n",
       "|---|---|---|---|---|---|---|---|---|---|---|---|---|\n",
       "| 28004 | Universidad | Apartment | Private room    | 2 | 2 | 1 | 1 | Real Bed | TV,Wireless Internet,Kitchen,Pets allowed,Pets live on this property,Buzzer/wireless intercom,Heating,Suitable for events,Washer,First aid kit,Essentials,Lock on bedroom door,Iron                                                                                                                                                                              |  NA | 35 |  NA |\n",
       "| 28004 | Universidad | Apartment | Entire home/apt | 6 | 1 | 3 | 5 | Real Bed | TV,Internet,Wireless Internet,Air conditioning,Kitchen,Indoor fireplace,Heating,Family/kid friendly,Washer,Dryer,Smoke detector,Carbon monoxide detector,Essentials,Shampoo                                                                                                                                                                                      |  NA | 92 |  96 |\n",
       "| 28004 | Universidad | Apartment | Entire home/apt | 3 | 1 | 2 | 2 | Real Bed | TV,Internet,Wireless Internet,Air conditioning,Kitchen,Doorman,Heating,Family/kid friendly,Washer,Essentials,Shampoo,Hangers,Hair dryer,Iron,Laptop friendly workspace                                                                                                                                                                                           |  NA | 55 |  91 |\n",
       "| 28004 | Universidad | Loft      | Entire home/apt | 3 | 2 | 1 | 1 | Real Bed | TV,Internet,Wireless Internet,Air conditioning,Kitchen,Pets allowed,Breakfast,Elevator in building,Indoor fireplace,Buzzer/wireless intercom,Heating,Washer,Essentials,Shampoo,Hangers,Hair dryer,Iron,Laptop friendly workspace,translation missing: en.hosting_amenity_49,translation missing: en.hosting_amenity_50                                           |  NA | 60 | 100 |\n",
       "| 28015 | Universidad | Apartment | Entire home/apt | 5 | 1 | 1 | 1 | Real Bed | TV,Wireless Internet,Air conditioning,Kitchen,Smoking allowed,Pets allowed,Elevator in building,Heating,Family/kid friendly,Washer,Essentials,Iron                                                                                                                                                                                                               | 538 | 75 |  90 |\n",
       "| 28004 | Universidad | Apartment | Entire home/apt | 2 | 1 | 0 | 1 | Real Bed | TV,Cable TV,Internet,Wireless Internet,Air conditioning,Wheelchair accessible,Kitchen,Doorman,Elevator in building,Buzzer/wireless intercom,Heating,Washer,Smoke detector,Carbon monoxide detector,First aid kit,Safety card,Fire extinguisher,Essentials,Shampoo,24-hour check-in,Hangers,Hair dryer,Iron,Laptop friendly workspace,Self Check-In,Doorman Entry |  NA | 55 |  95 |\n",
       "\n"
      ],
      "text/plain": [
       "  Zipcode Neighbourhood.Cleansed Property.Type Room.Type       Accommodates\n",
       "1 28004   Universidad            Apartment     Private room    2           \n",
       "2 28004   Universidad            Apartment     Entire home/apt 6           \n",
       "3 28004   Universidad            Apartment     Entire home/apt 3           \n",
       "4 28004   Universidad            Loft          Entire home/apt 3           \n",
       "5 28015   Universidad            Apartment     Entire home/apt 5           \n",
       "6 28004   Universidad            Apartment     Entire home/apt 2           \n",
       "  Bathrooms Bedrooms Beds Bed.Type\n",
       "1 2         1        1    Real Bed\n",
       "2 1         3        5    Real Bed\n",
       "3 1         2        2    Real Bed\n",
       "4 2         1        1    Real Bed\n",
       "5 1         1        1    Real Bed\n",
       "6 1         0        1    Real Bed\n",
       "  Amenities                                                                                                                                                                                                                                                                                                                                                       \n",
       "1 TV,Wireless Internet,Kitchen,Pets allowed,Pets live on this property,Buzzer/wireless intercom,Heating,Suitable for events,Washer,First aid kit,Essentials,Lock on bedroom door,Iron                                                                                                                                                                             \n",
       "2 TV,Internet,Wireless Internet,Air conditioning,Kitchen,Indoor fireplace,Heating,Family/kid friendly,Washer,Dryer,Smoke detector,Carbon monoxide detector,Essentials,Shampoo                                                                                                                                                                                     \n",
       "3 TV,Internet,Wireless Internet,Air conditioning,Kitchen,Doorman,Heating,Family/kid friendly,Washer,Essentials,Shampoo,Hangers,Hair dryer,Iron,Laptop friendly workspace                                                                                                                                                                                          \n",
       "4 TV,Internet,Wireless Internet,Air conditioning,Kitchen,Pets allowed,Breakfast,Elevator in building,Indoor fireplace,Buzzer/wireless intercom,Heating,Washer,Essentials,Shampoo,Hangers,Hair dryer,Iron,Laptop friendly workspace,translation missing: en.hosting_amenity_49,translation missing: en.hosting_amenity_50                                          \n",
       "5 TV,Wireless Internet,Air conditioning,Kitchen,Smoking allowed,Pets allowed,Elevator in building,Heating,Family/kid friendly,Washer,Essentials,Iron                                                                                                                                                                                                              \n",
       "6 TV,Cable TV,Internet,Wireless Internet,Air conditioning,Wheelchair accessible,Kitchen,Doorman,Elevator in building,Buzzer/wireless intercom,Heating,Washer,Smoke detector,Carbon monoxide detector,First aid kit,Safety card,Fire extinguisher,Essentials,Shampoo,24-hour check-in,Hangers,Hair dryer,Iron,Laptop friendly workspace,Self Check-In,Doorman Entry\n",
       "  Square.Feet Price Review.Scores.Rating\n",
       "1  NA         35     NA                 \n",
       "2  NA         92     96                 \n",
       "3  NA         55     91                 \n",
       "4  NA         60    100                 \n",
       "5 538         75     90                 \n",
       "6  NA         55     95                 "
      ]
     },
     "metadata": {},
     "output_type": "display_data"
    }
   ],
   "source": [
    "head(airbnb)"
   ]
  },
  {
   "cell_type": "markdown",
   "metadata": {},
   "source": [
    "Renombrar las columnas de la siguiente forma:\n",
    "\n",
    "| Nombre original | Nuevo nombre |\n",
    "| - | - |\n",
    "| Zipcode | CodigoPostal |\n",
    "| Neighbourhood.Cleansed | Barrio |\n",
    "| Property.Type\t| TipoPropiedad |\n",
    "| Room.Type | TipoAlquiler |\n",
    "| Accommodates | MaxOcupantes |\n",
    "| Bathrooms\t| NumBanyos |\n",
    "| Bedrooms\t| NumDormitorios |\n",
    "| Beds\t|  NumCamas |\n",
    "| Bed.Type\t| TipoCama |\n",
    "| Amenities | Comodidades |\n",
    "| Square.Feet | PiesCuadrados |\n",
    "| Price\t| Precio |\n",
    "| Review.Scores.Rating | Puntuacion |"
   ]
  },
  {
   "cell_type": "markdown",
   "metadata": {},
   "source": [
    "Con el metodo names renombramos las columnas del dataframe"
   ]
  },
  {
   "cell_type": "code",
   "execution_count": 4,
   "metadata": {},
   "outputs": [],
   "source": [
    "newnames<-c(\"CodigoPostal\",\"Barrio\",\"TipoPropiedad\",\"TipoAlquiler\",\"MaxOcupantes\",\"NumBanyos\",\n",
    "\"NumDormitorios\",\"NumCamas\",\"TipoCama\",\"Comodidades\",\"PiesCuadrados\",\"Precio\",\"Puntuacion\")\n",
    "names(airbnb)<-newnames"
   ]
  },
  {
   "cell_type": "code",
   "execution_count": 5,
   "metadata": {},
   "outputs": [
    {
     "data": {
      "text/html": [
       "<table>\n",
       "<caption>A data.frame: 6 × 13</caption>\n",
       "<thead>\n",
       "\t<tr><th scope=col>CodigoPostal</th><th scope=col>Barrio</th><th scope=col>TipoPropiedad</th><th scope=col>TipoAlquiler</th><th scope=col>MaxOcupantes</th><th scope=col>NumBanyos</th><th scope=col>NumDormitorios</th><th scope=col>NumCamas</th><th scope=col>TipoCama</th><th scope=col>Comodidades</th><th scope=col>PiesCuadrados</th><th scope=col>Precio</th><th scope=col>Puntuacion</th></tr>\n",
       "\t<tr><th scope=col>&lt;fct&gt;</th><th scope=col>&lt;fct&gt;</th><th scope=col>&lt;fct&gt;</th><th scope=col>&lt;fct&gt;</th><th scope=col>&lt;int&gt;</th><th scope=col>&lt;dbl&gt;</th><th scope=col>&lt;int&gt;</th><th scope=col>&lt;int&gt;</th><th scope=col>&lt;fct&gt;</th><th scope=col>&lt;fct&gt;</th><th scope=col>&lt;int&gt;</th><th scope=col>&lt;int&gt;</th><th scope=col>&lt;int&gt;</th></tr>\n",
       "</thead>\n",
       "<tbody>\n",
       "\t<tr><td>28004</td><td>Universidad</td><td>Apartment</td><td>Private room   </td><td>2</td><td>2</td><td>1</td><td>1</td><td>Real Bed</td><td>TV,Wireless Internet,Kitchen,Pets allowed,Pets live on this property,Buzzer/wireless intercom,Heating,Suitable for events,Washer,First aid kit,Essentials,Lock on bedroom door,Iron                                                                                                                                                                             </td><td> NA</td><td>35</td><td> NA</td></tr>\n",
       "\t<tr><td>28004</td><td>Universidad</td><td>Apartment</td><td>Entire home/apt</td><td>6</td><td>1</td><td>3</td><td>5</td><td>Real Bed</td><td>TV,Internet,Wireless Internet,Air conditioning,Kitchen,Indoor fireplace,Heating,Family/kid friendly,Washer,Dryer,Smoke detector,Carbon monoxide detector,Essentials,Shampoo                                                                                                                                                                                     </td><td> NA</td><td>92</td><td> 96</td></tr>\n",
       "\t<tr><td>28004</td><td>Universidad</td><td>Apartment</td><td>Entire home/apt</td><td>3</td><td>1</td><td>2</td><td>2</td><td>Real Bed</td><td>TV,Internet,Wireless Internet,Air conditioning,Kitchen,Doorman,Heating,Family/kid friendly,Washer,Essentials,Shampoo,Hangers,Hair dryer,Iron,Laptop friendly workspace                                                                                                                                                                                          </td><td> NA</td><td>55</td><td> 91</td></tr>\n",
       "\t<tr><td>28004</td><td>Universidad</td><td>Loft     </td><td>Entire home/apt</td><td>3</td><td>2</td><td>1</td><td>1</td><td>Real Bed</td><td>TV,Internet,Wireless Internet,Air conditioning,Kitchen,Pets allowed,Breakfast,Elevator in building,Indoor fireplace,Buzzer/wireless intercom,Heating,Washer,Essentials,Shampoo,Hangers,Hair dryer,Iron,Laptop friendly workspace,translation missing: en.hosting_amenity_49,translation missing: en.hosting_amenity_50                                          </td><td> NA</td><td>60</td><td>100</td></tr>\n",
       "\t<tr><td>28015</td><td>Universidad</td><td>Apartment</td><td>Entire home/apt</td><td>5</td><td>1</td><td>1</td><td>1</td><td>Real Bed</td><td>TV,Wireless Internet,Air conditioning,Kitchen,Smoking allowed,Pets allowed,Elevator in building,Heating,Family/kid friendly,Washer,Essentials,Iron                                                                                                                                                                                                              </td><td>538</td><td>75</td><td> 90</td></tr>\n",
       "\t<tr><td>28004</td><td>Universidad</td><td>Apartment</td><td>Entire home/apt</td><td>2</td><td>1</td><td>0</td><td>1</td><td>Real Bed</td><td>TV,Cable TV,Internet,Wireless Internet,Air conditioning,Wheelchair accessible,Kitchen,Doorman,Elevator in building,Buzzer/wireless intercom,Heating,Washer,Smoke detector,Carbon monoxide detector,First aid kit,Safety card,Fire extinguisher,Essentials,Shampoo,24-hour check-in,Hangers,Hair dryer,Iron,Laptop friendly workspace,Self Check-In,Doorman Entry</td><td> NA</td><td>55</td><td> 95</td></tr>\n",
       "</tbody>\n",
       "</table>\n"
      ],
      "text/latex": [
       "A data.frame: 6 × 13\n",
       "\\begin{tabular}{r|lllllllllllll}\n",
       " CodigoPostal & Barrio & TipoPropiedad & TipoAlquiler & MaxOcupantes & NumBanyos & NumDormitorios & NumCamas & TipoCama & Comodidades & PiesCuadrados & Precio & Puntuacion\\\\\n",
       " <fct> & <fct> & <fct> & <fct> & <int> & <dbl> & <int> & <int> & <fct> & <fct> & <int> & <int> & <int>\\\\\n",
       "\\hline\n",
       "\t 28004 & Universidad & Apartment & Private room    & 2 & 2 & 1 & 1 & Real Bed & TV,Wireless Internet,Kitchen,Pets allowed,Pets live on this property,Buzzer/wireless intercom,Heating,Suitable for events,Washer,First aid kit,Essentials,Lock on bedroom door,Iron                                                                                                                                                                              &  NA & 35 &  NA\\\\\n",
       "\t 28004 & Universidad & Apartment & Entire home/apt & 6 & 1 & 3 & 5 & Real Bed & TV,Internet,Wireless Internet,Air conditioning,Kitchen,Indoor fireplace,Heating,Family/kid friendly,Washer,Dryer,Smoke detector,Carbon monoxide detector,Essentials,Shampoo                                                                                                                                                                                      &  NA & 92 &  96\\\\\n",
       "\t 28004 & Universidad & Apartment & Entire home/apt & 3 & 1 & 2 & 2 & Real Bed & TV,Internet,Wireless Internet,Air conditioning,Kitchen,Doorman,Heating,Family/kid friendly,Washer,Essentials,Shampoo,Hangers,Hair dryer,Iron,Laptop friendly workspace                                                                                                                                                                                           &  NA & 55 &  91\\\\\n",
       "\t 28004 & Universidad & Loft      & Entire home/apt & 3 & 2 & 1 & 1 & Real Bed & TV,Internet,Wireless Internet,Air conditioning,Kitchen,Pets allowed,Breakfast,Elevator in building,Indoor fireplace,Buzzer/wireless intercom,Heating,Washer,Essentials,Shampoo,Hangers,Hair dryer,Iron,Laptop friendly workspace,translation missing: en.hosting\\_amenity\\_49,translation missing: en.hosting\\_amenity\\_50                                           &  NA & 60 & 100\\\\\n",
       "\t 28015 & Universidad & Apartment & Entire home/apt & 5 & 1 & 1 & 1 & Real Bed & TV,Wireless Internet,Air conditioning,Kitchen,Smoking allowed,Pets allowed,Elevator in building,Heating,Family/kid friendly,Washer,Essentials,Iron                                                                                                                                                                                                               & 538 & 75 &  90\\\\\n",
       "\t 28004 & Universidad & Apartment & Entire home/apt & 2 & 1 & 0 & 1 & Real Bed & TV,Cable TV,Internet,Wireless Internet,Air conditioning,Wheelchair accessible,Kitchen,Doorman,Elevator in building,Buzzer/wireless intercom,Heating,Washer,Smoke detector,Carbon monoxide detector,First aid kit,Safety card,Fire extinguisher,Essentials,Shampoo,24-hour check-in,Hangers,Hair dryer,Iron,Laptop friendly workspace,Self Check-In,Doorman Entry &  NA & 55 &  95\\\\\n",
       "\\end{tabular}\n"
      ],
      "text/markdown": [
       "\n",
       "A data.frame: 6 × 13\n",
       "\n",
       "| CodigoPostal &lt;fct&gt; | Barrio &lt;fct&gt; | TipoPropiedad &lt;fct&gt; | TipoAlquiler &lt;fct&gt; | MaxOcupantes &lt;int&gt; | NumBanyos &lt;dbl&gt; | NumDormitorios &lt;int&gt; | NumCamas &lt;int&gt; | TipoCama &lt;fct&gt; | Comodidades &lt;fct&gt; | PiesCuadrados &lt;int&gt; | Precio &lt;int&gt; | Puntuacion &lt;int&gt; |\n",
       "|---|---|---|---|---|---|---|---|---|---|---|---|---|\n",
       "| 28004 | Universidad | Apartment | Private room    | 2 | 2 | 1 | 1 | Real Bed | TV,Wireless Internet,Kitchen,Pets allowed,Pets live on this property,Buzzer/wireless intercom,Heating,Suitable for events,Washer,First aid kit,Essentials,Lock on bedroom door,Iron                                                                                                                                                                              |  NA | 35 |  NA |\n",
       "| 28004 | Universidad | Apartment | Entire home/apt | 6 | 1 | 3 | 5 | Real Bed | TV,Internet,Wireless Internet,Air conditioning,Kitchen,Indoor fireplace,Heating,Family/kid friendly,Washer,Dryer,Smoke detector,Carbon monoxide detector,Essentials,Shampoo                                                                                                                                                                                      |  NA | 92 |  96 |\n",
       "| 28004 | Universidad | Apartment | Entire home/apt | 3 | 1 | 2 | 2 | Real Bed | TV,Internet,Wireless Internet,Air conditioning,Kitchen,Doorman,Heating,Family/kid friendly,Washer,Essentials,Shampoo,Hangers,Hair dryer,Iron,Laptop friendly workspace                                                                                                                                                                                           |  NA | 55 |  91 |\n",
       "| 28004 | Universidad | Loft      | Entire home/apt | 3 | 2 | 1 | 1 | Real Bed | TV,Internet,Wireless Internet,Air conditioning,Kitchen,Pets allowed,Breakfast,Elevator in building,Indoor fireplace,Buzzer/wireless intercom,Heating,Washer,Essentials,Shampoo,Hangers,Hair dryer,Iron,Laptop friendly workspace,translation missing: en.hosting_amenity_49,translation missing: en.hosting_amenity_50                                           |  NA | 60 | 100 |\n",
       "| 28015 | Universidad | Apartment | Entire home/apt | 5 | 1 | 1 | 1 | Real Bed | TV,Wireless Internet,Air conditioning,Kitchen,Smoking allowed,Pets allowed,Elevator in building,Heating,Family/kid friendly,Washer,Essentials,Iron                                                                                                                                                                                                               | 538 | 75 |  90 |\n",
       "| 28004 | Universidad | Apartment | Entire home/apt | 2 | 1 | 0 | 1 | Real Bed | TV,Cable TV,Internet,Wireless Internet,Air conditioning,Wheelchair accessible,Kitchen,Doorman,Elevator in building,Buzzer/wireless intercom,Heating,Washer,Smoke detector,Carbon monoxide detector,First aid kit,Safety card,Fire extinguisher,Essentials,Shampoo,24-hour check-in,Hangers,Hair dryer,Iron,Laptop friendly workspace,Self Check-In,Doorman Entry |  NA | 55 |  95 |\n",
       "\n"
      ],
      "text/plain": [
       "  CodigoPostal Barrio      TipoPropiedad TipoAlquiler    MaxOcupantes NumBanyos\n",
       "1 28004        Universidad Apartment     Private room    2            2        \n",
       "2 28004        Universidad Apartment     Entire home/apt 6            1        \n",
       "3 28004        Universidad Apartment     Entire home/apt 3            1        \n",
       "4 28004        Universidad Loft          Entire home/apt 3            2        \n",
       "5 28015        Universidad Apartment     Entire home/apt 5            1        \n",
       "6 28004        Universidad Apartment     Entire home/apt 2            1        \n",
       "  NumDormitorios NumCamas TipoCama\n",
       "1 1              1        Real Bed\n",
       "2 3              5        Real Bed\n",
       "3 2              2        Real Bed\n",
       "4 1              1        Real Bed\n",
       "5 1              1        Real Bed\n",
       "6 0              1        Real Bed\n",
       "  Comodidades                                                                                                                                                                                                                                                                                                                                                     \n",
       "1 TV,Wireless Internet,Kitchen,Pets allowed,Pets live on this property,Buzzer/wireless intercom,Heating,Suitable for events,Washer,First aid kit,Essentials,Lock on bedroom door,Iron                                                                                                                                                                             \n",
       "2 TV,Internet,Wireless Internet,Air conditioning,Kitchen,Indoor fireplace,Heating,Family/kid friendly,Washer,Dryer,Smoke detector,Carbon monoxide detector,Essentials,Shampoo                                                                                                                                                                                     \n",
       "3 TV,Internet,Wireless Internet,Air conditioning,Kitchen,Doorman,Heating,Family/kid friendly,Washer,Essentials,Shampoo,Hangers,Hair dryer,Iron,Laptop friendly workspace                                                                                                                                                                                          \n",
       "4 TV,Internet,Wireless Internet,Air conditioning,Kitchen,Pets allowed,Breakfast,Elevator in building,Indoor fireplace,Buzzer/wireless intercom,Heating,Washer,Essentials,Shampoo,Hangers,Hair dryer,Iron,Laptop friendly workspace,translation missing: en.hosting_amenity_49,translation missing: en.hosting_amenity_50                                          \n",
       "5 TV,Wireless Internet,Air conditioning,Kitchen,Smoking allowed,Pets allowed,Elevator in building,Heating,Family/kid friendly,Washer,Essentials,Iron                                                                                                                                                                                                              \n",
       "6 TV,Cable TV,Internet,Wireless Internet,Air conditioning,Wheelchair accessible,Kitchen,Doorman,Elevator in building,Buzzer/wireless intercom,Heating,Washer,Smoke detector,Carbon monoxide detector,First aid kit,Safety card,Fire extinguisher,Essentials,Shampoo,24-hour check-in,Hangers,Hair dryer,Iron,Laptop friendly workspace,Self Check-In,Doorman Entry\n",
       "  PiesCuadrados Precio Puntuacion\n",
       "1  NA           35      NA       \n",
       "2  NA           92      96       \n",
       "3  NA           55      91       \n",
       "4  NA           60     100       \n",
       "5 538           75      90       \n",
       "6  NA           55      95       "
      ]
     },
     "metadata": {},
     "output_type": "display_data"
    }
   ],
   "source": [
    "head(airbnb)"
   ]
  },
  {
   "cell_type": "markdown",
   "metadata": {},
   "source": [
    "Crea una nueva columna llamada MetrosCuadrados a partir de la columna PiesCuadrados.\n",
    "\n",
    "Ayuda: 1 pie cuadrado son 0,092903 metros cuadrdados"
   ]
  },
  {
   "cell_type": "code",
   "execution_count": 6,
   "metadata": {},
   "outputs": [
    {
     "data": {
      "text/html": [
       "'creo la nueva columna con el calculo, lo redondeo a dos decimales'"
      ],
      "text/latex": [
       "'creo la nueva columna con el calculo, lo redondeo a dos decimales'"
      ],
      "text/markdown": [
       "'creo la nueva columna con el calculo, lo redondeo a dos decimales'"
      ],
      "text/plain": [
       "[1] \"creo la nueva columna con el calculo, lo redondeo a dos decimales\""
      ]
     },
     "metadata": {},
     "output_type": "display_data"
    }
   ],
   "source": [
    "paste('creo la nueva columna con el calculo, lo redondeo a dos decimales')\n",
    "airbnb$MetrosCuadrados<-round(airbnb$PiesCuadrados* 0.092903,2)\n"
   ]
  },
  {
   "cell_type": "code",
   "execution_count": 7,
   "metadata": {},
   "outputs": [
    {
     "data": {
      "text/html": [
       "<table>\n",
       "<caption>A data.frame: 6 × 14</caption>\n",
       "<thead>\n",
       "\t<tr><th scope=col>CodigoPostal</th><th scope=col>Barrio</th><th scope=col>TipoPropiedad</th><th scope=col>TipoAlquiler</th><th scope=col>MaxOcupantes</th><th scope=col>NumBanyos</th><th scope=col>NumDormitorios</th><th scope=col>NumCamas</th><th scope=col>TipoCama</th><th scope=col>Comodidades</th><th scope=col>PiesCuadrados</th><th scope=col>Precio</th><th scope=col>Puntuacion</th><th scope=col>MetrosCuadrados</th></tr>\n",
       "\t<tr><th scope=col>&lt;fct&gt;</th><th scope=col>&lt;fct&gt;</th><th scope=col>&lt;fct&gt;</th><th scope=col>&lt;fct&gt;</th><th scope=col>&lt;int&gt;</th><th scope=col>&lt;dbl&gt;</th><th scope=col>&lt;int&gt;</th><th scope=col>&lt;int&gt;</th><th scope=col>&lt;fct&gt;</th><th scope=col>&lt;fct&gt;</th><th scope=col>&lt;int&gt;</th><th scope=col>&lt;int&gt;</th><th scope=col>&lt;int&gt;</th><th scope=col>&lt;dbl&gt;</th></tr>\n",
       "</thead>\n",
       "<tbody>\n",
       "\t<tr><td>28004</td><td>Universidad</td><td>Apartment</td><td>Private room   </td><td>2</td><td>2</td><td>1</td><td>1</td><td>Real Bed</td><td>TV,Wireless Internet,Kitchen,Pets allowed,Pets live on this property,Buzzer/wireless intercom,Heating,Suitable for events,Washer,First aid kit,Essentials,Lock on bedroom door,Iron                                                                                                                                                                             </td><td> NA</td><td>35</td><td> NA</td><td>   NA</td></tr>\n",
       "\t<tr><td>28004</td><td>Universidad</td><td>Apartment</td><td>Entire home/apt</td><td>6</td><td>1</td><td>3</td><td>5</td><td>Real Bed</td><td>TV,Internet,Wireless Internet,Air conditioning,Kitchen,Indoor fireplace,Heating,Family/kid friendly,Washer,Dryer,Smoke detector,Carbon monoxide detector,Essentials,Shampoo                                                                                                                                                                                     </td><td> NA</td><td>92</td><td> 96</td><td>   NA</td></tr>\n",
       "\t<tr><td>28004</td><td>Universidad</td><td>Apartment</td><td>Entire home/apt</td><td>3</td><td>1</td><td>2</td><td>2</td><td>Real Bed</td><td>TV,Internet,Wireless Internet,Air conditioning,Kitchen,Doorman,Heating,Family/kid friendly,Washer,Essentials,Shampoo,Hangers,Hair dryer,Iron,Laptop friendly workspace                                                                                                                                                                                          </td><td> NA</td><td>55</td><td> 91</td><td>   NA</td></tr>\n",
       "\t<tr><td>28004</td><td>Universidad</td><td>Loft     </td><td>Entire home/apt</td><td>3</td><td>2</td><td>1</td><td>1</td><td>Real Bed</td><td>TV,Internet,Wireless Internet,Air conditioning,Kitchen,Pets allowed,Breakfast,Elevator in building,Indoor fireplace,Buzzer/wireless intercom,Heating,Washer,Essentials,Shampoo,Hangers,Hair dryer,Iron,Laptop friendly workspace,translation missing: en.hosting_amenity_49,translation missing: en.hosting_amenity_50                                          </td><td> NA</td><td>60</td><td>100</td><td>   NA</td></tr>\n",
       "\t<tr><td>28015</td><td>Universidad</td><td>Apartment</td><td>Entire home/apt</td><td>5</td><td>1</td><td>1</td><td>1</td><td>Real Bed</td><td>TV,Wireless Internet,Air conditioning,Kitchen,Smoking allowed,Pets allowed,Elevator in building,Heating,Family/kid friendly,Washer,Essentials,Iron                                                                                                                                                                                                              </td><td>538</td><td>75</td><td> 90</td><td>49.98</td></tr>\n",
       "\t<tr><td>28004</td><td>Universidad</td><td>Apartment</td><td>Entire home/apt</td><td>2</td><td>1</td><td>0</td><td>1</td><td>Real Bed</td><td>TV,Cable TV,Internet,Wireless Internet,Air conditioning,Wheelchair accessible,Kitchen,Doorman,Elevator in building,Buzzer/wireless intercom,Heating,Washer,Smoke detector,Carbon monoxide detector,First aid kit,Safety card,Fire extinguisher,Essentials,Shampoo,24-hour check-in,Hangers,Hair dryer,Iron,Laptop friendly workspace,Self Check-In,Doorman Entry</td><td> NA</td><td>55</td><td> 95</td><td>   NA</td></tr>\n",
       "</tbody>\n",
       "</table>\n"
      ],
      "text/latex": [
       "A data.frame: 6 × 14\n",
       "\\begin{tabular}{r|llllllllllllll}\n",
       " CodigoPostal & Barrio & TipoPropiedad & TipoAlquiler & MaxOcupantes & NumBanyos & NumDormitorios & NumCamas & TipoCama & Comodidades & PiesCuadrados & Precio & Puntuacion & MetrosCuadrados\\\\\n",
       " <fct> & <fct> & <fct> & <fct> & <int> & <dbl> & <int> & <int> & <fct> & <fct> & <int> & <int> & <int> & <dbl>\\\\\n",
       "\\hline\n",
       "\t 28004 & Universidad & Apartment & Private room    & 2 & 2 & 1 & 1 & Real Bed & TV,Wireless Internet,Kitchen,Pets allowed,Pets live on this property,Buzzer/wireless intercom,Heating,Suitable for events,Washer,First aid kit,Essentials,Lock on bedroom door,Iron                                                                                                                                                                              &  NA & 35 &  NA &    NA\\\\\n",
       "\t 28004 & Universidad & Apartment & Entire home/apt & 6 & 1 & 3 & 5 & Real Bed & TV,Internet,Wireless Internet,Air conditioning,Kitchen,Indoor fireplace,Heating,Family/kid friendly,Washer,Dryer,Smoke detector,Carbon monoxide detector,Essentials,Shampoo                                                                                                                                                                                      &  NA & 92 &  96 &    NA\\\\\n",
       "\t 28004 & Universidad & Apartment & Entire home/apt & 3 & 1 & 2 & 2 & Real Bed & TV,Internet,Wireless Internet,Air conditioning,Kitchen,Doorman,Heating,Family/kid friendly,Washer,Essentials,Shampoo,Hangers,Hair dryer,Iron,Laptop friendly workspace                                                                                                                                                                                           &  NA & 55 &  91 &    NA\\\\\n",
       "\t 28004 & Universidad & Loft      & Entire home/apt & 3 & 2 & 1 & 1 & Real Bed & TV,Internet,Wireless Internet,Air conditioning,Kitchen,Pets allowed,Breakfast,Elevator in building,Indoor fireplace,Buzzer/wireless intercom,Heating,Washer,Essentials,Shampoo,Hangers,Hair dryer,Iron,Laptop friendly workspace,translation missing: en.hosting\\_amenity\\_49,translation missing: en.hosting\\_amenity\\_50                                           &  NA & 60 & 100 &    NA\\\\\n",
       "\t 28015 & Universidad & Apartment & Entire home/apt & 5 & 1 & 1 & 1 & Real Bed & TV,Wireless Internet,Air conditioning,Kitchen,Smoking allowed,Pets allowed,Elevator in building,Heating,Family/kid friendly,Washer,Essentials,Iron                                                                                                                                                                                                               & 538 & 75 &  90 & 49.98\\\\\n",
       "\t 28004 & Universidad & Apartment & Entire home/apt & 2 & 1 & 0 & 1 & Real Bed & TV,Cable TV,Internet,Wireless Internet,Air conditioning,Wheelchair accessible,Kitchen,Doorman,Elevator in building,Buzzer/wireless intercom,Heating,Washer,Smoke detector,Carbon monoxide detector,First aid kit,Safety card,Fire extinguisher,Essentials,Shampoo,24-hour check-in,Hangers,Hair dryer,Iron,Laptop friendly workspace,Self Check-In,Doorman Entry &  NA & 55 &  95 &    NA\\\\\n",
       "\\end{tabular}\n"
      ],
      "text/markdown": [
       "\n",
       "A data.frame: 6 × 14\n",
       "\n",
       "| CodigoPostal &lt;fct&gt; | Barrio &lt;fct&gt; | TipoPropiedad &lt;fct&gt; | TipoAlquiler &lt;fct&gt; | MaxOcupantes &lt;int&gt; | NumBanyos &lt;dbl&gt; | NumDormitorios &lt;int&gt; | NumCamas &lt;int&gt; | TipoCama &lt;fct&gt; | Comodidades &lt;fct&gt; | PiesCuadrados &lt;int&gt; | Precio &lt;int&gt; | Puntuacion &lt;int&gt; | MetrosCuadrados &lt;dbl&gt; |\n",
       "|---|---|---|---|---|---|---|---|---|---|---|---|---|---|\n",
       "| 28004 | Universidad | Apartment | Private room    | 2 | 2 | 1 | 1 | Real Bed | TV,Wireless Internet,Kitchen,Pets allowed,Pets live on this property,Buzzer/wireless intercom,Heating,Suitable for events,Washer,First aid kit,Essentials,Lock on bedroom door,Iron                                                                                                                                                                              |  NA | 35 |  NA |    NA |\n",
       "| 28004 | Universidad | Apartment | Entire home/apt | 6 | 1 | 3 | 5 | Real Bed | TV,Internet,Wireless Internet,Air conditioning,Kitchen,Indoor fireplace,Heating,Family/kid friendly,Washer,Dryer,Smoke detector,Carbon monoxide detector,Essentials,Shampoo                                                                                                                                                                                      |  NA | 92 |  96 |    NA |\n",
       "| 28004 | Universidad | Apartment | Entire home/apt | 3 | 1 | 2 | 2 | Real Bed | TV,Internet,Wireless Internet,Air conditioning,Kitchen,Doorman,Heating,Family/kid friendly,Washer,Essentials,Shampoo,Hangers,Hair dryer,Iron,Laptop friendly workspace                                                                                                                                                                                           |  NA | 55 |  91 |    NA |\n",
       "| 28004 | Universidad | Loft      | Entire home/apt | 3 | 2 | 1 | 1 | Real Bed | TV,Internet,Wireless Internet,Air conditioning,Kitchen,Pets allowed,Breakfast,Elevator in building,Indoor fireplace,Buzzer/wireless intercom,Heating,Washer,Essentials,Shampoo,Hangers,Hair dryer,Iron,Laptop friendly workspace,translation missing: en.hosting_amenity_49,translation missing: en.hosting_amenity_50                                           |  NA | 60 | 100 |    NA |\n",
       "| 28015 | Universidad | Apartment | Entire home/apt | 5 | 1 | 1 | 1 | Real Bed | TV,Wireless Internet,Air conditioning,Kitchen,Smoking allowed,Pets allowed,Elevator in building,Heating,Family/kid friendly,Washer,Essentials,Iron                                                                                                                                                                                                               | 538 | 75 |  90 | 49.98 |\n",
       "| 28004 | Universidad | Apartment | Entire home/apt | 2 | 1 | 0 | 1 | Real Bed | TV,Cable TV,Internet,Wireless Internet,Air conditioning,Wheelchair accessible,Kitchen,Doorman,Elevator in building,Buzzer/wireless intercom,Heating,Washer,Smoke detector,Carbon monoxide detector,First aid kit,Safety card,Fire extinguisher,Essentials,Shampoo,24-hour check-in,Hangers,Hair dryer,Iron,Laptop friendly workspace,Self Check-In,Doorman Entry |  NA | 55 |  95 |    NA |\n",
       "\n"
      ],
      "text/plain": [
       "  CodigoPostal Barrio      TipoPropiedad TipoAlquiler    MaxOcupantes NumBanyos\n",
       "1 28004        Universidad Apartment     Private room    2            2        \n",
       "2 28004        Universidad Apartment     Entire home/apt 6            1        \n",
       "3 28004        Universidad Apartment     Entire home/apt 3            1        \n",
       "4 28004        Universidad Loft          Entire home/apt 3            2        \n",
       "5 28015        Universidad Apartment     Entire home/apt 5            1        \n",
       "6 28004        Universidad Apartment     Entire home/apt 2            1        \n",
       "  NumDormitorios NumCamas TipoCama\n",
       "1 1              1        Real Bed\n",
       "2 3              5        Real Bed\n",
       "3 2              2        Real Bed\n",
       "4 1              1        Real Bed\n",
       "5 1              1        Real Bed\n",
       "6 0              1        Real Bed\n",
       "  Comodidades                                                                                                                                                                                                                                                                                                                                                     \n",
       "1 TV,Wireless Internet,Kitchen,Pets allowed,Pets live on this property,Buzzer/wireless intercom,Heating,Suitable for events,Washer,First aid kit,Essentials,Lock on bedroom door,Iron                                                                                                                                                                             \n",
       "2 TV,Internet,Wireless Internet,Air conditioning,Kitchen,Indoor fireplace,Heating,Family/kid friendly,Washer,Dryer,Smoke detector,Carbon monoxide detector,Essentials,Shampoo                                                                                                                                                                                     \n",
       "3 TV,Internet,Wireless Internet,Air conditioning,Kitchen,Doorman,Heating,Family/kid friendly,Washer,Essentials,Shampoo,Hangers,Hair dryer,Iron,Laptop friendly workspace                                                                                                                                                                                          \n",
       "4 TV,Internet,Wireless Internet,Air conditioning,Kitchen,Pets allowed,Breakfast,Elevator in building,Indoor fireplace,Buzzer/wireless intercom,Heating,Washer,Essentials,Shampoo,Hangers,Hair dryer,Iron,Laptop friendly workspace,translation missing: en.hosting_amenity_49,translation missing: en.hosting_amenity_50                                          \n",
       "5 TV,Wireless Internet,Air conditioning,Kitchen,Smoking allowed,Pets allowed,Elevator in building,Heating,Family/kid friendly,Washer,Essentials,Iron                                                                                                                                                                                                              \n",
       "6 TV,Cable TV,Internet,Wireless Internet,Air conditioning,Wheelchair accessible,Kitchen,Doorman,Elevator in building,Buzzer/wireless intercom,Heating,Washer,Smoke detector,Carbon monoxide detector,First aid kit,Safety card,Fire extinguisher,Essentials,Shampoo,24-hour check-in,Hangers,Hair dryer,Iron,Laptop friendly workspace,Self Check-In,Doorman Entry\n",
       "  PiesCuadrados Precio Puntuacion MetrosCuadrados\n",
       "1  NA           35      NA           NA          \n",
       "2  NA           92      96           NA          \n",
       "3  NA           55      91           NA          \n",
       "4  NA           60     100           NA          \n",
       "5 538           75      90        49.98          \n",
       "6  NA           55      95           NA          "
      ]
     },
     "metadata": {},
     "output_type": "display_data"
    }
   ],
   "source": [
    "head(airbnb)\n"
   ]
  },
  {
   "cell_type": "markdown",
   "metadata": {},
   "source": [
    "Miremos el código postal. Es una variable con entradas erroneas.\n",
    "Hay valores como '', '-'  y '28' que deberían ser considerados como NA.\n",
    "Así mismo también debería ser NA todos los que no compiencen por 28, ya que estamos con códigos postales de Madrid\n",
    "\n",
    "El código postal 28002, 28004 y 28051 tienen entradas repetidas. \n",
    "Por ejemplo las entradas 28002\\n20882 deberían ir dnetro de 28002\n",
    "\n",
    "El codigo 2804 debería ser 28004, 2805 deberia ser 28005 y 2815 juncto con 2815 debería ser 28015\n",
    "\n",
    "Limpia los datos de la columna Codigo Postal"
   ]
  },
  {
   "cell_type": "code",
   "execution_count": 8,
   "metadata": {},
   "outputs": [],
   "source": [
    "airbnb$CodigoPostal[airbnb$CodigoPostal==\"\"]<-NA\n",
    "airbnb$CodigoPostal[airbnb$CodigoPostal==\"-\"]<-NA\n",
    "airbnb$CodigoPostal[airbnb$CodigoPostal==\"28\"]<-NA\n",
    "airbnb$CodigoPostal[airbnb$CodigoPostal==\"28002\\n28002\"]<-'28002'\n",
    "airbnb$CodigoPostal[airbnb$CodigoPostal==\"28051\\n28051\"]<-'28051'\n",
    "airbnb$CodigoPostal[airbnb$CodigoPostal==\"2804\"]<-'28004'\n",
    "airbnb$CodigoPostal[airbnb$CodigoPostal==\"2805\"]<-'28005'\n",
    "airbnb$CodigoPostal[airbnb$CodigoPostal==\"2815\"]<-'28015'\n",
    "airbnb$CodigoPostal[grepl(\"^28\",airbnb$CodigoPostal)==FALSE]<-NA\n",
    "\n"
   ]
  },
  {
   "cell_type": "markdown",
   "metadata": {},
   "source": [
    "## <font color='red'>**Comentarios**</font>\n",
    "\n",
    "Un pequeño truco, también puedes usar la siguiente linea para comprimir 3 líneas en una:Un pequeño truco, también puedes usar:\n",
    "\n",
    "`airbnb$CodigoPostal[airbnb$CodigoPostal %in% c('','-','28')]<-NA`"
   ]
  },
  {
   "cell_type": "markdown",
   "metadata": {},
   "source": [
    "Una vez limpios los datos ¿Cuales son los códigos postales que tenemos? "
   ]
  },
  {
   "cell_type": "code",
   "execution_count": 9,
   "metadata": {},
   "outputs": [
    {
     "data": {
      "text/html": [
       "<ol class=list-inline>\n",
       "\t<li>28004</li>\n",
       "\t<li>28015</li>\n",
       "\t<li>28013</li>\n",
       "\t<li>28005</li>\n",
       "\t<li>28012</li>\n",
       "\t<li>28014</li>\n",
       "\t<li>28045</li>\n",
       "\t<li>28007</li>\n",
       "\t<li>28028</li>\n",
       "\t<li>28009</li>\n",
       "\t<li>28001</li>\n",
       "\t<li>28006</li>\n",
       "\t<li>28010</li>\n",
       "\t<li>28002</li>\n",
       "\t<li>28034</li>\n",
       "\t<li>28050</li>\n",
       "\t<li>28008</li>\n",
       "\t<li>28011</li>\n",
       "\t<li>28049</li>\n",
       "\t<li>28038</li>\n",
       "\t<li>28053</li>\n",
       "\t<li>28047</li>\n",
       "\t<li>28025</li>\n",
       "\t<li>28019</li>\n",
       "\t<li>28024</li>\n",
       "\t<li>28016</li>\n",
       "\t<li>28036</li>\n",
       "\t<li>28046</li>\n",
       "\t<li>28039</li>\n",
       "\t<li>28020</li>\n",
       "\t<li>28003</li>\n",
       "\t<li>28029</li>\n",
       "\t<li>28054</li>\n",
       "\t<li>28041</li>\n",
       "\t<li>28026</li>\n",
       "\t<li>28058</li>\n",
       "\t<li>28018</li>\n",
       "\t<li>28030</li>\n",
       "\t<li>28017</li>\n",
       "\t<li>28027</li>\n",
       "\t<li>28043</li>\n",
       "\t<li>28033</li>\n",
       "\t<li>28055</li>\n",
       "\t<li>28021</li>\n",
       "\t<li>28032</li>\n",
       "\t<li>28037</li>\n",
       "\t<li>28022</li>\n",
       "\t<li>28042</li>\n",
       "\t<li>28094</li>\n",
       "\t<li>280013</li>\n",
       "\t<li>28035</li>\n",
       "\t<li>28040</li>\n",
       "\t<li>28031</li>\n",
       "\t<li>28044</li>\n",
       "\t<li>28105</li>\n",
       "\t<li>28023</li>\n",
       "\t<li>28051</li>\n",
       "\t<li>28850</li>\n",
       "\t<li>28048</li>\n",
       "\t<li>28056</li>\n",
       "\t<li>28060</li>\n",
       "\t<li>28052</li>\n",
       "</ol>\n",
       "\n",
       "<details>\n",
       "\t<summary style=display:list-item;cursor:pointer>\n",
       "\t\t<strong>Levels</strong>:\n",
       "\t</summary>\n",
       "\t<ol class=list-inline>\n",
       "\t\t<li>''</li>\n",
       "\t\t<li>'-'</li>\n",
       "\t\t<li>'20013'</li>\n",
       "\t\t<li>'20126'</li>\n",
       "\t\t<li>'2015'</li>\n",
       "\t\t<li>'25008'</li>\n",
       "\t\t<li>'27004'</li>\n",
       "\t\t<li>'27013'</li>\n",
       "\t\t<li>'28'</li>\n",
       "\t\t<li>'28001'</li>\n",
       "\t\t<li>'280013'</li>\n",
       "\t\t<li>'28002'</li>\n",
       "\t\t<li>'28002\\n28002'</li>\n",
       "\t\t<li>'28003'</li>\n",
       "\t\t<li>'28004'</li>\n",
       "\t\t<li>'28005'</li>\n",
       "\t\t<li>'28006'</li>\n",
       "\t\t<li>'28007'</li>\n",
       "\t\t<li>'28008'</li>\n",
       "\t\t<li>'28009'</li>\n",
       "\t\t<li>'28010'</li>\n",
       "\t\t<li>'28011'</li>\n",
       "\t\t<li>'28012'</li>\n",
       "\t\t<li>'28013'</li>\n",
       "\t\t<li>'28014'</li>\n",
       "\t\t<li>'28015'</li>\n",
       "\t\t<li>'28016'</li>\n",
       "\t\t<li>'28017'</li>\n",
       "\t\t<li>'28018'</li>\n",
       "\t\t<li>'28019'</li>\n",
       "\t\t<li>'28020'</li>\n",
       "\t\t<li>'28021'</li>\n",
       "\t\t<li>'28022'</li>\n",
       "\t\t<li>'28023'</li>\n",
       "\t\t<li>'28024'</li>\n",
       "\t\t<li>'28025'</li>\n",
       "\t\t<li>'28026'</li>\n",
       "\t\t<li>'28027'</li>\n",
       "\t\t<li>'28028'</li>\n",
       "\t\t<li>'28029'</li>\n",
       "\t\t<li>'28030'</li>\n",
       "\t\t<li>'28031'</li>\n",
       "\t\t<li>'28032'</li>\n",
       "\t\t<li>'28033'</li>\n",
       "\t\t<li>'28034'</li>\n",
       "\t\t<li>'28035'</li>\n",
       "\t\t<li>'28036'</li>\n",
       "\t\t<li>'28037'</li>\n",
       "\t\t<li>'28038'</li>\n",
       "\t\t<li>'28039'</li>\n",
       "\t\t<li>'2804'</li>\n",
       "\t\t<li>'28040'</li>\n",
       "\t\t<li>'28041'</li>\n",
       "\t\t<li>'28042'</li>\n",
       "\t\t<li>'28043'</li>\n",
       "\t\t<li>'28044'</li>\n",
       "\t\t<li>'28045'</li>\n",
       "\t\t<li>'28046'</li>\n",
       "\t\t<li>'28047'</li>\n",
       "\t\t<li>'28048'</li>\n",
       "\t\t<li>'28049'</li>\n",
       "\t\t<li>'2805'</li>\n",
       "\t\t<li>'28050'</li>\n",
       "\t\t<li>'28051'</li>\n",
       "\t\t<li>'28051\\n28051'</li>\n",
       "\t\t<li>'28052'</li>\n",
       "\t\t<li>'28053'</li>\n",
       "\t\t<li>'28054'</li>\n",
       "\t\t<li>'28055'</li>\n",
       "\t\t<li>'28056'</li>\n",
       "\t\t<li>'28058'</li>\n",
       "\t\t<li>'28060'</li>\n",
       "\t\t<li>'28094'</li>\n",
       "\t\t<li>'28105'</li>\n",
       "\t\t<li>'2815'</li>\n",
       "\t\t<li>'28850'</li>\n",
       "\t\t<li>'Madrid 28004'</li>\n",
       "\t</ol>\n",
       "</details>"
      ],
      "text/latex": [
       "\\begin{enumerate*}\n",
       "\\item 28004\n",
       "\\item 28015\n",
       "\\item 28013\n",
       "\\item 28005\n",
       "\\item 28012\n",
       "\\item 28014\n",
       "\\item 28045\n",
       "\\item 28007\n",
       "\\item 28028\n",
       "\\item 28009\n",
       "\\item 28001\n",
       "\\item 28006\n",
       "\\item 28010\n",
       "\\item 28002\n",
       "\\item 28034\n",
       "\\item 28050\n",
       "\\item 28008\n",
       "\\item 28011\n",
       "\\item 28049\n",
       "\\item 28038\n",
       "\\item 28053\n",
       "\\item 28047\n",
       "\\item 28025\n",
       "\\item 28019\n",
       "\\item 28024\n",
       "\\item 28016\n",
       "\\item 28036\n",
       "\\item 28046\n",
       "\\item 28039\n",
       "\\item 28020\n",
       "\\item 28003\n",
       "\\item 28029\n",
       "\\item 28054\n",
       "\\item 28041\n",
       "\\item 28026\n",
       "\\item 28058\n",
       "\\item 28018\n",
       "\\item 28030\n",
       "\\item 28017\n",
       "\\item 28027\n",
       "\\item 28043\n",
       "\\item 28033\n",
       "\\item 28055\n",
       "\\item 28021\n",
       "\\item 28032\n",
       "\\item 28037\n",
       "\\item 28022\n",
       "\\item 28042\n",
       "\\item 28094\n",
       "\\item 280013\n",
       "\\item 28035\n",
       "\\item 28040\n",
       "\\item 28031\n",
       "\\item 28044\n",
       "\\item 28105\n",
       "\\item 28023\n",
       "\\item 28051\n",
       "\\item 28850\n",
       "\\item 28048\n",
       "\\item 28056\n",
       "\\item 28060\n",
       "\\item 28052\n",
       "\\end{enumerate*}\n",
       "\n",
       "\\emph{Levels}: \\begin{enumerate*}\n",
       "\\item ''\n",
       "\\item '-'\n",
       "\\item '20013'\n",
       "\\item '20126'\n",
       "\\item '2015'\n",
       "\\item '25008'\n",
       "\\item '27004'\n",
       "\\item '27013'\n",
       "\\item '28'\n",
       "\\item '28001'\n",
       "\\item '280013'\n",
       "\\item '28002'\n",
       "\\item '28002\\textbackslash{}n28002'\n",
       "\\item '28003'\n",
       "\\item '28004'\n",
       "\\item '28005'\n",
       "\\item '28006'\n",
       "\\item '28007'\n",
       "\\item '28008'\n",
       "\\item '28009'\n",
       "\\item '28010'\n",
       "\\item '28011'\n",
       "\\item '28012'\n",
       "\\item '28013'\n",
       "\\item '28014'\n",
       "\\item '28015'\n",
       "\\item '28016'\n",
       "\\item '28017'\n",
       "\\item '28018'\n",
       "\\item '28019'\n",
       "\\item '28020'\n",
       "\\item '28021'\n",
       "\\item '28022'\n",
       "\\item '28023'\n",
       "\\item '28024'\n",
       "\\item '28025'\n",
       "\\item '28026'\n",
       "\\item '28027'\n",
       "\\item '28028'\n",
       "\\item '28029'\n",
       "\\item '28030'\n",
       "\\item '28031'\n",
       "\\item '28032'\n",
       "\\item '28033'\n",
       "\\item '28034'\n",
       "\\item '28035'\n",
       "\\item '28036'\n",
       "\\item '28037'\n",
       "\\item '28038'\n",
       "\\item '28039'\n",
       "\\item '2804'\n",
       "\\item '28040'\n",
       "\\item '28041'\n",
       "\\item '28042'\n",
       "\\item '28043'\n",
       "\\item '28044'\n",
       "\\item '28045'\n",
       "\\item '28046'\n",
       "\\item '28047'\n",
       "\\item '28048'\n",
       "\\item '28049'\n",
       "\\item '2805'\n",
       "\\item '28050'\n",
       "\\item '28051'\n",
       "\\item '28051\\textbackslash{}n28051'\n",
       "\\item '28052'\n",
       "\\item '28053'\n",
       "\\item '28054'\n",
       "\\item '28055'\n",
       "\\item '28056'\n",
       "\\item '28058'\n",
       "\\item '28060'\n",
       "\\item '28094'\n",
       "\\item '28105'\n",
       "\\item '2815'\n",
       "\\item '28850'\n",
       "\\item 'Madrid 28004'\n",
       "\\end{enumerate*}\n"
      ],
      "text/markdown": [
       "1. 28004\n",
       "2. 28015\n",
       "3. 28013\n",
       "4. 28005\n",
       "5. 28012\n",
       "6. 28014\n",
       "7. 28045\n",
       "8. 28007\n",
       "9. 28028\n",
       "10. 28009\n",
       "11. 28001\n",
       "12. 28006\n",
       "13. 28010\n",
       "14. 28002\n",
       "15. 28034\n",
       "16. 28050\n",
       "17. 28008\n",
       "18. 28011\n",
       "19. 28049\n",
       "20. 28038\n",
       "21. 28053\n",
       "22. 28047\n",
       "23. 28025\n",
       "24. 28019\n",
       "25. 28024\n",
       "26. 28016\n",
       "27. 28036\n",
       "28. 28046\n",
       "29. 28039\n",
       "30. 28020\n",
       "31. 28003\n",
       "32. 28029\n",
       "33. 28054\n",
       "34. 28041\n",
       "35. 28026\n",
       "36. 28058\n",
       "37. 28018\n",
       "38. 28030\n",
       "39. 28017\n",
       "40. 28027\n",
       "41. 28043\n",
       "42. 28033\n",
       "43. 28055\n",
       "44. 28021\n",
       "45. 28032\n",
       "46. 28037\n",
       "47. 28022\n",
       "48. 28042\n",
       "49. 28094\n",
       "50. 280013\n",
       "51. 28035\n",
       "52. 28040\n",
       "53. 28031\n",
       "54. 28044\n",
       "55. 28105\n",
       "56. 28023\n",
       "57. 28051\n",
       "58. 28850\n",
       "59. 28048\n",
       "60. 28056\n",
       "61. 28060\n",
       "62. 28052\n",
       "\n",
       "\n",
       "\n",
       "**Levels**: 1. ''\n",
       "2. '-'\n",
       "3. '20013'\n",
       "4. '20126'\n",
       "5. '2015'\n",
       "6. '25008'\n",
       "7. '27004'\n",
       "8. '27013'\n",
       "9. '28'\n",
       "10. '28001'\n",
       "11. '280013'\n",
       "12. '28002'\n",
       "13. '28002\\n28002'\n",
       "14. '28003'\n",
       "15. '28004'\n",
       "16. '28005'\n",
       "17. '28006'\n",
       "18. '28007'\n",
       "19. '28008'\n",
       "20. '28009'\n",
       "21. '28010'\n",
       "22. '28011'\n",
       "23. '28012'\n",
       "24. '28013'\n",
       "25. '28014'\n",
       "26. '28015'\n",
       "27. '28016'\n",
       "28. '28017'\n",
       "29. '28018'\n",
       "30. '28019'\n",
       "31. '28020'\n",
       "32. '28021'\n",
       "33. '28022'\n",
       "34. '28023'\n",
       "35. '28024'\n",
       "36. '28025'\n",
       "37. '28026'\n",
       "38. '28027'\n",
       "39. '28028'\n",
       "40. '28029'\n",
       "41. '28030'\n",
       "42. '28031'\n",
       "43. '28032'\n",
       "44. '28033'\n",
       "45. '28034'\n",
       "46. '28035'\n",
       "47. '28036'\n",
       "48. '28037'\n",
       "49. '28038'\n",
       "50. '28039'\n",
       "51. '2804'\n",
       "52. '28040'\n",
       "53. '28041'\n",
       "54. '28042'\n",
       "55. '28043'\n",
       "56. '28044'\n",
       "57. '28045'\n",
       "58. '28046'\n",
       "59. '28047'\n",
       "60. '28048'\n",
       "61. '28049'\n",
       "62. '2805'\n",
       "63. '28050'\n",
       "64. '28051'\n",
       "65. '28051\\n28051'\n",
       "66. '28052'\n",
       "67. '28053'\n",
       "68. '28054'\n",
       "69. '28055'\n",
       "70. '28056'\n",
       "71. '28058'\n",
       "72. '28060'\n",
       "73. '28094'\n",
       "74. '28105'\n",
       "75. '2815'\n",
       "76. '28850'\n",
       "77. 'Madrid 28004'\n",
       "\n",
       "\n"
      ],
      "text/plain": [
       " [1] 28004  28015  28013  28005  28012  28014  28045  28007  28028  28009 \n",
       "[11] 28001  28006  28010  28002  28034  28050  28008  28011  28049  28038 \n",
       "[21] 28053  28047  28025  28019  28024  28016  28036  28046  28039  28020 \n",
       "[31] 28003  28029  28054  28041  28026  28058  28018  28030  28017  28027 \n",
       "[41] 28043  28033  28055  28021  28032  28037  28022  28042  28094  280013\n",
       "[51] 28035  28040  28031  28044  28105  28023  28051  28850  28048  28056 \n",
       "[61] 28060  28052 \n",
       "attr(,\"na.action\")\n",
       "[1] 8\n",
       "attr(,\"class\")\n",
       "[1] omit\n",
       "77 Levels:  - 20013 20126 2015 25008 27004 27013 28 28001 280013 ... Madrid 28004"
      ]
     },
     "metadata": {},
     "output_type": "display_data"
    }
   ],
   "source": [
    "na.omit(unique(airbnb$CodigoPostal))"
   ]
  },
  {
   "cell_type": "markdown",
   "metadata": {},
   "source": [
    "¿Cuales son los 5 códigos postales con más entradas? ¿Y con menos? ¿Cuantas entradas tienen?"
   ]
  },
  {
   "cell_type": "code",
   "execution_count": 10,
   "metadata": {},
   "outputs": [
    {
     "data": {
      "text/plain": [
       "dfCodigo\n",
       "28012 28004 28005 28013 28014 \n",
       " 2060  1795  1195  1019   630 "
      ]
     },
     "metadata": {},
     "output_type": "display_data"
    },
    {
     "data": {
      "text/html": [
       "'cuento los que tienen entrada mayor que 0 ya que habia codigos postales con 0'"
      ],
      "text/latex": [
       "'cuento los que tienen entrada mayor que 0 ya que habia codigos postales con 0'"
      ],
      "text/markdown": [
       "'cuento los que tienen entrada mayor que 0 ya que habia codigos postales con 0'"
      ],
      "text/plain": [
       "[1] \"cuento los que tienen entrada mayor que 0 ya que habia codigos postales con 0\""
      ]
     },
     "metadata": {},
     "output_type": "display_data"
    },
    {
     "data": {
      "text/plain": [
       "dfCodigo\n",
       "280013  28048  28052  28056  28058  28060 \n",
       "     1      1      1      1      1      1 "
      ]
     },
     "metadata": {},
     "output_type": "display_data"
    }
   ],
   "source": [
    "dfCodigo<-data.frame(airbnb$CodigoPostal)\n",
    "tbl_cp<-table(dfCodigo)\n",
    "sort(tbl_cp, decreasing = TRUE)[1:5]\n",
    "\n",
    "paste('cuento los que tienen entrada mayor que 0 ya que habia codigos postales con 0')\n",
    "zero<-sum(as.numeric(tbl_cp)==0)+1\n",
    "sort(tbl_cp, decreasing = FALSE)[zero:(zero+5)]\n",
    "\n"
   ]
  },
  {
   "cell_type": "markdown",
   "metadata": {},
   "source": [
    "## <font color='red'>**Comentarios**</font>\n",
    "\n",
    "Otra forma de hacerlo es usando droplevels() o factor() para cambiar el factor y quitar los niveles con 0 entradas"
   ]
  },
  {
   "cell_type": "code",
   "execution_count": 11,
   "metadata": {},
   "outputs": [
    {
     "data": {
      "text/plain": [
       "\n",
       "28012 28004 28005 28013 28014 \n",
       " 2060  1795  1195  1019   630 "
      ]
     },
     "metadata": {},
     "output_type": "display_data"
    },
    {
     "data": {
      "text/plain": [
       "\n",
       "280013  28048  28052  28056  28058 \n",
       "     1      1      1      1      1 "
      ]
     },
     "metadata": {},
     "output_type": "display_data"
    }
   ],
   "source": [
    "head(sort(table(airbnb$CodigoPostal),decreasing = T),5)\n",
    "\n",
    "head(sort(table(droplevels(airbnb$CodigoPostal)),decreasing = F),5)"
   ]
  },
  {
   "cell_type": "markdown",
   "metadata": {},
   "source": [
    "¿Cuales son los barrios que hay en el código postal 28012?"
   ]
  },
  {
   "cell_type": "code",
   "execution_count": 12,
   "metadata": {},
   "outputs": [
    {
     "data": {
      "text/html": [
       "<ol class=list-inline>\n",
       "\t<li>Sol</li>\n",
       "\t<li>Acacias</li>\n",
       "\t<li>Palos de Moguer</li>\n",
       "\t<li>Embajadores</li>\n",
       "\t<li>Cortes</li>\n",
       "\t<li>Palacio</li>\n",
       "\t<li>Universidad</li>\n",
       "\t<li>Delicias</li>\n",
       "\t<li>Arapiles</li>\n",
       "\t<li>Atocha</li>\n",
       "\t<li>Goya</li>\n",
       "</ol>\n",
       "\n",
       "<details>\n",
       "\t<summary style=display:list-item;cursor:pointer>\n",
       "\t\t<strong>Levels</strong>:\n",
       "\t</summary>\n",
       "\t<ol class=list-inline>\n",
       "\t\t<li>'Abrantes'</li>\n",
       "\t\t<li>'Acacias'</li>\n",
       "\t\t<li>'Adelfas'</li>\n",
       "\t\t<li>'Aeropuerto'</li>\n",
       "\t\t<li>'Aguilas'</li>\n",
       "\t\t<li>'Alameda de Osuna'</li>\n",
       "\t\t<li>'Almagro'</li>\n",
       "\t\t<li>'Almenara'</li>\n",
       "\t\t<li>'Almendrales'</li>\n",
       "\t\t<li>'Aluche'</li>\n",
       "\t\t<li>'Ambroz'</li>\n",
       "\t\t<li>'Amposta'</li>\n",
       "\t\t<li>'Apostol Santiago'</li>\n",
       "\t\t<li>'Arapiles'</li>\n",
       "\t\t<li>'Aravaca'</li>\n",
       "\t\t<li>'Arcos'</li>\n",
       "\t\t<li>'Argüelles'</li>\n",
       "\t\t<li>'Atocha'</li>\n",
       "\t\t<li>'Bellas Vistas'</li>\n",
       "\t\t<li>'Berruguete'</li>\n",
       "\t\t<li>'Buenavista'</li>\n",
       "\t\t<li>'Butarque'</li>\n",
       "\t\t<li>'Campamento'</li>\n",
       "\t\t<li>'Canillas'</li>\n",
       "\t\t<li>'Canillejas'</li>\n",
       "\t\t<li>'Cármenes'</li>\n",
       "\t\t<li>'Casa de Campo'</li>\n",
       "\t\t<li>'Casco Histórico de Barajas'</li>\n",
       "\t\t<li>'Casco Histórico de Vallecas'</li>\n",
       "\t\t<li>'Casco Histórico de Vicálvaro'</li>\n",
       "\t\t<li>'Castellana'</li>\n",
       "\t\t<li>'Castilla'</li>\n",
       "\t\t<li>'Castillejos'</li>\n",
       "\t\t<li>'Chopera'</li>\n",
       "\t\t<li>'Ciudad Jardín'</li>\n",
       "\t\t<li>'Ciudad Universitaria'</li>\n",
       "\t\t<li>'Colina'</li>\n",
       "\t\t<li>'Comillas'</li>\n",
       "\t\t<li>'Concepción'</li>\n",
       "\t\t<li>'Corralejos'</li>\n",
       "\t\t<li>'Cortes'</li>\n",
       "\t\t<li>'Costillares'</li>\n",
       "\t\t<li>'Cuatro Caminos'</li>\n",
       "\t\t<li>'Cuatro Vientos'</li>\n",
       "\t\t<li>'Delicias'</li>\n",
       "\t\t<li>'El Goloso'</li>\n",
       "\t\t<li>'El Plantío'</li>\n",
       "\t\t<li>'El Viso'</li>\n",
       "\t\t<li>'Embajadores'</li>\n",
       "\t\t<li>'Entrevías'</li>\n",
       "\t\t<li>'Estrella'</li>\n",
       "\t\t<li>'Fontarrón'</li>\n",
       "\t\t<li>'Fuente del Berro'</li>\n",
       "\t\t<li>'Fuentelareina'</li>\n",
       "\t\t<li>'Gaztambide'</li>\n",
       "\t\t<li>'Goya'</li>\n",
       "\t\t<li>'Guindalera'</li>\n",
       "\t\t<li>'Hellín'</li>\n",
       "\t\t<li>'Hispanoamérica'</li>\n",
       "\t\t<li>'Ibiza'</li>\n",
       "\t\t<li>'Imperial'</li>\n",
       "\t\t<li>'Jerónimos'</li>\n",
       "\t\t<li>'Justicia'</li>\n",
       "\t\t<li>'La Paz'</li>\n",
       "\t\t<li>'Legazpi'</li>\n",
       "\t\t<li>'Lista'</li>\n",
       "\t\t<li>'Los Angeles'</li>\n",
       "\t\t<li>'Los Rosales'</li>\n",
       "\t\t<li>'Lucero'</li>\n",
       "\t\t<li>'Marroquina'</li>\n",
       "\t\t<li>'Media Legua'</li>\n",
       "\t\t<li>'Mirasierra'</li>\n",
       "\t\t<li>'Moscardó'</li>\n",
       "\t\t<li>'Niño Jesús'</li>\n",
       "\t\t<li>'Nueva España'</li>\n",
       "\t\t<li>'Numancia'</li>\n",
       "\t\t<li>'Opañel'</li>\n",
       "\t\t<li>'Orcasitas'</li>\n",
       "\t\t<li>'Orcasur'</li>\n",
       "\t\t<li>'Pacífico'</li>\n",
       "\t\t<li>'Palacio'</li>\n",
       "\t\t<li>'Palomas'</li>\n",
       "\t\t<li>'Palomeras Bajas'</li>\n",
       "\t\t<li>'Palomeras Sureste'</li>\n",
       "\t\t<li>'Palos de Moguer'</li>\n",
       "\t\t<li>'Pavones'</li>\n",
       "\t\t<li>'Peñagrande'</li>\n",
       "\t\t<li>'Pilar'</li>\n",
       "\t\t<li>'Pinar del Rey'</li>\n",
       "\t\t<li>'Piovera'</li>\n",
       "\t\t<li>'Portazgo'</li>\n",
       "\t\t<li>'Pradolongo'</li>\n",
       "\t\t<li>'Prosperidad'</li>\n",
       "\t\t<li>'Pueblo Nuevo'</li>\n",
       "\t\t<li>'Puerta Bonita'</li>\n",
       "\t\t<li>'Puerta del Angel'</li>\n",
       "\t\t<li>'Quintana'</li>\n",
       "\t\t<li>'Recoletos'</li>\n",
       "\t\t<li>'Rejas'</li>\n",
       "\t\t<li>'Rios Rosas'</li>\n",
       "\t\t<li>'Rosas'</li>\n",
       "\t\t<li>'Salvador'</li>\n",
       "\t\t<li>'San Andrés'</li>\n",
       "\t\t<li>'San Cristobal'</li>\n",
       "\t\t<li>'San Diego'</li>\n",
       "\t\t<li>'San Fermín'</li>\n",
       "\t\t<li>'San Isidro'</li>\n",
       "\t\t<li>'San Juan Bautista'</li>\n",
       "\t\t<li>'San Pascual'</li>\n",
       "\t\t<li>'Santa Eugenia'</li>\n",
       "\t\t<li>'Simancas'</li>\n",
       "\t\t<li>'Sol'</li>\n",
       "\t\t<li>'Timón'</li>\n",
       "\t\t<li>'Trafalgar'</li>\n",
       "\t\t<li>'Universidad'</li>\n",
       "\t\t<li>'Valdeacederas'</li>\n",
       "\t\t<li>'Valdefuentes'</li>\n",
       "\t\t<li>'Valdemarín'</li>\n",
       "\t\t<li>'Valdezarza'</li>\n",
       "\t\t<li>'Vallehermoso'</li>\n",
       "\t\t<li>'Valverde'</li>\n",
       "\t\t<li>'Ventas'</li>\n",
       "\t\t<li>'Vinateros'</li>\n",
       "\t\t<li>'Vista Alegre'</li>\n",
       "\t\t<li>'Zofío'</li>\n",
       "\t</ol>\n",
       "</details>"
      ],
      "text/latex": [
       "\\begin{enumerate*}\n",
       "\\item Sol\n",
       "\\item Acacias\n",
       "\\item Palos de Moguer\n",
       "\\item Embajadores\n",
       "\\item Cortes\n",
       "\\item Palacio\n",
       "\\item Universidad\n",
       "\\item Delicias\n",
       "\\item Arapiles\n",
       "\\item Atocha\n",
       "\\item Goya\n",
       "\\end{enumerate*}\n",
       "\n",
       "\\emph{Levels}: \\begin{enumerate*}\n",
       "\\item 'Abrantes'\n",
       "\\item 'Acacias'\n",
       "\\item 'Adelfas'\n",
       "\\item 'Aeropuerto'\n",
       "\\item 'Aguilas'\n",
       "\\item 'Alameda de Osuna'\n",
       "\\item 'Almagro'\n",
       "\\item 'Almenara'\n",
       "\\item 'Almendrales'\n",
       "\\item 'Aluche'\n",
       "\\item 'Ambroz'\n",
       "\\item 'Amposta'\n",
       "\\item 'Apostol Santiago'\n",
       "\\item 'Arapiles'\n",
       "\\item 'Aravaca'\n",
       "\\item 'Arcos'\n",
       "\\item 'Argüelles'\n",
       "\\item 'Atocha'\n",
       "\\item 'Bellas Vistas'\n",
       "\\item 'Berruguete'\n",
       "\\item 'Buenavista'\n",
       "\\item 'Butarque'\n",
       "\\item 'Campamento'\n",
       "\\item 'Canillas'\n",
       "\\item 'Canillejas'\n",
       "\\item 'Cármenes'\n",
       "\\item 'Casa de Campo'\n",
       "\\item 'Casco Histórico de Barajas'\n",
       "\\item 'Casco Histórico de Vallecas'\n",
       "\\item 'Casco Histórico de Vicálvaro'\n",
       "\\item 'Castellana'\n",
       "\\item 'Castilla'\n",
       "\\item 'Castillejos'\n",
       "\\item 'Chopera'\n",
       "\\item 'Ciudad Jardín'\n",
       "\\item 'Ciudad Universitaria'\n",
       "\\item 'Colina'\n",
       "\\item 'Comillas'\n",
       "\\item 'Concepción'\n",
       "\\item 'Corralejos'\n",
       "\\item 'Cortes'\n",
       "\\item 'Costillares'\n",
       "\\item 'Cuatro Caminos'\n",
       "\\item 'Cuatro Vientos'\n",
       "\\item 'Delicias'\n",
       "\\item 'El Goloso'\n",
       "\\item 'El Plantío'\n",
       "\\item 'El Viso'\n",
       "\\item 'Embajadores'\n",
       "\\item 'Entrevías'\n",
       "\\item 'Estrella'\n",
       "\\item 'Fontarrón'\n",
       "\\item 'Fuente del Berro'\n",
       "\\item 'Fuentelareina'\n",
       "\\item 'Gaztambide'\n",
       "\\item 'Goya'\n",
       "\\item 'Guindalera'\n",
       "\\item 'Hellín'\n",
       "\\item 'Hispanoamérica'\n",
       "\\item 'Ibiza'\n",
       "\\item 'Imperial'\n",
       "\\item 'Jerónimos'\n",
       "\\item 'Justicia'\n",
       "\\item 'La Paz'\n",
       "\\item 'Legazpi'\n",
       "\\item 'Lista'\n",
       "\\item 'Los Angeles'\n",
       "\\item 'Los Rosales'\n",
       "\\item 'Lucero'\n",
       "\\item 'Marroquina'\n",
       "\\item 'Media Legua'\n",
       "\\item 'Mirasierra'\n",
       "\\item 'Moscardó'\n",
       "\\item 'Niño Jesús'\n",
       "\\item 'Nueva España'\n",
       "\\item 'Numancia'\n",
       "\\item 'Opañel'\n",
       "\\item 'Orcasitas'\n",
       "\\item 'Orcasur'\n",
       "\\item 'Pacífico'\n",
       "\\item 'Palacio'\n",
       "\\item 'Palomas'\n",
       "\\item 'Palomeras Bajas'\n",
       "\\item 'Palomeras Sureste'\n",
       "\\item 'Palos de Moguer'\n",
       "\\item 'Pavones'\n",
       "\\item 'Peñagrande'\n",
       "\\item 'Pilar'\n",
       "\\item 'Pinar del Rey'\n",
       "\\item 'Piovera'\n",
       "\\item 'Portazgo'\n",
       "\\item 'Pradolongo'\n",
       "\\item 'Prosperidad'\n",
       "\\item 'Pueblo Nuevo'\n",
       "\\item 'Puerta Bonita'\n",
       "\\item 'Puerta del Angel'\n",
       "\\item 'Quintana'\n",
       "\\item 'Recoletos'\n",
       "\\item 'Rejas'\n",
       "\\item 'Rios Rosas'\n",
       "\\item 'Rosas'\n",
       "\\item 'Salvador'\n",
       "\\item 'San Andrés'\n",
       "\\item 'San Cristobal'\n",
       "\\item 'San Diego'\n",
       "\\item 'San Fermín'\n",
       "\\item 'San Isidro'\n",
       "\\item 'San Juan Bautista'\n",
       "\\item 'San Pascual'\n",
       "\\item 'Santa Eugenia'\n",
       "\\item 'Simancas'\n",
       "\\item 'Sol'\n",
       "\\item 'Timón'\n",
       "\\item 'Trafalgar'\n",
       "\\item 'Universidad'\n",
       "\\item 'Valdeacederas'\n",
       "\\item 'Valdefuentes'\n",
       "\\item 'Valdemarín'\n",
       "\\item 'Valdezarza'\n",
       "\\item 'Vallehermoso'\n",
       "\\item 'Valverde'\n",
       "\\item 'Ventas'\n",
       "\\item 'Vinateros'\n",
       "\\item 'Vista Alegre'\n",
       "\\item 'Zofío'\n",
       "\\end{enumerate*}\n"
      ],
      "text/markdown": [
       "1. Sol\n",
       "2. Acacias\n",
       "3. Palos de Moguer\n",
       "4. Embajadores\n",
       "5. Cortes\n",
       "6. Palacio\n",
       "7. Universidad\n",
       "8. Delicias\n",
       "9. Arapiles\n",
       "10. Atocha\n",
       "11. Goya\n",
       "\n",
       "\n",
       "\n",
       "**Levels**: 1. 'Abrantes'\n",
       "2. 'Acacias'\n",
       "3. 'Adelfas'\n",
       "4. 'Aeropuerto'\n",
       "5. 'Aguilas'\n",
       "6. 'Alameda de Osuna'\n",
       "7. 'Almagro'\n",
       "8. 'Almenara'\n",
       "9. 'Almendrales'\n",
       "10. 'Aluche'\n",
       "11. 'Ambroz'\n",
       "12. 'Amposta'\n",
       "13. 'Apostol Santiago'\n",
       "14. 'Arapiles'\n",
       "15. 'Aravaca'\n",
       "16. 'Arcos'\n",
       "17. 'Argüelles'\n",
       "18. 'Atocha'\n",
       "19. 'Bellas Vistas'\n",
       "20. 'Berruguete'\n",
       "21. 'Buenavista'\n",
       "22. 'Butarque'\n",
       "23. 'Campamento'\n",
       "24. 'Canillas'\n",
       "25. 'Canillejas'\n",
       "26. 'Cármenes'\n",
       "27. 'Casa de Campo'\n",
       "28. 'Casco Histórico de Barajas'\n",
       "29. 'Casco Histórico de Vallecas'\n",
       "30. 'Casco Histórico de Vicálvaro'\n",
       "31. 'Castellana'\n",
       "32. 'Castilla'\n",
       "33. 'Castillejos'\n",
       "34. 'Chopera'\n",
       "35. 'Ciudad Jardín'\n",
       "36. 'Ciudad Universitaria'\n",
       "37. 'Colina'\n",
       "38. 'Comillas'\n",
       "39. 'Concepción'\n",
       "40. 'Corralejos'\n",
       "41. 'Cortes'\n",
       "42. 'Costillares'\n",
       "43. 'Cuatro Caminos'\n",
       "44. 'Cuatro Vientos'\n",
       "45. 'Delicias'\n",
       "46. 'El Goloso'\n",
       "47. 'El Plantío'\n",
       "48. 'El Viso'\n",
       "49. 'Embajadores'\n",
       "50. 'Entrevías'\n",
       "51. 'Estrella'\n",
       "52. 'Fontarrón'\n",
       "53. 'Fuente del Berro'\n",
       "54. 'Fuentelareina'\n",
       "55. 'Gaztambide'\n",
       "56. 'Goya'\n",
       "57. 'Guindalera'\n",
       "58. 'Hellín'\n",
       "59. 'Hispanoamérica'\n",
       "60. 'Ibiza'\n",
       "61. 'Imperial'\n",
       "62. 'Jerónimos'\n",
       "63. 'Justicia'\n",
       "64. 'La Paz'\n",
       "65. 'Legazpi'\n",
       "66. 'Lista'\n",
       "67. 'Los Angeles'\n",
       "68. 'Los Rosales'\n",
       "69. 'Lucero'\n",
       "70. 'Marroquina'\n",
       "71. 'Media Legua'\n",
       "72. 'Mirasierra'\n",
       "73. 'Moscardó'\n",
       "74. 'Niño Jesús'\n",
       "75. 'Nueva España'\n",
       "76. 'Numancia'\n",
       "77. 'Opañel'\n",
       "78. 'Orcasitas'\n",
       "79. 'Orcasur'\n",
       "80. 'Pacífico'\n",
       "81. 'Palacio'\n",
       "82. 'Palomas'\n",
       "83. 'Palomeras Bajas'\n",
       "84. 'Palomeras Sureste'\n",
       "85. 'Palos de Moguer'\n",
       "86. 'Pavones'\n",
       "87. 'Peñagrande'\n",
       "88. 'Pilar'\n",
       "89. 'Pinar del Rey'\n",
       "90. 'Piovera'\n",
       "91. 'Portazgo'\n",
       "92. 'Pradolongo'\n",
       "93. 'Prosperidad'\n",
       "94. 'Pueblo Nuevo'\n",
       "95. 'Puerta Bonita'\n",
       "96. 'Puerta del Angel'\n",
       "97. 'Quintana'\n",
       "98. 'Recoletos'\n",
       "99. 'Rejas'\n",
       "100. 'Rios Rosas'\n",
       "101. 'Rosas'\n",
       "102. 'Salvador'\n",
       "103. 'San Andrés'\n",
       "104. 'San Cristobal'\n",
       "105. 'San Diego'\n",
       "106. 'San Fermín'\n",
       "107. 'San Isidro'\n",
       "108. 'San Juan Bautista'\n",
       "109. 'San Pascual'\n",
       "110. 'Santa Eugenia'\n",
       "111. 'Simancas'\n",
       "112. 'Sol'\n",
       "113. 'Timón'\n",
       "114. 'Trafalgar'\n",
       "115. 'Universidad'\n",
       "116. 'Valdeacederas'\n",
       "117. 'Valdefuentes'\n",
       "118. 'Valdemarín'\n",
       "119. 'Valdezarza'\n",
       "120. 'Vallehermoso'\n",
       "121. 'Valverde'\n",
       "122. 'Ventas'\n",
       "123. 'Vinateros'\n",
       "124. 'Vista Alegre'\n",
       "125. 'Zofío'\n",
       "\n",
       "\n"
      ],
      "text/plain": [
       " [1] Sol             Acacias         Palos de Moguer Embajadores    \n",
       " [5] Cortes          Palacio         Universidad     Delicias       \n",
       " [9] Arapiles        Atocha          Goya           \n",
       "attr(,\"na.action\")\n",
       "[1] 3\n",
       "attr(,\"class\")\n",
       "[1] omit\n",
       "125 Levels: Abrantes Acacias Adelfas Aeropuerto Aguilas ... Zofío"
      ]
     },
     "metadata": {},
     "output_type": "display_data"
    }
   ],
   "source": [
    "na.omit(unique(airbnb$Barrio[airbnb$CodigoPostal=='28012']))"
   ]
  },
  {
   "cell_type": "markdown",
   "metadata": {},
   "source": [
    "¿Cuantas entradas hay en cada uno de esos barrios para el codigo postao 28012? Asumiendo que el identificador de Barrio sea correcto, ¿es fiable la columna de código postal?"
   ]
  },
  {
   "cell_type": "code",
   "execution_count": 13,
   "metadata": {},
   "outputs": [
    {
     "data": {
      "text/plain": [
       "\n",
       "    Embajadores             Sol          Cortes Palos de Moguer         Palacio \n",
       "           1449             301             216              46              27 \n",
       "        Acacias     Universidad        Arapiles          Atocha        Delicias \n",
       "             13               4               1               1               1 \n",
       "           Goya \n",
       "              1 "
      ]
     },
     "metadata": {},
     "output_type": "display_data"
    },
    {
     "data": {
      "text/html": [
       "' no es muy fiable la columna ya que muchos barrios tienen el mismo codigo postal'"
      ],
      "text/latex": [
       "' no es muy fiable la columna ya que muchos barrios tienen el mismo codigo postal'"
      ],
      "text/markdown": [
       "' no es muy fiable la columna ya que muchos barrios tienen el mismo codigo postal'"
      ],
      "text/plain": [
       "[1] \" no es muy fiable la columna ya que muchos barrios tienen el mismo codigo postal\""
      ]
     },
     "metadata": {},
     "output_type": "display_data"
    }
   ],
   "source": [
    "numBarrios<-length(na.omit(unique(airbnb$Barrio[airbnb$CodigoPostal=='28012'])))\n",
    "tbl_barrio<-table(airbnb$Barrio[airbnb$CodigoPostal=='28012'])\n",
    "sort(tbl_barrio, decreasing = TRUE)[1:numBarrios]\n",
    "paste(' no es muy fiable la columna ya que muchos barrios tienen el mismo codigo postal')"
   ]
  },
  {
   "cell_type": "markdown",
   "metadata": {},
   "source": [
    "¿Cuantos barrios hay en todo el dataset airbnb? ¿Cuales son?"
   ]
  },
  {
   "cell_type": "code",
   "execution_count": 14,
   "metadata": {},
   "outputs": [
    {
     "data": {
      "text/html": [
       "<span style=white-space:pre-wrap>'en el dataset hay  125  barrios'</span>"
      ],
      "text/latex": [
       "'en el dataset hay  125  barrios'"
      ],
      "text/markdown": [
       "<span style=white-space:pre-wrap>'en el dataset hay  125  barrios'</span>"
      ],
      "text/plain": [
       "[1] \"en el dataset hay  125  barrios\""
      ]
     },
     "metadata": {},
     "output_type": "display_data"
    },
    {
     "data": {
      "text/html": [
       "<ol class=list-inline>\n",
       "\t<li>Universidad</li>\n",
       "\t<li>Sol</li>\n",
       "\t<li>Imperial</li>\n",
       "\t<li>Acacias</li>\n",
       "\t<li>Chopera</li>\n",
       "\t<li>Delicias</li>\n",
       "\t<li>Palos de Moguer</li>\n",
       "\t<li>Embajadores</li>\n",
       "\t<li>Cortes</li>\n",
       "\t<li>Atocha</li>\n",
       "\t<li>Pacífico</li>\n",
       "\t<li>Adelfas</li>\n",
       "\t<li>Estrella</li>\n",
       "\t<li>Ibiza</li>\n",
       "\t<li>Jerónimos</li>\n",
       "\t<li>Niño Jesús</li>\n",
       "\t<li>Palacio</li>\n",
       "\t<li>Justicia</li>\n",
       "\t<li>Recoletos</li>\n",
       "\t<li>Goya</li>\n",
       "\t<li>Fuente del Berro</li>\n",
       "\t<li>Arapiles</li>\n",
       "\t<li>Trafalgar</li>\n",
       "\t<li>Almagro</li>\n",
       "\t<li>Guindalera</li>\n",
       "\t<li>Lista</li>\n",
       "\t<li>Castellana</li>\n",
       "\t<li>El Viso</li>\n",
       "\t<li>Prosperidad</li>\n",
       "\t<li>Valverde</li>\n",
       "\t<li>Casa de Campo</li>\n",
       "\t<li>El Goloso</li>\n",
       "\t<li>Numancia</li>\n",
       "\t<li>Cármenes</li>\n",
       "\t<li>Puerta del Angel</li>\n",
       "\t<li>Lucero</li>\n",
       "\t<li>Aluche</li>\n",
       "\t<li>San Isidro</li>\n",
       "\t<li>Campamento</li>\n",
       "\t<li>Comillas</li>\n",
       "\t<li>Opañel</li>\n",
       "\t<li>Vista Alegre</li>\n",
       "\t<li>Ciudad Jardín</li>\n",
       "\t<li>Hispanoamérica</li>\n",
       "\t<li>Nueva España</li>\n",
       "\t<li>Castilla</li>\n",
       "\t<li>Bellas Vistas</li>\n",
       "\t<li>Cuatro Caminos</li>\n",
       "\t<li>Castillejos</li>\n",
       "\t<li>Vallehermoso</li>\n",
       "\t<li>Almenara</li>\n",
       "\t<li>Valdeacederas</li>\n",
       "\t<li>Berruguete</li>\n",
       "\t<li>Gaztambide</li>\n",
       "\t<li>Rios Rosas</li>\n",
       "\t<li>Peñagrande</li>\n",
       "\t<li>Argüelles</li>\n",
       "\t<li>Puerta Bonita</li>\n",
       "\t<li>Buenavista</li>\n",
       "\t<li>Abrantes</li>\n",
       "\t<li>Orcasur</li>\n",
       "\t<li>San Fermín</li>\n",
       "\t<li>Almendrales</li>\n",
       "\t<li>Pradolongo</li>\n",
       "\t<li>Portazgo</li>\n",
       "\t<li>Entrevías</li>\n",
       "\t<li>San Diego</li>\n",
       "\t<li>Palomeras Bajas</li>\n",
       "\t<li>Fontarrón</li>\n",
       "\t<li>Vinateros</li>\n",
       "\t<li>Ventas</li>\n",
       "\t<li>Pueblo Nuevo</li>\n",
       "\t<li>Quintana</li>\n",
       "\t<li>Concepción</li>\n",
       "\t<li>San Juan Bautista</li>\n",
       "\t<li>Costillares</li>\n",
       "\t<li>Piovera</li>\n",
       "\t<li>Canillas</li>\n",
       "\t<li>Pinar del Rey</li>\n",
       "\t<li>Apostol Santiago</li>\n",
       "\t<li>San Andrés</li>\n",
       "\t<li>Valdefuentes</li>\n",
       "\t<li>Butarque</li>\n",
       "\t<li>Los Angeles</li>\n",
       "\t<li>Casco Histórico de Vicálvaro</li>\n",
       "\t<li>Simancas</li>\n",
       "\t<li>Rejas</li>\n",
       "\t<li>Salvador</li>\n",
       "\t<li>Casco Histórico de Barajas</li>\n",
       "\t<li>Pilar</li>\n",
       "\t<li>La Paz</li>\n",
       "\t<li>Mirasierra</li>\n",
       "\t<li>Ciudad Universitaria</li>\n",
       "\t<li>Moscardó</li>\n",
       "\t<li>Palomeras Sureste</li>\n",
       "\t<li>Marroquina</li>\n",
       "\t<li>Media Legua</li>\n",
       "\t<li>Los Rosales</li>\n",
       "\t<li>Casco Histórico de Vallecas</li>\n",
       "\t<li>Timón</li>\n",
       "\t<li>Corralejos</li>\n",
       "\t<li>Cuatro Vientos</li>\n",
       "\t<li>Colina</li>\n",
       "\t<li>San Cristobal</li>\n",
       "\t<li>Alameda de Osuna</li>\n",
       "\t<li>Aeropuerto</li>\n",
       "\t<li>Palomas</li>\n",
       "\t<li>Zofío</li>\n",
       "\t<li>Aguilas</li>\n",
       "\t<li>Legazpi</li>\n",
       "\t<li>Fuentelareina</li>\n",
       "\t<li>Aravaca</li>\n",
       "\t<li>Ambroz</li>\n",
       "\t<li>Canillejas</li>\n",
       "\t<li>Valdezarza</li>\n",
       "\t<li>Amposta</li>\n",
       "\t<li>San Pascual</li>\n",
       "\t<li>Santa Eugenia</li>\n",
       "\t<li>Arcos</li>\n",
       "\t<li>Rosas</li>\n",
       "\t<li>Valdemarín</li>\n",
       "\t<li>El Plantío</li>\n",
       "\t<li>Hellín</li>\n",
       "\t<li>Pavones</li>\n",
       "\t<li>Orcasitas</li>\n",
       "</ol>\n",
       "\n",
       "<details>\n",
       "\t<summary style=display:list-item;cursor:pointer>\n",
       "\t\t<strong>Levels</strong>:\n",
       "\t</summary>\n",
       "\t<ol class=list-inline>\n",
       "\t\t<li>'Abrantes'</li>\n",
       "\t\t<li>'Acacias'</li>\n",
       "\t\t<li>'Adelfas'</li>\n",
       "\t\t<li>'Aeropuerto'</li>\n",
       "\t\t<li>'Aguilas'</li>\n",
       "\t\t<li>'Alameda de Osuna'</li>\n",
       "\t\t<li>'Almagro'</li>\n",
       "\t\t<li>'Almenara'</li>\n",
       "\t\t<li>'Almendrales'</li>\n",
       "\t\t<li>'Aluche'</li>\n",
       "\t\t<li>'Ambroz'</li>\n",
       "\t\t<li>'Amposta'</li>\n",
       "\t\t<li>'Apostol Santiago'</li>\n",
       "\t\t<li>'Arapiles'</li>\n",
       "\t\t<li>'Aravaca'</li>\n",
       "\t\t<li>'Arcos'</li>\n",
       "\t\t<li>'Argüelles'</li>\n",
       "\t\t<li>'Atocha'</li>\n",
       "\t\t<li>'Bellas Vistas'</li>\n",
       "\t\t<li>'Berruguete'</li>\n",
       "\t\t<li>'Buenavista'</li>\n",
       "\t\t<li>'Butarque'</li>\n",
       "\t\t<li>'Campamento'</li>\n",
       "\t\t<li>'Canillas'</li>\n",
       "\t\t<li>'Canillejas'</li>\n",
       "\t\t<li>'Cármenes'</li>\n",
       "\t\t<li>'Casa de Campo'</li>\n",
       "\t\t<li>'Casco Histórico de Barajas'</li>\n",
       "\t\t<li>'Casco Histórico de Vallecas'</li>\n",
       "\t\t<li>'Casco Histórico de Vicálvaro'</li>\n",
       "\t\t<li>'Castellana'</li>\n",
       "\t\t<li>'Castilla'</li>\n",
       "\t\t<li>'Castillejos'</li>\n",
       "\t\t<li>'Chopera'</li>\n",
       "\t\t<li>'Ciudad Jardín'</li>\n",
       "\t\t<li>'Ciudad Universitaria'</li>\n",
       "\t\t<li>'Colina'</li>\n",
       "\t\t<li>'Comillas'</li>\n",
       "\t\t<li>'Concepción'</li>\n",
       "\t\t<li>'Corralejos'</li>\n",
       "\t\t<li>'Cortes'</li>\n",
       "\t\t<li>'Costillares'</li>\n",
       "\t\t<li>'Cuatro Caminos'</li>\n",
       "\t\t<li>'Cuatro Vientos'</li>\n",
       "\t\t<li>'Delicias'</li>\n",
       "\t\t<li>'El Goloso'</li>\n",
       "\t\t<li>'El Plantío'</li>\n",
       "\t\t<li>'El Viso'</li>\n",
       "\t\t<li>'Embajadores'</li>\n",
       "\t\t<li>'Entrevías'</li>\n",
       "\t\t<li>'Estrella'</li>\n",
       "\t\t<li>'Fontarrón'</li>\n",
       "\t\t<li>'Fuente del Berro'</li>\n",
       "\t\t<li>'Fuentelareina'</li>\n",
       "\t\t<li>'Gaztambide'</li>\n",
       "\t\t<li>'Goya'</li>\n",
       "\t\t<li>'Guindalera'</li>\n",
       "\t\t<li>'Hellín'</li>\n",
       "\t\t<li>'Hispanoamérica'</li>\n",
       "\t\t<li>'Ibiza'</li>\n",
       "\t\t<li>'Imperial'</li>\n",
       "\t\t<li>'Jerónimos'</li>\n",
       "\t\t<li>'Justicia'</li>\n",
       "\t\t<li>'La Paz'</li>\n",
       "\t\t<li>'Legazpi'</li>\n",
       "\t\t<li>'Lista'</li>\n",
       "\t\t<li>'Los Angeles'</li>\n",
       "\t\t<li>'Los Rosales'</li>\n",
       "\t\t<li>'Lucero'</li>\n",
       "\t\t<li>'Marroquina'</li>\n",
       "\t\t<li>'Media Legua'</li>\n",
       "\t\t<li>'Mirasierra'</li>\n",
       "\t\t<li>'Moscardó'</li>\n",
       "\t\t<li>'Niño Jesús'</li>\n",
       "\t\t<li>'Nueva España'</li>\n",
       "\t\t<li>'Numancia'</li>\n",
       "\t\t<li>'Opañel'</li>\n",
       "\t\t<li>'Orcasitas'</li>\n",
       "\t\t<li>'Orcasur'</li>\n",
       "\t\t<li>'Pacífico'</li>\n",
       "\t\t<li>'Palacio'</li>\n",
       "\t\t<li>'Palomas'</li>\n",
       "\t\t<li>'Palomeras Bajas'</li>\n",
       "\t\t<li>'Palomeras Sureste'</li>\n",
       "\t\t<li>'Palos de Moguer'</li>\n",
       "\t\t<li>'Pavones'</li>\n",
       "\t\t<li>'Peñagrande'</li>\n",
       "\t\t<li>'Pilar'</li>\n",
       "\t\t<li>'Pinar del Rey'</li>\n",
       "\t\t<li>'Piovera'</li>\n",
       "\t\t<li>'Portazgo'</li>\n",
       "\t\t<li>'Pradolongo'</li>\n",
       "\t\t<li>'Prosperidad'</li>\n",
       "\t\t<li>'Pueblo Nuevo'</li>\n",
       "\t\t<li>'Puerta Bonita'</li>\n",
       "\t\t<li>'Puerta del Angel'</li>\n",
       "\t\t<li>'Quintana'</li>\n",
       "\t\t<li>'Recoletos'</li>\n",
       "\t\t<li>'Rejas'</li>\n",
       "\t\t<li>'Rios Rosas'</li>\n",
       "\t\t<li>'Rosas'</li>\n",
       "\t\t<li>'Salvador'</li>\n",
       "\t\t<li>'San Andrés'</li>\n",
       "\t\t<li>'San Cristobal'</li>\n",
       "\t\t<li>'San Diego'</li>\n",
       "\t\t<li>'San Fermín'</li>\n",
       "\t\t<li>'San Isidro'</li>\n",
       "\t\t<li>'San Juan Bautista'</li>\n",
       "\t\t<li>'San Pascual'</li>\n",
       "\t\t<li>'Santa Eugenia'</li>\n",
       "\t\t<li>'Simancas'</li>\n",
       "\t\t<li>'Sol'</li>\n",
       "\t\t<li>'Timón'</li>\n",
       "\t\t<li>'Trafalgar'</li>\n",
       "\t\t<li>'Universidad'</li>\n",
       "\t\t<li>'Valdeacederas'</li>\n",
       "\t\t<li>'Valdefuentes'</li>\n",
       "\t\t<li>'Valdemarín'</li>\n",
       "\t\t<li>'Valdezarza'</li>\n",
       "\t\t<li>'Vallehermoso'</li>\n",
       "\t\t<li>'Valverde'</li>\n",
       "\t\t<li>'Ventas'</li>\n",
       "\t\t<li>'Vinateros'</li>\n",
       "\t\t<li>'Vista Alegre'</li>\n",
       "\t\t<li>'Zofío'</li>\n",
       "\t</ol>\n",
       "</details>"
      ],
      "text/latex": [
       "\\begin{enumerate*}\n",
       "\\item Universidad\n",
       "\\item Sol\n",
       "\\item Imperial\n",
       "\\item Acacias\n",
       "\\item Chopera\n",
       "\\item Delicias\n",
       "\\item Palos de Moguer\n",
       "\\item Embajadores\n",
       "\\item Cortes\n",
       "\\item Atocha\n",
       "\\item Pacífico\n",
       "\\item Adelfas\n",
       "\\item Estrella\n",
       "\\item Ibiza\n",
       "\\item Jerónimos\n",
       "\\item Niño Jesús\n",
       "\\item Palacio\n",
       "\\item Justicia\n",
       "\\item Recoletos\n",
       "\\item Goya\n",
       "\\item Fuente del Berro\n",
       "\\item Arapiles\n",
       "\\item Trafalgar\n",
       "\\item Almagro\n",
       "\\item Guindalera\n",
       "\\item Lista\n",
       "\\item Castellana\n",
       "\\item El Viso\n",
       "\\item Prosperidad\n",
       "\\item Valverde\n",
       "\\item Casa de Campo\n",
       "\\item El Goloso\n",
       "\\item Numancia\n",
       "\\item Cármenes\n",
       "\\item Puerta del Angel\n",
       "\\item Lucero\n",
       "\\item Aluche\n",
       "\\item San Isidro\n",
       "\\item Campamento\n",
       "\\item Comillas\n",
       "\\item Opañel\n",
       "\\item Vista Alegre\n",
       "\\item Ciudad Jardín\n",
       "\\item Hispanoamérica\n",
       "\\item Nueva España\n",
       "\\item Castilla\n",
       "\\item Bellas Vistas\n",
       "\\item Cuatro Caminos\n",
       "\\item Castillejos\n",
       "\\item Vallehermoso\n",
       "\\item Almenara\n",
       "\\item Valdeacederas\n",
       "\\item Berruguete\n",
       "\\item Gaztambide\n",
       "\\item Rios Rosas\n",
       "\\item Peñagrande\n",
       "\\item Argüelles\n",
       "\\item Puerta Bonita\n",
       "\\item Buenavista\n",
       "\\item Abrantes\n",
       "\\item Orcasur\n",
       "\\item San Fermín\n",
       "\\item Almendrales\n",
       "\\item Pradolongo\n",
       "\\item Portazgo\n",
       "\\item Entrevías\n",
       "\\item San Diego\n",
       "\\item Palomeras Bajas\n",
       "\\item Fontarrón\n",
       "\\item Vinateros\n",
       "\\item Ventas\n",
       "\\item Pueblo Nuevo\n",
       "\\item Quintana\n",
       "\\item Concepción\n",
       "\\item San Juan Bautista\n",
       "\\item Costillares\n",
       "\\item Piovera\n",
       "\\item Canillas\n",
       "\\item Pinar del Rey\n",
       "\\item Apostol Santiago\n",
       "\\item San Andrés\n",
       "\\item Valdefuentes\n",
       "\\item Butarque\n",
       "\\item Los Angeles\n",
       "\\item Casco Histórico de Vicálvaro\n",
       "\\item Simancas\n",
       "\\item Rejas\n",
       "\\item Salvador\n",
       "\\item Casco Histórico de Barajas\n",
       "\\item Pilar\n",
       "\\item La Paz\n",
       "\\item Mirasierra\n",
       "\\item Ciudad Universitaria\n",
       "\\item Moscardó\n",
       "\\item Palomeras Sureste\n",
       "\\item Marroquina\n",
       "\\item Media Legua\n",
       "\\item Los Rosales\n",
       "\\item Casco Histórico de Vallecas\n",
       "\\item Timón\n",
       "\\item Corralejos\n",
       "\\item Cuatro Vientos\n",
       "\\item Colina\n",
       "\\item San Cristobal\n",
       "\\item Alameda de Osuna\n",
       "\\item Aeropuerto\n",
       "\\item Palomas\n",
       "\\item Zofío\n",
       "\\item Aguilas\n",
       "\\item Legazpi\n",
       "\\item Fuentelareina\n",
       "\\item Aravaca\n",
       "\\item Ambroz\n",
       "\\item Canillejas\n",
       "\\item Valdezarza\n",
       "\\item Amposta\n",
       "\\item San Pascual\n",
       "\\item Santa Eugenia\n",
       "\\item Arcos\n",
       "\\item Rosas\n",
       "\\item Valdemarín\n",
       "\\item El Plantío\n",
       "\\item Hellín\n",
       "\\item Pavones\n",
       "\\item Orcasitas\n",
       "\\end{enumerate*}\n",
       "\n",
       "\\emph{Levels}: \\begin{enumerate*}\n",
       "\\item 'Abrantes'\n",
       "\\item 'Acacias'\n",
       "\\item 'Adelfas'\n",
       "\\item 'Aeropuerto'\n",
       "\\item 'Aguilas'\n",
       "\\item 'Alameda de Osuna'\n",
       "\\item 'Almagro'\n",
       "\\item 'Almenara'\n",
       "\\item 'Almendrales'\n",
       "\\item 'Aluche'\n",
       "\\item 'Ambroz'\n",
       "\\item 'Amposta'\n",
       "\\item 'Apostol Santiago'\n",
       "\\item 'Arapiles'\n",
       "\\item 'Aravaca'\n",
       "\\item 'Arcos'\n",
       "\\item 'Argüelles'\n",
       "\\item 'Atocha'\n",
       "\\item 'Bellas Vistas'\n",
       "\\item 'Berruguete'\n",
       "\\item 'Buenavista'\n",
       "\\item 'Butarque'\n",
       "\\item 'Campamento'\n",
       "\\item 'Canillas'\n",
       "\\item 'Canillejas'\n",
       "\\item 'Cármenes'\n",
       "\\item 'Casa de Campo'\n",
       "\\item 'Casco Histórico de Barajas'\n",
       "\\item 'Casco Histórico de Vallecas'\n",
       "\\item 'Casco Histórico de Vicálvaro'\n",
       "\\item 'Castellana'\n",
       "\\item 'Castilla'\n",
       "\\item 'Castillejos'\n",
       "\\item 'Chopera'\n",
       "\\item 'Ciudad Jardín'\n",
       "\\item 'Ciudad Universitaria'\n",
       "\\item 'Colina'\n",
       "\\item 'Comillas'\n",
       "\\item 'Concepción'\n",
       "\\item 'Corralejos'\n",
       "\\item 'Cortes'\n",
       "\\item 'Costillares'\n",
       "\\item 'Cuatro Caminos'\n",
       "\\item 'Cuatro Vientos'\n",
       "\\item 'Delicias'\n",
       "\\item 'El Goloso'\n",
       "\\item 'El Plantío'\n",
       "\\item 'El Viso'\n",
       "\\item 'Embajadores'\n",
       "\\item 'Entrevías'\n",
       "\\item 'Estrella'\n",
       "\\item 'Fontarrón'\n",
       "\\item 'Fuente del Berro'\n",
       "\\item 'Fuentelareina'\n",
       "\\item 'Gaztambide'\n",
       "\\item 'Goya'\n",
       "\\item 'Guindalera'\n",
       "\\item 'Hellín'\n",
       "\\item 'Hispanoamérica'\n",
       "\\item 'Ibiza'\n",
       "\\item 'Imperial'\n",
       "\\item 'Jerónimos'\n",
       "\\item 'Justicia'\n",
       "\\item 'La Paz'\n",
       "\\item 'Legazpi'\n",
       "\\item 'Lista'\n",
       "\\item 'Los Angeles'\n",
       "\\item 'Los Rosales'\n",
       "\\item 'Lucero'\n",
       "\\item 'Marroquina'\n",
       "\\item 'Media Legua'\n",
       "\\item 'Mirasierra'\n",
       "\\item 'Moscardó'\n",
       "\\item 'Niño Jesús'\n",
       "\\item 'Nueva España'\n",
       "\\item 'Numancia'\n",
       "\\item 'Opañel'\n",
       "\\item 'Orcasitas'\n",
       "\\item 'Orcasur'\n",
       "\\item 'Pacífico'\n",
       "\\item 'Palacio'\n",
       "\\item 'Palomas'\n",
       "\\item 'Palomeras Bajas'\n",
       "\\item 'Palomeras Sureste'\n",
       "\\item 'Palos de Moguer'\n",
       "\\item 'Pavones'\n",
       "\\item 'Peñagrande'\n",
       "\\item 'Pilar'\n",
       "\\item 'Pinar del Rey'\n",
       "\\item 'Piovera'\n",
       "\\item 'Portazgo'\n",
       "\\item 'Pradolongo'\n",
       "\\item 'Prosperidad'\n",
       "\\item 'Pueblo Nuevo'\n",
       "\\item 'Puerta Bonita'\n",
       "\\item 'Puerta del Angel'\n",
       "\\item 'Quintana'\n",
       "\\item 'Recoletos'\n",
       "\\item 'Rejas'\n",
       "\\item 'Rios Rosas'\n",
       "\\item 'Rosas'\n",
       "\\item 'Salvador'\n",
       "\\item 'San Andrés'\n",
       "\\item 'San Cristobal'\n",
       "\\item 'San Diego'\n",
       "\\item 'San Fermín'\n",
       "\\item 'San Isidro'\n",
       "\\item 'San Juan Bautista'\n",
       "\\item 'San Pascual'\n",
       "\\item 'Santa Eugenia'\n",
       "\\item 'Simancas'\n",
       "\\item 'Sol'\n",
       "\\item 'Timón'\n",
       "\\item 'Trafalgar'\n",
       "\\item 'Universidad'\n",
       "\\item 'Valdeacederas'\n",
       "\\item 'Valdefuentes'\n",
       "\\item 'Valdemarín'\n",
       "\\item 'Valdezarza'\n",
       "\\item 'Vallehermoso'\n",
       "\\item 'Valverde'\n",
       "\\item 'Ventas'\n",
       "\\item 'Vinateros'\n",
       "\\item 'Vista Alegre'\n",
       "\\item 'Zofío'\n",
       "\\end{enumerate*}\n"
      ],
      "text/markdown": [
       "1. Universidad\n",
       "2. Sol\n",
       "3. Imperial\n",
       "4. Acacias\n",
       "5. Chopera\n",
       "6. Delicias\n",
       "7. Palos de Moguer\n",
       "8. Embajadores\n",
       "9. Cortes\n",
       "10. Atocha\n",
       "11. Pacífico\n",
       "12. Adelfas\n",
       "13. Estrella\n",
       "14. Ibiza\n",
       "15. Jerónimos\n",
       "16. Niño Jesús\n",
       "17. Palacio\n",
       "18. Justicia\n",
       "19. Recoletos\n",
       "20. Goya\n",
       "21. Fuente del Berro\n",
       "22. Arapiles\n",
       "23. Trafalgar\n",
       "24. Almagro\n",
       "25. Guindalera\n",
       "26. Lista\n",
       "27. Castellana\n",
       "28. El Viso\n",
       "29. Prosperidad\n",
       "30. Valverde\n",
       "31. Casa de Campo\n",
       "32. El Goloso\n",
       "33. Numancia\n",
       "34. Cármenes\n",
       "35. Puerta del Angel\n",
       "36. Lucero\n",
       "37. Aluche\n",
       "38. San Isidro\n",
       "39. Campamento\n",
       "40. Comillas\n",
       "41. Opañel\n",
       "42. Vista Alegre\n",
       "43. Ciudad Jardín\n",
       "44. Hispanoamérica\n",
       "45. Nueva España\n",
       "46. Castilla\n",
       "47. Bellas Vistas\n",
       "48. Cuatro Caminos\n",
       "49. Castillejos\n",
       "50. Vallehermoso\n",
       "51. Almenara\n",
       "52. Valdeacederas\n",
       "53. Berruguete\n",
       "54. Gaztambide\n",
       "55. Rios Rosas\n",
       "56. Peñagrande\n",
       "57. Argüelles\n",
       "58. Puerta Bonita\n",
       "59. Buenavista\n",
       "60. Abrantes\n",
       "61. Orcasur\n",
       "62. San Fermín\n",
       "63. Almendrales\n",
       "64. Pradolongo\n",
       "65. Portazgo\n",
       "66. Entrevías\n",
       "67. San Diego\n",
       "68. Palomeras Bajas\n",
       "69. Fontarrón\n",
       "70. Vinateros\n",
       "71. Ventas\n",
       "72. Pueblo Nuevo\n",
       "73. Quintana\n",
       "74. Concepción\n",
       "75. San Juan Bautista\n",
       "76. Costillares\n",
       "77. Piovera\n",
       "78. Canillas\n",
       "79. Pinar del Rey\n",
       "80. Apostol Santiago\n",
       "81. San Andrés\n",
       "82. Valdefuentes\n",
       "83. Butarque\n",
       "84. Los Angeles\n",
       "85. Casco Histórico de Vicálvaro\n",
       "86. Simancas\n",
       "87. Rejas\n",
       "88. Salvador\n",
       "89. Casco Histórico de Barajas\n",
       "90. Pilar\n",
       "91. La Paz\n",
       "92. Mirasierra\n",
       "93. Ciudad Universitaria\n",
       "94. Moscardó\n",
       "95. Palomeras Sureste\n",
       "96. Marroquina\n",
       "97. Media Legua\n",
       "98. Los Rosales\n",
       "99. Casco Histórico de Vallecas\n",
       "100. Timón\n",
       "101. Corralejos\n",
       "102. Cuatro Vientos\n",
       "103. Colina\n",
       "104. San Cristobal\n",
       "105. Alameda de Osuna\n",
       "106. Aeropuerto\n",
       "107. Palomas\n",
       "108. Zofío\n",
       "109. Aguilas\n",
       "110. Legazpi\n",
       "111. Fuentelareina\n",
       "112. Aravaca\n",
       "113. Ambroz\n",
       "114. Canillejas\n",
       "115. Valdezarza\n",
       "116. Amposta\n",
       "117. San Pascual\n",
       "118. Santa Eugenia\n",
       "119. Arcos\n",
       "120. Rosas\n",
       "121. Valdemarín\n",
       "122. El Plantío\n",
       "123. Hellín\n",
       "124. Pavones\n",
       "125. Orcasitas\n",
       "\n",
       "\n",
       "\n",
       "**Levels**: 1. 'Abrantes'\n",
       "2. 'Acacias'\n",
       "3. 'Adelfas'\n",
       "4. 'Aeropuerto'\n",
       "5. 'Aguilas'\n",
       "6. 'Alameda de Osuna'\n",
       "7. 'Almagro'\n",
       "8. 'Almenara'\n",
       "9. 'Almendrales'\n",
       "10. 'Aluche'\n",
       "11. 'Ambroz'\n",
       "12. 'Amposta'\n",
       "13. 'Apostol Santiago'\n",
       "14. 'Arapiles'\n",
       "15. 'Aravaca'\n",
       "16. 'Arcos'\n",
       "17. 'Argüelles'\n",
       "18. 'Atocha'\n",
       "19. 'Bellas Vistas'\n",
       "20. 'Berruguete'\n",
       "21. 'Buenavista'\n",
       "22. 'Butarque'\n",
       "23. 'Campamento'\n",
       "24. 'Canillas'\n",
       "25. 'Canillejas'\n",
       "26. 'Cármenes'\n",
       "27. 'Casa de Campo'\n",
       "28. 'Casco Histórico de Barajas'\n",
       "29. 'Casco Histórico de Vallecas'\n",
       "30. 'Casco Histórico de Vicálvaro'\n",
       "31. 'Castellana'\n",
       "32. 'Castilla'\n",
       "33. 'Castillejos'\n",
       "34. 'Chopera'\n",
       "35. 'Ciudad Jardín'\n",
       "36. 'Ciudad Universitaria'\n",
       "37. 'Colina'\n",
       "38. 'Comillas'\n",
       "39. 'Concepción'\n",
       "40. 'Corralejos'\n",
       "41. 'Cortes'\n",
       "42. 'Costillares'\n",
       "43. 'Cuatro Caminos'\n",
       "44. 'Cuatro Vientos'\n",
       "45. 'Delicias'\n",
       "46. 'El Goloso'\n",
       "47. 'El Plantío'\n",
       "48. 'El Viso'\n",
       "49. 'Embajadores'\n",
       "50. 'Entrevías'\n",
       "51. 'Estrella'\n",
       "52. 'Fontarrón'\n",
       "53. 'Fuente del Berro'\n",
       "54. 'Fuentelareina'\n",
       "55. 'Gaztambide'\n",
       "56. 'Goya'\n",
       "57. 'Guindalera'\n",
       "58. 'Hellín'\n",
       "59. 'Hispanoamérica'\n",
       "60. 'Ibiza'\n",
       "61. 'Imperial'\n",
       "62. 'Jerónimos'\n",
       "63. 'Justicia'\n",
       "64. 'La Paz'\n",
       "65. 'Legazpi'\n",
       "66. 'Lista'\n",
       "67. 'Los Angeles'\n",
       "68. 'Los Rosales'\n",
       "69. 'Lucero'\n",
       "70. 'Marroquina'\n",
       "71. 'Media Legua'\n",
       "72. 'Mirasierra'\n",
       "73. 'Moscardó'\n",
       "74. 'Niño Jesús'\n",
       "75. 'Nueva España'\n",
       "76. 'Numancia'\n",
       "77. 'Opañel'\n",
       "78. 'Orcasitas'\n",
       "79. 'Orcasur'\n",
       "80. 'Pacífico'\n",
       "81. 'Palacio'\n",
       "82. 'Palomas'\n",
       "83. 'Palomeras Bajas'\n",
       "84. 'Palomeras Sureste'\n",
       "85. 'Palos de Moguer'\n",
       "86. 'Pavones'\n",
       "87. 'Peñagrande'\n",
       "88. 'Pilar'\n",
       "89. 'Pinar del Rey'\n",
       "90. 'Piovera'\n",
       "91. 'Portazgo'\n",
       "92. 'Pradolongo'\n",
       "93. 'Prosperidad'\n",
       "94. 'Pueblo Nuevo'\n",
       "95. 'Puerta Bonita'\n",
       "96. 'Puerta del Angel'\n",
       "97. 'Quintana'\n",
       "98. 'Recoletos'\n",
       "99. 'Rejas'\n",
       "100. 'Rios Rosas'\n",
       "101. 'Rosas'\n",
       "102. 'Salvador'\n",
       "103. 'San Andrés'\n",
       "104. 'San Cristobal'\n",
       "105. 'San Diego'\n",
       "106. 'San Fermín'\n",
       "107. 'San Isidro'\n",
       "108. 'San Juan Bautista'\n",
       "109. 'San Pascual'\n",
       "110. 'Santa Eugenia'\n",
       "111. 'Simancas'\n",
       "112. 'Sol'\n",
       "113. 'Timón'\n",
       "114. 'Trafalgar'\n",
       "115. 'Universidad'\n",
       "116. 'Valdeacederas'\n",
       "117. 'Valdefuentes'\n",
       "118. 'Valdemarín'\n",
       "119. 'Valdezarza'\n",
       "120. 'Vallehermoso'\n",
       "121. 'Valverde'\n",
       "122. 'Ventas'\n",
       "123. 'Vinateros'\n",
       "124. 'Vista Alegre'\n",
       "125. 'Zofío'\n",
       "\n",
       "\n"
      ],
      "text/plain": [
       "  [1] Universidad                  Sol                         \n",
       "  [3] Imperial                     Acacias                     \n",
       "  [5] Chopera                      Delicias                    \n",
       "  [7] Palos de Moguer              Embajadores                 \n",
       "  [9] Cortes                       Atocha                      \n",
       " [11] Pacífico                     Adelfas                     \n",
       " [13] Estrella                     Ibiza                       \n",
       " [15] Jerónimos                    Niño Jesús                  \n",
       " [17] Palacio                      Justicia                    \n",
       " [19] Recoletos                    Goya                        \n",
       " [21] Fuente del Berro             Arapiles                    \n",
       " [23] Trafalgar                    Almagro                     \n",
       " [25] Guindalera                   Lista                       \n",
       " [27] Castellana                   El Viso                     \n",
       " [29] Prosperidad                  Valverde                    \n",
       " [31] Casa de Campo                El Goloso                   \n",
       " [33] Numancia                     Cármenes                    \n",
       " [35] Puerta del Angel             Lucero                      \n",
       " [37] Aluche                       San Isidro                  \n",
       " [39] Campamento                   Comillas                    \n",
       " [41] Opañel                       Vista Alegre                \n",
       " [43] Ciudad Jardín                Hispanoamérica              \n",
       " [45] Nueva España                 Castilla                    \n",
       " [47] Bellas Vistas                Cuatro Caminos              \n",
       " [49] Castillejos                  Vallehermoso                \n",
       " [51] Almenara                     Valdeacederas               \n",
       " [53] Berruguete                   Gaztambide                  \n",
       " [55] Rios Rosas                   Peñagrande                  \n",
       " [57] Argüelles                    Puerta Bonita               \n",
       " [59] Buenavista                   Abrantes                    \n",
       " [61] Orcasur                      San Fermín                  \n",
       " [63] Almendrales                  Pradolongo                  \n",
       " [65] Portazgo                     Entrevías                   \n",
       " [67] San Diego                    Palomeras Bajas             \n",
       " [69] Fontarrón                    Vinateros                   \n",
       " [71] Ventas                       Pueblo Nuevo                \n",
       " [73] Quintana                     Concepción                  \n",
       " [75] San Juan Bautista            Costillares                 \n",
       " [77] Piovera                      Canillas                    \n",
       " [79] Pinar del Rey                Apostol Santiago            \n",
       " [81] San Andrés                   Valdefuentes                \n",
       " [83] Butarque                     Los Angeles                 \n",
       " [85] Casco Histórico de Vicálvaro Simancas                    \n",
       " [87] Rejas                        Salvador                    \n",
       " [89] Casco Histórico de Barajas   Pilar                       \n",
       " [91] La Paz                       Mirasierra                  \n",
       " [93] Ciudad Universitaria         Moscardó                    \n",
       " [95] Palomeras Sureste            Marroquina                  \n",
       " [97] Media Legua                  Los Rosales                 \n",
       " [99] Casco Histórico de Vallecas  Timón                       \n",
       "[101] Corralejos                   Cuatro Vientos              \n",
       "[103] Colina                       San Cristobal               \n",
       "[105] Alameda de Osuna             Aeropuerto                  \n",
       "[107] Palomas                      Zofío                       \n",
       "[109] Aguilas                      Legazpi                     \n",
       "[111] Fuentelareina                Aravaca                     \n",
       "[113] Ambroz                       Canillejas                  \n",
       "[115] Valdezarza                   Amposta                     \n",
       "[117] San Pascual                  Santa Eugenia               \n",
       "[119] Arcos                        Rosas                       \n",
       "[121] Valdemarín                   El Plantío                  \n",
       "[123] Hellín                       Pavones                     \n",
       "[125] Orcasitas                   \n",
       "125 Levels: Abrantes Acacias Adelfas Aeropuerto Aguilas ... Zofío"
      ]
     },
     "metadata": {},
     "output_type": "display_data"
    }
   ],
   "source": [
    "tbl_cant<-table(unique(airbnb$Barrio))\n",
    "paste('en el dataset hay ',sum(tbl_cant),' barrios')\n",
    "unique(airbnb$Barrio)"
   ]
  },
  {
   "cell_type": "markdown",
   "metadata": {},
   "source": [
    "¿Cuales son los 5 barrios que tienen mayor número entradas?"
   ]
  },
  {
   "cell_type": "code",
   "execution_count": 15,
   "metadata": {},
   "outputs": [
    {
     "data": {
      "text/plain": [
       "\n",
       "Embajadores Universidad     Palacio         Sol    Justicia \n",
       "       1844        1358        1083         940         785 "
      ]
     },
     "metadata": {},
     "output_type": "display_data"
    }
   ],
   "source": [
    "tbl_barrio_mayor<-table(airbnb$Barrio)\n",
    "sort(tbl_barrio_mayor, decreasing = TRUE)[1:5]"
   ]
  },
  {
   "cell_type": "markdown",
   "metadata": {},
   "source": [
    "¿Cuantos Tipos de Alquiler diferentes hay? ¿Cuales son? ¿Cuantas entradas en el dataframe hay por cada tipo?"
   ]
  },
  {
   "cell_type": "code",
   "execution_count": 16,
   "metadata": {},
   "outputs": [
    {
     "data": {
      "text/html": [
       "<span style=white-space:pre-wrap>'hay  3  tipos de alquiler'</span>"
      ],
      "text/latex": [
       "'hay  3  tipos de alquiler'"
      ],
      "text/markdown": [
       "<span style=white-space:pre-wrap>'hay  3  tipos de alquiler'</span>"
      ],
      "text/plain": [
       "[1] \"hay  3  tipos de alquiler\""
      ]
     },
     "metadata": {},
     "output_type": "display_data"
    },
    {
     "data": {
      "text/plain": [
       "\n",
       "Entire home/apt    Private room     Shared room \n",
       "           7903            5113             191 "
      ]
     },
     "metadata": {},
     "output_type": "display_data"
    }
   ],
   "source": [
    "tbl_alquiler<-table(airbnb$TipoAlquiler)\n",
    "tbl_alquiler_cant<-table(unique(airbnb$TipoAlquiler))\n",
    "paste('hay ', sum(tbl_alquiler_cant), ' tipos de alquiler')\n",
    "tbl_alquiler"
   ]
  },
  {
   "cell_type": "markdown",
   "metadata": {},
   "source": [
    "Muestra el diagrama de cajas del precio para cada uno de los diferentes Tipos de Alquiler"
   ]
  },
  {
   "cell_type": "code",
   "execution_count": 17,
   "metadata": {},
   "outputs": [
    {
     "data": {
      "image/png": "[encoded data removed]",
      "text/plain": [
       "plot without title"
      ]
     },
     "metadata": {},
     "output_type": "display_data"
    }
   ],
   "source": [
    "#creo otro dataframe para quitar los NA ya que me daba error si no los quitaba\n",
    "airbnb_cajas<-data.frame(na.omit(airbnb))\n",
    "\n",
    "ggplot(data=airbnb_cajas, aes(x=TipoAlquiler, y=Precio,color=TipoAlquiler))+geom_boxplot()+\n",
    " scale_color_discrete(name=\"Longitud\")\n"
   ]
  },
  {
   "cell_type": "markdown",
   "metadata": {},
   "source": [
    "Cual es el precio medio de alquiler medio de cada uno, la diferencia que hay ¿es estadísticamente significativa?\n",
    "¿Con que test lo comprobarías?"
   ]
  },
  {
   "cell_type": "code",
   "execution_count": 18,
   "metadata": {},
   "outputs": [
    {
     "data": {
      "text/html": [
       "<span style=white-space:pre-wrap>'Precio medio de Entire home /apt:  87.3'</span>"
      ],
      "text/latex": [
       "'Precio medio de Entire home /apt:  87.3'"
      ],
      "text/markdown": [
       "<span style=white-space:pre-wrap>'Precio medio de Entire home /apt:  87.3'</span>"
      ],
      "text/plain": [
       "[1] \"Precio medio de Entire home /apt:  87.3\""
      ]
     },
     "metadata": {},
     "output_type": "display_data"
    },
    {
     "data": {
      "text/html": [
       "<span style=white-space:pre-wrap>'Precio medio de Privater room:  34.26'</span>"
      ],
      "text/latex": [
       "'Precio medio de Privater room:  34.26'"
      ],
      "text/markdown": [
       "<span style=white-space:pre-wrap>'Precio medio de Privater room:  34.26'</span>"
      ],
      "text/plain": [
       "[1] \"Precio medio de Privater room:  34.26\""
      ]
     },
     "metadata": {},
     "output_type": "display_data"
    },
    {
     "data": {
      "text/html": [
       "<span style=white-space:pre-wrap>'Precio medio de shared room:  29.85'</span>"
      ],
      "text/latex": [
       "'Precio medio de shared room:  29.85'"
      ],
      "text/markdown": [
       "<span style=white-space:pre-wrap>'Precio medio de shared room:  29.85'</span>"
      ],
      "text/plain": [
       "[1] \"Precio medio de shared room:  29.85\""
      ]
     },
     "metadata": {},
     "output_type": "display_data"
    },
    {
     "data": {
      "text/plain": [
       "\n",
       "\tShapiro-Wilk normality test\n",
       "\n",
       "data:  entire_home\n",
       "W = 0.6904, p-value < 2.2e-16\n"
      ]
     },
     "metadata": {},
     "output_type": "display_data"
    },
    {
     "data": {
      "text/plain": [
       "\n",
       "\tShapiro-Wilk normality test\n",
       "\n",
       "data:  private_room\n",
       "W = 0.34869, p-value < 2.2e-16\n"
      ]
     },
     "metadata": {},
     "output_type": "display_data"
    },
    {
     "data": {
      "text/plain": [
       "\n",
       "\tShapiro-Wilk normality test\n",
       "\n",
       "data:  shared_room\n",
       "W = 0.68517, p-value = 1.599e-10\n"
      ]
     },
     "metadata": {},
     "output_type": "display_data"
    },
    {
     "data": {
      "text/html": [
       "'vemos con el test de shapiro que no lleva una distribución normal asi que utilizaremos el test Kruskal-Wallis'"
      ],
      "text/latex": [
       "'vemos con el test de shapiro que no lleva una distribución normal asi que utilizaremos el test Kruskal-Wallis'"
      ],
      "text/markdown": [
       "'vemos con el test de shapiro que no lleva una distribución normal asi que utilizaremos el test Kruskal-Wallis'"
      ],
      "text/plain": [
       "[1] \"vemos con el test de shapiro que no lleva una distribución normal asi que utilizaremos el test Kruskal-Wallis\""
      ]
     },
     "metadata": {},
     "output_type": "display_data"
    }
   ],
   "source": [
    "media_entire<-mean(na.omit(airbnb$Precio[airbnb$TipoAlquiler=='Entire home/apt']))\n",
    "media_private<-mean(na.omit(airbnb$Precio[airbnb$TipoAlquiler=='Private room']))\n",
    "media_shared<-mean(na.omit(airbnb$Precio[airbnb$TipoAlquiler=='Shared room']))\n",
    "paste('Precio medio de Entire home /apt: ',round(media_entire,2))\n",
    "paste ('Precio medio de Privater room: ',round(media_private,2))\n",
    "paste ('Precio medio de shared room: ',round(media_shared,2))\n",
    "airbnb_test<-data.frame(airbnb[sample (1:nrow(airbnb),5000),])\n",
    "entire_home<-airbnb_test$Precio[airbnb_test$TipoAlquiler=='Entire home/apt']\n",
    "private_room<-airbnb_test$Precio[airbnb_test$TipoAlquiler=='Private room']\n",
    "shared_room<-airbnb_test$Precio[airbnb_test$TipoAlquiler=='Shared room']\n",
    "shapiro.test(entire_home)\n",
    "shapiro.test(private_room)\n",
    "shapiro.test(shared_room)\n",
    "paste('vemos con el test de shapiro que no lleva una distribución normal asi que utilizaremos el test Kruskal-Wallis')"
   ]
  },
  {
   "cell_type": "code",
   "execution_count": 19,
   "metadata": {},
   "outputs": [
    {
     "data": {
      "text/plain": [
       "\n",
       "\tKruskal-Wallis rank sum test\n",
       "\n",
       "data:  Precio by TipoAlquiler\n",
       "Kruskal-Wallis chi-squared = 7235.6, df = 2, p-value < 2.2e-16\n"
      ]
     },
     "metadata": {},
     "output_type": "display_data"
    },
    {
     "data": {
      "text/html": [
       "'vemos que el p valor es muy bajo y asumimos que no es estadisticamente significativo'"
      ],
      "text/latex": [
       "'vemos que el p valor es muy bajo y asumimos que no es estadisticamente significativo'"
      ],
      "text/markdown": [
       "'vemos que el p valor es muy bajo y asumimos que no es estadisticamente significativo'"
      ],
      "text/plain": [
       "[1] \"vemos que el p valor es muy bajo y asumimos que no es estadisticamente significativo\""
      ]
     },
     "metadata": {},
     "output_type": "display_data"
    }
   ],
   "source": [
    "kruskal.test( Precio~TipoAlquiler, data=airbnb)\n",
    "paste('vemos que el p valor es muy bajo y asumimos que no es estadisticamente significativo')"
   ]
  },
  {
   "cell_type": "markdown",
   "metadata": {},
   "source": [
    "Filtra el dataframe cuyos tipo de alquiler sea  'Entire home/apt' y guardalo en un dataframe llamado \n",
    "*airbnb_entire*.\n",
    "Estas serán las entradas que tienen un alquiler del piso completo."
   ]
  },
  {
   "cell_type": "code",
   "execution_count": 20,
   "metadata": {},
   "outputs": [
    {
     "data": {
      "text/html": [
       "<table>\n",
       "<caption>A data.frame: 6 × 14</caption>\n",
       "<thead>\n",
       "\t<tr><th></th><th scope=col>CodigoPostal</th><th scope=col>Barrio</th><th scope=col>TipoPropiedad</th><th scope=col>TipoAlquiler</th><th scope=col>MaxOcupantes</th><th scope=col>NumBanyos</th><th scope=col>NumDormitorios</th><th scope=col>NumCamas</th><th scope=col>TipoCama</th><th scope=col>Comodidades</th><th scope=col>PiesCuadrados</th><th scope=col>Precio</th><th scope=col>Puntuacion</th><th scope=col>MetrosCuadrados</th></tr>\n",
       "\t<tr><th></th><th scope=col>&lt;fct&gt;</th><th scope=col>&lt;fct&gt;</th><th scope=col>&lt;fct&gt;</th><th scope=col>&lt;fct&gt;</th><th scope=col>&lt;int&gt;</th><th scope=col>&lt;dbl&gt;</th><th scope=col>&lt;int&gt;</th><th scope=col>&lt;int&gt;</th><th scope=col>&lt;fct&gt;</th><th scope=col>&lt;fct&gt;</th><th scope=col>&lt;int&gt;</th><th scope=col>&lt;int&gt;</th><th scope=col>&lt;int&gt;</th><th scope=col>&lt;dbl&gt;</th></tr>\n",
       "</thead>\n",
       "<tbody>\n",
       "\t<tr><th scope=row>2</th><td>28004</td><td>Universidad</td><td>Apartment</td><td>Entire home/apt</td><td>6</td><td>1</td><td>3</td><td> 5</td><td>Real Bed</td><td>TV,Internet,Wireless Internet,Air conditioning,Kitchen,Indoor fireplace,Heating,Family/kid friendly,Washer,Dryer,Smoke detector,Carbon monoxide detector,Essentials,Shampoo                                                                                                                                                                                     </td><td> NA</td><td>92</td><td> 96</td><td>   NA</td></tr>\n",
       "\t<tr><th scope=row>3</th><td>28004</td><td>Universidad</td><td>Apartment</td><td>Entire home/apt</td><td>3</td><td>1</td><td>2</td><td> 2</td><td>Real Bed</td><td>TV,Internet,Wireless Internet,Air conditioning,Kitchen,Doorman,Heating,Family/kid friendly,Washer,Essentials,Shampoo,Hangers,Hair dryer,Iron,Laptop friendly workspace                                                                                                                                                                                          </td><td> NA</td><td>55</td><td> 91</td><td>   NA</td></tr>\n",
       "\t<tr><th scope=row>4</th><td>28004</td><td>Universidad</td><td>Loft     </td><td>Entire home/apt</td><td>3</td><td>2</td><td>1</td><td> 1</td><td>Real Bed</td><td>TV,Internet,Wireless Internet,Air conditioning,Kitchen,Pets allowed,Breakfast,Elevator in building,Indoor fireplace,Buzzer/wireless intercom,Heating,Washer,Essentials,Shampoo,Hangers,Hair dryer,Iron,Laptop friendly workspace,translation missing: en.hosting_amenity_49,translation missing: en.hosting_amenity_50                                          </td><td> NA</td><td>60</td><td>100</td><td>   NA</td></tr>\n",
       "\t<tr><th scope=row>5</th><td>28015</td><td>Universidad</td><td>Apartment</td><td>Entire home/apt</td><td>5</td><td>1</td><td>1</td><td> 1</td><td>Real Bed</td><td>TV,Wireless Internet,Air conditioning,Kitchen,Smoking allowed,Pets allowed,Elevator in building,Heating,Family/kid friendly,Washer,Essentials,Iron                                                                                                                                                                                                              </td><td>538</td><td>75</td><td> 90</td><td>49.98</td></tr>\n",
       "\t<tr><th scope=row>6</th><td>28004</td><td>Universidad</td><td>Apartment</td><td>Entire home/apt</td><td>2</td><td>1</td><td>0</td><td> 1</td><td>Real Bed</td><td>TV,Cable TV,Internet,Wireless Internet,Air conditioning,Wheelchair accessible,Kitchen,Doorman,Elevator in building,Buzzer/wireless intercom,Heating,Washer,Smoke detector,Carbon monoxide detector,First aid kit,Safety card,Fire extinguisher,Essentials,Shampoo,24-hour check-in,Hangers,Hair dryer,Iron,Laptop friendly workspace,Self Check-In,Doorman Entry</td><td> NA</td><td>55</td><td> 95</td><td>   NA</td></tr>\n",
       "\t<tr><th scope=row>8</th><td>28004</td><td>Universidad</td><td>Apartment</td><td>Entire home/apt</td><td>3</td><td>1</td><td>1</td><td>NA</td><td>Real Bed</td><td>TV,Wireless Internet,Air conditioning,Kitchen,Elevator in building,Buzzer/wireless intercom,Heating,Washer                                                                                                                                                                                                                                                      </td><td> NA</td><td>70</td><td> 84</td><td>   NA</td></tr>\n",
       "</tbody>\n",
       "</table>\n"
      ],
      "text/latex": [
       "A data.frame: 6 × 14\n",
       "\\begin{tabular}{r|llllllllllllll}\n",
       "  & CodigoPostal & Barrio & TipoPropiedad & TipoAlquiler & MaxOcupantes & NumBanyos & NumDormitorios & NumCamas & TipoCama & Comodidades & PiesCuadrados & Precio & Puntuacion & MetrosCuadrados\\\\\n",
       "  & <fct> & <fct> & <fct> & <fct> & <int> & <dbl> & <int> & <int> & <fct> & <fct> & <int> & <int> & <int> & <dbl>\\\\\n",
       "\\hline\n",
       "\t2 & 28004 & Universidad & Apartment & Entire home/apt & 6 & 1 & 3 &  5 & Real Bed & TV,Internet,Wireless Internet,Air conditioning,Kitchen,Indoor fireplace,Heating,Family/kid friendly,Washer,Dryer,Smoke detector,Carbon monoxide detector,Essentials,Shampoo                                                                                                                                                                                      &  NA & 92 &  96 &    NA\\\\\n",
       "\t3 & 28004 & Universidad & Apartment & Entire home/apt & 3 & 1 & 2 &  2 & Real Bed & TV,Internet,Wireless Internet,Air conditioning,Kitchen,Doorman,Heating,Family/kid friendly,Washer,Essentials,Shampoo,Hangers,Hair dryer,Iron,Laptop friendly workspace                                                                                                                                                                                           &  NA & 55 &  91 &    NA\\\\\n",
       "\t4 & 28004 & Universidad & Loft      & Entire home/apt & 3 & 2 & 1 &  1 & Real Bed & TV,Internet,Wireless Internet,Air conditioning,Kitchen,Pets allowed,Breakfast,Elevator in building,Indoor fireplace,Buzzer/wireless intercom,Heating,Washer,Essentials,Shampoo,Hangers,Hair dryer,Iron,Laptop friendly workspace,translation missing: en.hosting\\_amenity\\_49,translation missing: en.hosting\\_amenity\\_50                                           &  NA & 60 & 100 &    NA\\\\\n",
       "\t5 & 28015 & Universidad & Apartment & Entire home/apt & 5 & 1 & 1 &  1 & Real Bed & TV,Wireless Internet,Air conditioning,Kitchen,Smoking allowed,Pets allowed,Elevator in building,Heating,Family/kid friendly,Washer,Essentials,Iron                                                                                                                                                                                                               & 538 & 75 &  90 & 49.98\\\\\n",
       "\t6 & 28004 & Universidad & Apartment & Entire home/apt & 2 & 1 & 0 &  1 & Real Bed & TV,Cable TV,Internet,Wireless Internet,Air conditioning,Wheelchair accessible,Kitchen,Doorman,Elevator in building,Buzzer/wireless intercom,Heating,Washer,Smoke detector,Carbon monoxide detector,First aid kit,Safety card,Fire extinguisher,Essentials,Shampoo,24-hour check-in,Hangers,Hair dryer,Iron,Laptop friendly workspace,Self Check-In,Doorman Entry &  NA & 55 &  95 &    NA\\\\\n",
       "\t8 & 28004 & Universidad & Apartment & Entire home/apt & 3 & 1 & 1 & NA & Real Bed & TV,Wireless Internet,Air conditioning,Kitchen,Elevator in building,Buzzer/wireless intercom,Heating,Washer                                                                                                                                                                                                                                                       &  NA & 70 &  84 &    NA\\\\\n",
       "\\end{tabular}\n"
      ],
      "text/markdown": [
       "\n",
       "A data.frame: 6 × 14\n",
       "\n",
       "| <!--/--> | CodigoPostal &lt;fct&gt; | Barrio &lt;fct&gt; | TipoPropiedad &lt;fct&gt; | TipoAlquiler &lt;fct&gt; | MaxOcupantes &lt;int&gt; | NumBanyos &lt;dbl&gt; | NumDormitorios &lt;int&gt; | NumCamas &lt;int&gt; | TipoCama &lt;fct&gt; | Comodidades &lt;fct&gt; | PiesCuadrados &lt;int&gt; | Precio &lt;int&gt; | Puntuacion &lt;int&gt; | MetrosCuadrados &lt;dbl&gt; |\n",
       "|---|---|---|---|---|---|---|---|---|---|---|---|---|---|---|\n",
       "| 2 | 28004 | Universidad | Apartment | Entire home/apt | 6 | 1 | 3 |  5 | Real Bed | TV,Internet,Wireless Internet,Air conditioning,Kitchen,Indoor fireplace,Heating,Family/kid friendly,Washer,Dryer,Smoke detector,Carbon monoxide detector,Essentials,Shampoo                                                                                                                                                                                      |  NA | 92 |  96 |    NA |\n",
       "| 3 | 28004 | Universidad | Apartment | Entire home/apt | 3 | 1 | 2 |  2 | Real Bed | TV,Internet,Wireless Internet,Air conditioning,Kitchen,Doorman,Heating,Family/kid friendly,Washer,Essentials,Shampoo,Hangers,Hair dryer,Iron,Laptop friendly workspace                                                                                                                                                                                           |  NA | 55 |  91 |    NA |\n",
       "| 4 | 28004 | Universidad | Loft      | Entire home/apt | 3 | 2 | 1 |  1 | Real Bed | TV,Internet,Wireless Internet,Air conditioning,Kitchen,Pets allowed,Breakfast,Elevator in building,Indoor fireplace,Buzzer/wireless intercom,Heating,Washer,Essentials,Shampoo,Hangers,Hair dryer,Iron,Laptop friendly workspace,translation missing: en.hosting_amenity_49,translation missing: en.hosting_amenity_50                                           |  NA | 60 | 100 |    NA |\n",
       "| 5 | 28015 | Universidad | Apartment | Entire home/apt | 5 | 1 | 1 |  1 | Real Bed | TV,Wireless Internet,Air conditioning,Kitchen,Smoking allowed,Pets allowed,Elevator in building,Heating,Family/kid friendly,Washer,Essentials,Iron                                                                                                                                                                                                               | 538 | 75 |  90 | 49.98 |\n",
       "| 6 | 28004 | Universidad | Apartment | Entire home/apt | 2 | 1 | 0 |  1 | Real Bed | TV,Cable TV,Internet,Wireless Internet,Air conditioning,Wheelchair accessible,Kitchen,Doorman,Elevator in building,Buzzer/wireless intercom,Heating,Washer,Smoke detector,Carbon monoxide detector,First aid kit,Safety card,Fire extinguisher,Essentials,Shampoo,24-hour check-in,Hangers,Hair dryer,Iron,Laptop friendly workspace,Self Check-In,Doorman Entry |  NA | 55 |  95 |    NA |\n",
       "| 8 | 28004 | Universidad | Apartment | Entire home/apt | 3 | 1 | 1 | NA | Real Bed | TV,Wireless Internet,Air conditioning,Kitchen,Elevator in building,Buzzer/wireless intercom,Heating,Washer                                                                                                                                                                                                                                                       |  NA | 70 |  84 |    NA |\n",
       "\n"
      ],
      "text/plain": [
       "  CodigoPostal Barrio      TipoPropiedad TipoAlquiler    MaxOcupantes NumBanyos\n",
       "2 28004        Universidad Apartment     Entire home/apt 6            1        \n",
       "3 28004        Universidad Apartment     Entire home/apt 3            1        \n",
       "4 28004        Universidad Loft          Entire home/apt 3            2        \n",
       "5 28015        Universidad Apartment     Entire home/apt 5            1        \n",
       "6 28004        Universidad Apartment     Entire home/apt 2            1        \n",
       "8 28004        Universidad Apartment     Entire home/apt 3            1        \n",
       "  NumDormitorios NumCamas TipoCama\n",
       "2 3               5       Real Bed\n",
       "3 2               2       Real Bed\n",
       "4 1               1       Real Bed\n",
       "5 1               1       Real Bed\n",
       "6 0               1       Real Bed\n",
       "8 1              NA       Real Bed\n",
       "  Comodidades                                                                                                                                                                                                                                                                                                                                                     \n",
       "2 TV,Internet,Wireless Internet,Air conditioning,Kitchen,Indoor fireplace,Heating,Family/kid friendly,Washer,Dryer,Smoke detector,Carbon monoxide detector,Essentials,Shampoo                                                                                                                                                                                     \n",
       "3 TV,Internet,Wireless Internet,Air conditioning,Kitchen,Doorman,Heating,Family/kid friendly,Washer,Essentials,Shampoo,Hangers,Hair dryer,Iron,Laptop friendly workspace                                                                                                                                                                                          \n",
       "4 TV,Internet,Wireless Internet,Air conditioning,Kitchen,Pets allowed,Breakfast,Elevator in building,Indoor fireplace,Buzzer/wireless intercom,Heating,Washer,Essentials,Shampoo,Hangers,Hair dryer,Iron,Laptop friendly workspace,translation missing: en.hosting_amenity_49,translation missing: en.hosting_amenity_50                                          \n",
       "5 TV,Wireless Internet,Air conditioning,Kitchen,Smoking allowed,Pets allowed,Elevator in building,Heating,Family/kid friendly,Washer,Essentials,Iron                                                                                                                                                                                                              \n",
       "6 TV,Cable TV,Internet,Wireless Internet,Air conditioning,Wheelchair accessible,Kitchen,Doorman,Elevator in building,Buzzer/wireless intercom,Heating,Washer,Smoke detector,Carbon monoxide detector,First aid kit,Safety card,Fire extinguisher,Essentials,Shampoo,24-hour check-in,Hangers,Hair dryer,Iron,Laptop friendly workspace,Self Check-In,Doorman Entry\n",
       "8 TV,Wireless Internet,Air conditioning,Kitchen,Elevator in building,Buzzer/wireless intercom,Heating,Washer                                                                                                                                                                                                                                                      \n",
       "  PiesCuadrados Precio Puntuacion MetrosCuadrados\n",
       "2  NA           92      96           NA          \n",
       "3  NA           55      91           NA          \n",
       "4  NA           60     100           NA          \n",
       "5 538           75      90        49.98          \n",
       "6  NA           55      95           NA          \n",
       "8  NA           70      84           NA          "
      ]
     },
     "metadata": {},
     "output_type": "display_data"
    }
   ],
   "source": [
    "airbnb_entire<-airbnb[(airbnb$TipoAlquiler)=='Entire home/apt',]\n",
    "head(airbnb_entire)\n"
   ]
  },
  {
   "cell_type": "markdown",
   "metadata": {},
   "source": [
    "¿Cuales son los 5 barrios que tienen un mayor número de apartamentos enteros en alquiler?\n",
    "Nota: Mirar solo en airbnb_entire"
   ]
  },
  {
   "cell_type": "code",
   "execution_count": 21,
   "metadata": {},
   "outputs": [
    {
     "data": {
      "text/plain": [
       "\n",
       "Embajadores Universidad     Palacio         Sol      Cortes \n",
       "       1228         984         769         701         574 "
      ]
     },
     "metadata": {},
     "output_type": "display_data"
    }
   ],
   "source": [
    "tbl_barrio_apartamentos<-table(airbnb_entire$Barrio)\n",
    "sort(tbl_barrio_apartamentos, decreasing = TRUE)[1:5]\n"
   ]
  },
  {
   "cell_type": "markdown",
   "metadata": {},
   "source": [
    "¿Cuales son los 5 barrios que tienen un mayor precio medio de alquiler para apartamentos enteros?\n",
    "\n",
    "¿Cual es su precio medio?\n",
    "\n",
    "Ayuda: Usa la función aggregate `aggregate(.~colname,df,mean,na.rm=TRUE)`"
   ]
  },
  {
   "cell_type": "code",
   "execution_count": 22,
   "metadata": {},
   "outputs": [
    {
     "data": {
      "text/html": [
       "<table>\n",
       "<caption>A data.frame: 5 × 2</caption>\n",
       "<thead>\n",
       "\t<tr><th></th><th scope=col>Barrio</th><th scope=col>PrecioMedio</th></tr>\n",
       "\t<tr><th></th><th scope=col>&lt;fct&gt;</th><th scope=col>&lt;dbl&gt;</th></tr>\n",
       "</thead>\n",
       "<tbody>\n",
       "\t<tr><th scope=row>47</th><td>El Plantío   </td><td>280.0000</td></tr>\n",
       "\t<tr><th scope=row>82</th><td>Palomas      </td><td>142.8333</td></tr>\n",
       "\t<tr><th scope=row>98</th><td>Recoletos    </td><td>137.1696</td></tr>\n",
       "\t<tr><th scope=row>54</th><td>Fuentelareina</td><td>127.6667</td></tr>\n",
       "\t<tr><th scope=row>31</th><td>Castellana   </td><td>116.1979</td></tr>\n",
       "</tbody>\n",
       "</table>\n"
      ],
      "text/latex": [
       "A data.frame: 5 × 2\n",
       "\\begin{tabular}{r|ll}\n",
       "  & Barrio & PrecioMedio\\\\\n",
       "  & <fct> & <dbl>\\\\\n",
       "\\hline\n",
       "\t47 & El Plantío    & 280.0000\\\\\n",
       "\t82 & Palomas       & 142.8333\\\\\n",
       "\t98 & Recoletos     & 137.1696\\\\\n",
       "\t54 & Fuentelareina & 127.6667\\\\\n",
       "\t31 & Castellana    & 116.1979\\\\\n",
       "\\end{tabular}\n"
      ],
      "text/markdown": [
       "\n",
       "A data.frame: 5 × 2\n",
       "\n",
       "| <!--/--> | Barrio &lt;fct&gt; | PrecioMedio &lt;dbl&gt; |\n",
       "|---|---|---|\n",
       "| 47 | El Plantío    | 280.0000 |\n",
       "| 82 | Palomas       | 142.8333 |\n",
       "| 98 | Recoletos     | 137.1696 |\n",
       "| 54 | Fuentelareina | 127.6667 |\n",
       "| 31 | Castellana    | 116.1979 |\n",
       "\n"
      ],
      "text/plain": [
       "   Barrio        PrecioMedio\n",
       "47 El Plantío    280.0000   \n",
       "82 Palomas       142.8333   \n",
       "98 Recoletos     137.1696   \n",
       "54 Fuentelareina 127.6667   \n",
       "31 Castellana    116.1979   "
      ]
     },
     "metadata": {},
     "output_type": "display_data"
    }
   ],
   "source": [
    "df_barrio_media<-data.frame(aggregate(Precio~Barrio,airbnb,mean,na.rm=TRUE))\n",
    "names(df_barrio_media)<-c('Barrio','PrecioMedio')\n",
    "head(df_barrio_media[order(-df_barrio_media$Precio),],5)"
   ]
  },
  {
   "cell_type": "markdown",
   "metadata": {},
   "source": [
    "¿Cuantos apartamentos hay en cada uno de esos barrios?\n",
    "\n",
    "Mostrar una dataframe con el nombre del barrio, el precio y el número de entradas.\n",
    "\n",
    "Ayuda: Podeis crear un nuevo dataframe con las columnas \"Barrio\" y \"Freq\" que contenga el número de entradas en cada barrio y hacer un merge con el dataframe del punto anterior."
   ]
  },
  {
   "cell_type": "code",
   "execution_count": 23,
   "metadata": {},
   "outputs": [
    {
     "data": {
      "text/html": [
       "<table>\n",
       "<caption>A data.frame: 5 × 3</caption>\n",
       "<thead>\n",
       "\t<tr><th></th><th scope=col>Barrio</th><th scope=col>PrecioMedio</th><th scope=col>Freq</th></tr>\n",
       "\t<tr><th></th><th scope=col>&lt;fct&gt;</th><th scope=col>&lt;dbl&gt;</th><th scope=col>&lt;int&gt;</th></tr>\n",
       "</thead>\n",
       "<tbody>\n",
       "\t<tr><th scope=row>47</th><td>El Plantío   </td><td>280.0000</td><td>  0</td></tr>\n",
       "\t<tr><th scope=row>82</th><td>Palomas      </td><td>142.8333</td><td>  4</td></tr>\n",
       "\t<tr><th scope=row>98</th><td>Recoletos    </td><td>137.1696</td><td>149</td></tr>\n",
       "\t<tr><th scope=row>54</th><td>Fuentelareina</td><td>127.6667</td><td>  2</td></tr>\n",
       "\t<tr><th scope=row>31</th><td>Castellana   </td><td>116.1979</td><td> 82</td></tr>\n",
       "</tbody>\n",
       "</table>\n"
      ],
      "text/latex": [
       "A data.frame: 5 × 3\n",
       "\\begin{tabular}{r|lll}\n",
       "  & Barrio & PrecioMedio & Freq\\\\\n",
       "  & <fct> & <dbl> & <int>\\\\\n",
       "\\hline\n",
       "\t47 & El Plantío    & 280.0000 &   0\\\\\n",
       "\t82 & Palomas       & 142.8333 &   4\\\\\n",
       "\t98 & Recoletos     & 137.1696 & 149\\\\\n",
       "\t54 & Fuentelareina & 127.6667 &   2\\\\\n",
       "\t31 & Castellana    & 116.1979 &  82\\\\\n",
       "\\end{tabular}\n"
      ],
      "text/markdown": [
       "\n",
       "A data.frame: 5 × 3\n",
       "\n",
       "| <!--/--> | Barrio &lt;fct&gt; | PrecioMedio &lt;dbl&gt; | Freq &lt;int&gt; |\n",
       "|---|---|---|---|\n",
       "| 47 | El Plantío    | 280.0000 |   0 |\n",
       "| 82 | Palomas       | 142.8333 |   4 |\n",
       "| 98 | Recoletos     | 137.1696 | 149 |\n",
       "| 54 | Fuentelareina | 127.6667 |   2 |\n",
       "| 31 | Castellana    | 116.1979 |  82 |\n",
       "\n"
      ],
      "text/plain": [
       "   Barrio        PrecioMedio Freq\n",
       "47 El Plantío    280.0000      0 \n",
       "82 Palomas       142.8333      4 \n",
       "98 Recoletos     137.1696    149 \n",
       "54 Fuentelareina 127.6667      2 \n",
       "31 Castellana    116.1979     82 "
      ]
     },
     "metadata": {},
     "output_type": "display_data"
    }
   ],
   "source": [
    "df_barrio_apartamento<-data.frame(aggregate((TipoPropiedad=='Apartment')~Barrio,airbnb,sum,na.rm=TRUE))\n",
    "names(df_barrio_apartamento)<-c('Barrio','Freq')\n",
    "head((merge (df_barrio_media,df_barrio_apartamento, by = \"Barrio\", sort=F))[order(-df_barrio_media$Precio),],5)\n"
   ]
  },
  {
   "cell_type": "markdown",
   "metadata": {},
   "source": [
    "Partiendo del dataframe anterior, muestra los 5 barrios con mayor precio, pero que tengan más de 100 entradas de alquiler."
   ]
  },
  {
   "cell_type": "code",
   "execution_count": 24,
   "metadata": {},
   "outputs": [
    {
     "data": {
      "text/html": [
       "<table>\n",
       "<caption>A data.frame: 5 × 3</caption>\n",
       "<thead>\n",
       "\t<tr><th></th><th scope=col>Barrio</th><th scope=col>PrecioMedio</th><th scope=col>Freq</th></tr>\n",
       "\t<tr><th></th><th scope=col>&lt;fct&gt;</th><th scope=col>&lt;dbl&gt;</th><th scope=col>&lt;int&gt;</th></tr>\n",
       "</thead>\n",
       "<tbody>\n",
       "\t<tr><th scope=row>98</th><td>Recoletos</td><td>137.16959</td><td>149</td></tr>\n",
       "\t<tr><th scope=row>112</th><td>Sol      </td><td> 85.58936</td><td>833</td></tr>\n",
       "\t<tr><th scope=row>56</th><td>Goya     </td><td> 84.93013</td><td>187</td></tr>\n",
       "\t<tr><th scope=row>114</th><td>Trafalgar</td><td> 82.55238</td><td>279</td></tr>\n",
       "\t<tr><th scope=row>41</th><td>Cortes   </td><td> 82.51467</td><td>671</td></tr>\n",
       "</tbody>\n",
       "</table>\n"
      ],
      "text/latex": [
       "A data.frame: 5 × 3\n",
       "\\begin{tabular}{r|lll}\n",
       "  & Barrio & PrecioMedio & Freq\\\\\n",
       "  & <fct> & <dbl> & <int>\\\\\n",
       "\\hline\n",
       "\t98 & Recoletos & 137.16959 & 149\\\\\n",
       "\t112 & Sol       &  85.58936 & 833\\\\\n",
       "\t56 & Goya      &  84.93013 & 187\\\\\n",
       "\t114 & Trafalgar &  82.55238 & 279\\\\\n",
       "\t41 & Cortes    &  82.51467 & 671\\\\\n",
       "\\end{tabular}\n"
      ],
      "text/markdown": [
       "\n",
       "A data.frame: 5 × 3\n",
       "\n",
       "| <!--/--> | Barrio &lt;fct&gt; | PrecioMedio &lt;dbl&gt; | Freq &lt;int&gt; |\n",
       "|---|---|---|---|\n",
       "| 98 | Recoletos | 137.16959 | 149 |\n",
       "| 112 | Sol       |  85.58936 | 833 |\n",
       "| 56 | Goya      |  84.93013 | 187 |\n",
       "| 114 | Trafalgar |  82.55238 | 279 |\n",
       "| 41 | Cortes    |  82.51467 | 671 |\n",
       "\n"
      ],
      "text/plain": [
       "    Barrio    PrecioMedio Freq\n",
       "98  Recoletos 137.16959   149 \n",
       "112 Sol        85.58936   833 \n",
       "56  Goya       84.93013   187 \n",
       "114 Trafalgar  82.55238   279 \n",
       "41  Cortes     82.51467   671 "
      ]
     },
     "metadata": {},
     "output_type": "display_data"
    }
   ],
   "source": [
    "df_barrio_cien<-merge (df_barrio_media,df_barrio_apartamento, by = \"Barrio\", sort=F)\n",
    "df_barrio_cien<-df_barrio_cien[df_barrio_cien$Freq>=100,]\n",
    "df_barrio_cien<-head(df_barrio_cien[order(-df_barrio_cien$Precio),],5)\n",
    "df_barrio_cien\n",
    "\n"
   ]
  },
  {
   "cell_type": "markdown",
   "metadata": {},
   "source": [
    "Dibuja el diagrama de densidad de distribución de los diferentes precios"
   ]
  },
  {
   "cell_type": "code",
   "execution_count": 25,
   "metadata": {},
   "outputs": [
    {
     "data": {
      "image/png": "[encoded data removed]",
      "text/plain": [
       "plot without title"
      ]
     },
     "metadata": {},
     "output_type": "display_data"
    }
   ],
   "source": [
    "ggplot(data=df_barrio_cien,aes(x=PrecioMedio))+geom_density(fill='#7070BB',color=\"#2020EE\",bw=5)"
   ]
  },
  {
   "cell_type": "markdown",
   "metadata": {},
   "source": [
    "## <font color='red'>**Comentarios**</font>\n",
    "\n",
    "Esperaba una curva por cada barrio. Ten en cuenta que la curva de densidad de precios medios realmente no aporta una información muy útil.\n",
    "Si acaso si podría aportar la curva de densidad de todos los pisos que se encuentran en esos barrios, aunque fuera agrupado.\n",
    "\n",
    "Se puede represntar de forma desagrupada por cada barrio de la siguiente forma:"
   ]
  },
  {
   "cell_type": "code",
   "execution_count": 26,
   "metadata": {},
   "outputs": [
    {
     "name": "stderr",
     "output_type": "stream",
     "text": [
      "Warning message:\n",
      "“Removed 1 rows containing non-finite values (stat_density).”"
     ]
    },
    {
     "data": {
      "image/png": "[encoded data removed]",
      "text/plain": [
       "plot without title"
      ]
     },
     "metadata": {},
     "output_type": "display_data"
    }
   ],
   "source": [
    "top_barrios<-subset(airbnb_entire,Barrio %in% df_barrio_cien$Barrio)\n",
    "ggplot(top_barrios,aes(x=Precio,color=Barrio))+geom_density()"
   ]
  },
  {
   "cell_type": "markdown",
   "metadata": {},
   "source": [
    "Calcula el tamaño medio, en metros cuadrados, para los 5 barrios anteriores y muestralo en el mismo dataframe junto con el precio y número de entradas"
   ]
  },
  {
   "cell_type": "code",
   "execution_count": 27,
   "metadata": {},
   "outputs": [
    {
     "data": {
      "text/html": [
       "<table>\n",
       "<caption>A data.frame: 5 × 4</caption>\n",
       "<thead>\n",
       "\t<tr><th scope=col>Barrio</th><th scope=col>PrecioMedio</th><th scope=col>Freq</th><th scope=col>MediaMetros</th></tr>\n",
       "\t<tr><th scope=col>&lt;fct&gt;</th><th scope=col>&lt;dbl&gt;</th><th scope=col>&lt;int&gt;</th><th scope=col>&lt;dbl&gt;</th></tr>\n",
       "</thead>\n",
       "<tbody>\n",
       "\t<tr><td>Recoletos</td><td>137.16959</td><td>149</td><td>26.66333</td></tr>\n",
       "\t<tr><td>Sol      </td><td> 85.58936</td><td>833</td><td>41.40328</td></tr>\n",
       "\t<tr><td>Goya     </td><td> 84.93013</td><td>187</td><td>50.40800</td></tr>\n",
       "\t<tr><td>Trafalgar</td><td> 82.55238</td><td>279</td><td>48.51400</td></tr>\n",
       "\t<tr><td>Cortes   </td><td> 82.51467</td><td>671</td><td>15.35200</td></tr>\n",
       "</tbody>\n",
       "</table>\n"
      ],
      "text/latex": [
       "A data.frame: 5 × 4\n",
       "\\begin{tabular}{r|llll}\n",
       " Barrio & PrecioMedio & Freq & MediaMetros\\\\\n",
       " <fct> & <dbl> & <int> & <dbl>\\\\\n",
       "\\hline\n",
       "\t Recoletos & 137.16959 & 149 & 26.66333\\\\\n",
       "\t Sol       &  85.58936 & 833 & 41.40328\\\\\n",
       "\t Goya      &  84.93013 & 187 & 50.40800\\\\\n",
       "\t Trafalgar &  82.55238 & 279 & 48.51400\\\\\n",
       "\t Cortes    &  82.51467 & 671 & 15.35200\\\\\n",
       "\\end{tabular}\n"
      ],
      "text/markdown": [
       "\n",
       "A data.frame: 5 × 4\n",
       "\n",
       "| Barrio &lt;fct&gt; | PrecioMedio &lt;dbl&gt; | Freq &lt;int&gt; | MediaMetros &lt;dbl&gt; |\n",
       "|---|---|---|---|\n",
       "| Recoletos | 137.16959 | 149 | 26.66333 |\n",
       "| Sol       |  85.58936 | 833 | 41.40328 |\n",
       "| Goya      |  84.93013 | 187 | 50.40800 |\n",
       "| Trafalgar |  82.55238 | 279 | 48.51400 |\n",
       "| Cortes    |  82.51467 | 671 | 15.35200 |\n",
       "\n"
      ],
      "text/plain": [
       "  Barrio    PrecioMedio Freq MediaMetros\n",
       "1 Recoletos 137.16959   149  26.66333   \n",
       "2 Sol        85.58936   833  41.40328   \n",
       "3 Goya       84.93013   187  50.40800   \n",
       "4 Trafalgar  82.55238   279  48.51400   \n",
       "5 Cortes     82.51467   671  15.35200   "
      ]
     },
     "metadata": {},
     "output_type": "display_data"
    }
   ],
   "source": [
    "df_barrio_metros<-data.frame(aggregate(MetrosCuadrados~Barrio,airbnb,mean,na.rm=TRUE))\n",
    "names(df_barrio_metros)<-c('Barrio','MediaMetros')\n",
    "df_freq_metros<-data.frame(head((merge (df_barrio_cien,df_barrio_metros, by = \"Barrio\", sort=F))[order(-df_barrio_cien$Precio),],5))\n",
    "df_freq_metros"
   ]
  },
  {
   "cell_type": "markdown",
   "metadata": {},
   "source": [
    "Dibuja el diagrama de densidad de distribución de los diferentes tamaños de apartamentos"
   ]
  },
  {
   "cell_type": "code",
   "execution_count": 28,
   "metadata": {},
   "outputs": [
    {
     "data": {
      "image/png": "[encoded data removed]",
      "text/plain": [
       "plot without title"
      ]
     },
     "metadata": {},
     "output_type": "display_data"
    }
   ],
   "source": [
    "ggplot(data=df_freq_metros,aes(x=MediaMetros))+\n",
    "geom_density(fill='#7070BB',color=\"#2020EE\",bw=5)"
   ]
  },
  {
   "cell_type": "markdown",
   "metadata": {},
   "source": [
    "## <font color='red'>**Comentarios**</font>\n",
    "\n",
    "Al igual que en el caso anteior esperaba una curva por cada barrio o, aunque fuera para todos los barrios juntos, por lo menos sobre los valores de metros completos, no sobre sus medias.\n",
    "\n",
    "Se puede representar de forma desagrupada por cada barrio de la siguiente forma:"
   ]
  },
  {
   "cell_type": "code",
   "execution_count": 29,
   "metadata": {},
   "outputs": [
    {
     "name": "stderr",
     "output_type": "stream",
     "text": [
      "Warning message:\n",
      "“Removed 1674 rows containing non-finite values (stat_density).”"
     ]
    },
    {
     "data": {
      "image/png": "[encoded data removed]",
      "text/plain": [
       "plot without title"
      ]
     },
     "metadata": {},
     "output_type": "display_data"
    }
   ],
   "source": [
    "top_barrios<-subset(airbnb_entire,Barrio %in% df_barrio_cien$Barrio)\n",
    "ggplot(top_barrios,aes(x=MetrosCuadrados,color=Barrio))+geom_density()"
   ]
  },
  {
   "cell_type": "markdown",
   "metadata": {},
   "source": [
    "Esta claro que las medias de cada uno de estos 5 barrios parecen ser diferentes, pero ¿son estadísticamente diferentes?\n",
    "¿Que test habría que usar para comprobarlo?"
   ]
  },
  {
   "cell_type": "code",
   "execution_count": 30,
   "metadata": {},
   "outputs": [
    {
     "data": {
      "text/html": [
       "'usaremos el test kruskal walls'"
      ],
      "text/latex": [
       "'usaremos el test kruskal walls'"
      ],
      "text/markdown": [
       "'usaremos el test kruskal walls'"
      ],
      "text/plain": [
       "[1] \"usaremos el test kruskal walls\""
      ]
     },
     "metadata": {},
     "output_type": "display_data"
    },
    {
     "data": {
      "text/plain": [
       "\n",
       "\tKruskal-Wallis rank sum test\n",
       "\n",
       "data:  MetrosCuadrados by Barrio\n",
       "Kruskal-Wallis chi-squared = 9.3802, df = 4, p-value = 0.05227\n"
      ]
     },
     "metadata": {},
     "output_type": "display_data"
    },
    {
     "data": {
      "text/html": [
       "'vemos que segun el test dice que son estadisticamente significativo el unico problema que hay muchos NA y muchos apartamentos con 0 Metros'"
      ],
      "text/latex": [
       "'vemos que segun el test dice que son estadisticamente significativo el unico problema que hay muchos NA y muchos apartamentos con 0 Metros'"
      ],
      "text/markdown": [
       "'vemos que segun el test dice que son estadisticamente significativo el unico problema que hay muchos NA y muchos apartamentos con 0 Metros'"
      ],
      "text/plain": [
       "[1] \"vemos que segun el test dice que son estadisticamente significativo el unico problema que hay muchos NA y muchos apartamentos con 0 Metros\""
      ]
     },
     "metadata": {},
     "output_type": "display_data"
    },
    {
     "data": {
      "text/plain": [
       "\n",
       "\tKruskal-Wallis rank sum test\n",
       "\n",
       "data:  MetrosCuadrados by Barrio\n",
       "Kruskal-Wallis chi-squared = 10.999, df = 4, p-value = 0.02657\n"
      ]
     },
     "metadata": {},
     "output_type": "display_data"
    },
    {
     "data": {
      "text/html": [
       "'una vez limpios vemos que no son estadisticamente significativos'"
      ],
      "text/latex": [
       "'una vez limpios vemos que no son estadisticamente significativos'"
      ],
      "text/markdown": [
       "'una vez limpios vemos que no son estadisticamente significativos'"
      ],
      "text/plain": [
       "[1] \"una vez limpios vemos que no son estadisticamente significativos\""
      ]
     },
     "metadata": {},
     "output_type": "display_data"
    }
   ],
   "source": [
    "paste('usaremos el test kruskal walls')\n",
    "airbnb_medias<-airbnb[(airbnb$Barrio)=='Recoletos'|(airbnb$Barrio)=='Sol'|(airbnb$Barrio)=='Goya'|(airbnb$Barrio)=='Trafalgar'|(airbnb$Barrio)=='Cortes',]\n",
    "kruskal.test(MetrosCuadrados~Barrio, data=airbnb_medias)\n",
    "paste('vemos que segun el test dice que son estadisticamente significativo el unico problema que hay muchos NA y muchos apartamentos con 0 Metros')\n",
    "airbnb_medias<-airbnb_medias[(airbnb_medias$MetrosCuadrados)>0,]\n",
    "airbnb_medias<-airbnb_medias[!is.na(airbnb_medias$MetrosCuadrados),]\n",
    "kruskal.test(MetrosCuadrados~Barrio, data=airbnb_medias)\n",
    "paste('una vez limpios vemos que no son estadisticamente significativos')"
   ]
  },
  {
   "cell_type": "markdown",
   "metadata": {},
   "source": [
    "## <font color='red'>**Comentarios**</font>\n",
    "\n",
    "Para responder la pregunta de si los valores son estadísticamente hay que hacer un test de tipo ANOVA como hiciste. Como bien sabes hay que tener cuidado porque el test ANOVA solo funciona cuando la distribución de valores dentro de cada grupo sigue una distribución gaussiana. En caso contrario se podría usar un test como el de kruskal que has utilizado. \n",
    "\n",
    "Para comprobar si una variable sigue una distribución gaussiana podemos aplicar el test de shapiro. En ese caso veríamos que ningún grupo seguiría una distribución gaussiana. Por lo tanto tendríamos que aplicar un test de kruskal, el cual nos daría un pvalor muy bajo indicando que los grupos tienen medias diferentes.\n",
    "\n",
    "Dicho esto,la parte que te falta es la de realizar el test de shapiro, pero el resultado está bien.\n",
    "\n",
    "Yo esperaba que se realizara con el dataframe *airbnb_entire*, pero has usado el data frame *airbnb* en todos estos ejercicios en su lugar."
   ]
  },
  {
   "cell_type": "markdown",
   "metadata": {},
   "source": [
    "Para únicamente los pisos de alquiler en el barrio de Sol:\n",
    "\n",
    "``barrio_sol<-subset(airbnb_entire,Barrio==\"Sol\")``\n",
    "\n",
    "Calcular un modelo lineal que combine alguna de estas variables:\n",
    "* NumBanyos\n",
    "* NumDormitorios\n",
    "* MaxOcupantes\n",
    "* MetrosCuadrados"
   ]
  },
  {
   "cell_type": "code",
   "execution_count": 32,
   "metadata": {},
   "outputs": [
    {
     "data": {
      "text/html": [
       "<table>\n",
       "<caption>A data.frame: 6 × 6</caption>\n",
       "<thead>\n",
       "\t<tr><th></th><th scope=col>MaxOcupantes</th><th scope=col>NumBanyos</th><th scope=col>NumDormitorios</th><th scope=col>NumCamas</th><th scope=col>Precio</th><th scope=col>MetrosCuadrados</th></tr>\n",
       "\t<tr><th></th><th scope=col>&lt;int&gt;</th><th scope=col>&lt;dbl&gt;</th><th scope=col>&lt;int&gt;</th><th scope=col>&lt;int&gt;</th><th scope=col>&lt;int&gt;</th><th scope=col>&lt;dbl&gt;</th></tr>\n",
       "</thead>\n",
       "<tbody>\n",
       "\t<tr><th scope=row>15</th><td>4</td><td>1</td><td>1</td><td>1</td><td> 75</td><td> 60.02</td></tr>\n",
       "\t<tr><th scope=row>25</th><td>4</td><td>1</td><td>1</td><td>1</td><td>100</td><td> 69.96</td></tr>\n",
       "\t<tr><th scope=row>46</th><td>2</td><td>1</td><td>1</td><td>1</td><td> 65</td><td> 24.99</td></tr>\n",
       "\t<tr><th scope=row>47</th><td>3</td><td>1</td><td>0</td><td>2</td><td> 41</td><td>  0.00</td></tr>\n",
       "\t<tr><th scope=row>570</th><td>5</td><td>2</td><td>2</td><td>4</td><td> 90</td><td>  0.00</td></tr>\n",
       "\t<tr><th scope=row>574</th><td>8</td><td>2</td><td>4</td><td>5</td><td>250</td><td>200.02</td></tr>\n",
       "</tbody>\n",
       "</table>\n"
      ],
      "text/latex": [
       "A data.frame: 6 × 6\n",
       "\\begin{tabular}{r|llllll}\n",
       "  & MaxOcupantes & NumBanyos & NumDormitorios & NumCamas & Precio & MetrosCuadrados\\\\\n",
       "  & <int> & <dbl> & <int> & <int> & <int> & <dbl>\\\\\n",
       "\\hline\n",
       "\t15 & 4 & 1 & 1 & 1 &  75 &  60.02\\\\\n",
       "\t25 & 4 & 1 & 1 & 1 & 100 &  69.96\\\\\n",
       "\t46 & 2 & 1 & 1 & 1 &  65 &  24.99\\\\\n",
       "\t47 & 3 & 1 & 0 & 2 &  41 &   0.00\\\\\n",
       "\t570 & 5 & 2 & 2 & 4 &  90 &   0.00\\\\\n",
       "\t574 & 8 & 2 & 4 & 5 & 250 & 200.02\\\\\n",
       "\\end{tabular}\n"
      ],
      "text/markdown": [
       "\n",
       "A data.frame: 6 × 6\n",
       "\n",
       "| <!--/--> | MaxOcupantes &lt;int&gt; | NumBanyos &lt;dbl&gt; | NumDormitorios &lt;int&gt; | NumCamas &lt;int&gt; | Precio &lt;int&gt; | MetrosCuadrados &lt;dbl&gt; |\n",
       "|---|---|---|---|---|---|---|\n",
       "| 15 | 4 | 1 | 1 | 1 |  75 |  60.02 |\n",
       "| 25 | 4 | 1 | 1 | 1 | 100 |  69.96 |\n",
       "| 46 | 2 | 1 | 1 | 1 |  65 |  24.99 |\n",
       "| 47 | 3 | 1 | 0 | 2 |  41 |   0.00 |\n",
       "| 570 | 5 | 2 | 2 | 4 |  90 |   0.00 |\n",
       "| 574 | 8 | 2 | 4 | 5 | 250 | 200.02 |\n",
       "\n"
      ],
      "text/plain": [
       "    MaxOcupantes NumBanyos NumDormitorios NumCamas Precio MetrosCuadrados\n",
       "15  4            1         1              1         75     60.02         \n",
       "25  4            1         1              1        100     69.96         \n",
       "46  2            1         1              1         65     24.99         \n",
       "47  3            1         0              2         41      0.00         \n",
       "570 5            2         2              4         90      0.00         \n",
       "574 8            2         4              5        250    200.02         "
      ]
     },
     "metadata": {},
     "output_type": "display_data"
    }
   ],
   "source": [
    "#elimino las columnas que no voy a necesitar\n",
    "barrio_sol<-subset(airbnb_entire,Barrio==\"Sol\")\n",
    "barrio_sol$CodigoPostal<-NULL\n",
    "barrio_sol$\tTipoPropiedad<-NULL\n",
    "barrio_sol$TipoAlquiler<-NULL\n",
    "barrio_sol$TipoCama<-NULL\n",
    "barrio_sol$Barrio<-NULL\n",
    "barrio_sol$Comodidades<-NULL\n",
    "barrio_sol$PiesCuadrados<-NULL\n",
    "barrio_sol$Puntuacion<-NULL\n",
    "head(na.omit(barrio_sol))"
   ]
  },
  {
   "cell_type": "markdown",
   "metadata": {},
   "source": [
    "## <font color='red'>**Comentarios**</font>\n",
    "\n",
    "Es más fácil ejecutar \n",
    "`cor(barrio_sol[,c(\"NumBanyos\",\"NumDormitorios\",\"MaxOcupantes\",\"MetrosCuadrados\")],use=\"pairwise.complete.obs\")`\n",
    "\n",
    "Cuidado con el na.omit() te elimina toda la fila aunque el resto tenga datos.\n",
    "Así por ejemplo si estas tratando de ver el *Precio* en función de *NumDormitorios*, pero hay una fila que tiene *MaxOcupantes* fijada a NA te la borrará, aunque podrías haberla usado para tu regresión."
   ]
  },
  {
   "cell_type": "code",
   "execution_count": 33,
   "metadata": {},
   "outputs": [
    {
     "data": {
      "text/html": [
       "<table>\n",
       "<caption>A matrix: 4 × 4 of type dbl</caption>\n",
       "<thead>\n",
       "\t<tr><th></th><th scope=col>NumBanyos</th><th scope=col>NumDormitorios</th><th scope=col>MaxOcupantes</th><th scope=col>MetrosCuadrados</th></tr>\n",
       "</thead>\n",
       "<tbody>\n",
       "\t<tr><th scope=row>NumBanyos</th><td>1.0000000</td><td>0.6761906</td><td>0.6578162</td><td>0.4820403</td></tr>\n",
       "\t<tr><th scope=row>NumDormitorios</th><td>0.6761906</td><td>1.0000000</td><td>0.7594598</td><td>0.5684425</td></tr>\n",
       "\t<tr><th scope=row>MaxOcupantes</th><td>0.6578162</td><td>0.7594598</td><td>1.0000000</td><td>0.4286106</td></tr>\n",
       "\t<tr><th scope=row>MetrosCuadrados</th><td>0.4820403</td><td>0.5684425</td><td>0.4286106</td><td>1.0000000</td></tr>\n",
       "</tbody>\n",
       "</table>\n"
      ],
      "text/latex": [
       "A matrix: 4 × 4 of type dbl\n",
       "\\begin{tabular}{r|llll}\n",
       "  & NumBanyos & NumDormitorios & MaxOcupantes & MetrosCuadrados\\\\\n",
       "\\hline\n",
       "\tNumBanyos & 1.0000000 & 0.6761906 & 0.6578162 & 0.4820403\\\\\n",
       "\tNumDormitorios & 0.6761906 & 1.0000000 & 0.7594598 & 0.5684425\\\\\n",
       "\tMaxOcupantes & 0.6578162 & 0.7594598 & 1.0000000 & 0.4286106\\\\\n",
       "\tMetrosCuadrados & 0.4820403 & 0.5684425 & 0.4286106 & 1.0000000\\\\\n",
       "\\end{tabular}\n"
      ],
      "text/markdown": [
       "\n",
       "A matrix: 4 × 4 of type dbl\n",
       "\n",
       "| <!--/--> | NumBanyos | NumDormitorios | MaxOcupantes | MetrosCuadrados |\n",
       "|---|---|---|---|---|\n",
       "| NumBanyos | 1.0000000 | 0.6761906 | 0.6578162 | 0.4820403 |\n",
       "| NumDormitorios | 0.6761906 | 1.0000000 | 0.7594598 | 0.5684425 |\n",
       "| MaxOcupantes | 0.6578162 | 0.7594598 | 1.0000000 | 0.4286106 |\n",
       "| MetrosCuadrados | 0.4820403 | 0.5684425 | 0.4286106 | 1.0000000 |\n",
       "\n"
      ],
      "text/plain": [
       "                NumBanyos NumDormitorios MaxOcupantes MetrosCuadrados\n",
       "NumBanyos       1.0000000 0.6761906      0.6578162    0.4820403      \n",
       "NumDormitorios  0.6761906 1.0000000      0.7594598    0.5684425      \n",
       "MaxOcupantes    0.6578162 0.7594598      1.0000000    0.4286106      \n",
       "MetrosCuadrados 0.4820403 0.5684425      0.4286106    1.0000000      "
      ]
     },
     "metadata": {},
     "output_type": "display_data"
    }
   ],
   "source": [
    "cor(barrio_sol[,c(\"NumBanyos\",\"NumDormitorios\",\"MaxOcupantes\",\"MetrosCuadrados\")],use=\"pairwise.complete.obs\")"
   ]
  },
  {
   "cell_type": "code",
   "execution_count": 34,
   "metadata": {},
   "outputs": [
    {
     "data": {
      "text/plain": [
       "\n",
       "Call:\n",
       "lm(formula = barrio_sol$NumBanyos ~ barrio_sol$MaxOcupantes)\n",
       "\n",
       "Residuals:\n",
       "    Min      1Q  Median      3Q     Max \n",
       "-1.2423 -0.1611 -0.1611  0.1857  2.7577 \n",
       "\n",
       "Coefficients:\n",
       "                        Estimate Std. Error t value Pr(>|t|)    \n",
       "(Intercept)             0.467425   0.038130   12.26   <2e-16 ***\n",
       "barrio_sol$MaxOcupantes 0.173428   0.007511   23.09   <2e-16 ***\n",
       "---\n",
       "Signif. codes:  0 ‘***’ 0.001 ‘**’ 0.01 ‘*’ 0.05 ‘.’ 0.1 ‘ ’ 1\n",
       "\n",
       "Residual standard error: 0.4088 on 699 degrees of freedom\n",
       "Multiple R-squared:  0.4327,\tAdjusted R-squared:  0.4319 \n",
       "F-statistic: 533.2 on 1 and 699 DF,  p-value: < 2.2e-16\n"
      ]
     },
     "metadata": {},
     "output_type": "display_data"
    }
   ],
   "source": [
    "combina<-lm(barrio_sol$NumBanyos~barrio_sol$MaxOcupantes)\n",
    "summary(combina)"
   ]
  },
  {
   "cell_type": "markdown",
   "metadata": {},
   "source": [
    "Primero calculamos la correlación para ver como se relacionan estas variables entre sí."
   ]
  },
  {
   "cell_type": "code",
   "execution_count": 35,
   "metadata": {},
   "outputs": [
    {
     "data": {
      "text/html": [
       "<table>\n",
       "<caption>A matrix: 6 × 6 of type dbl</caption>\n",
       "<thead>\n",
       "\t<tr><th></th><th scope=col>MaxOcupantes</th><th scope=col>NumBanyos</th><th scope=col>NumDormitorios</th><th scope=col>NumCamas</th><th scope=col>Precio</th><th scope=col>MetrosCuadrados</th></tr>\n",
       "</thead>\n",
       "<tbody>\n",
       "\t<tr><th scope=row>MaxOcupantes</th><td>1.0000000</td><td>0.7017290</td><td>0.7853809</td><td>0.9314625</td><td>0.5269961</td><td>0.4286106</td></tr>\n",
       "\t<tr><th scope=row>NumBanyos</th><td>0.7017290</td><td>1.0000000</td><td>0.6873719</td><td>0.6096792</td><td>0.5975571</td><td>0.4820403</td></tr>\n",
       "\t<tr><th scope=row>NumDormitorios</th><td>0.7853809</td><td>0.6873719</td><td>1.0000000</td><td>0.7606126</td><td>0.7160551</td><td>0.5684425</td></tr>\n",
       "\t<tr><th scope=row>NumCamas</th><td>0.9314625</td><td>0.6096792</td><td>0.7606126</td><td>1.0000000</td><td>0.4475698</td><td>0.3514033</td></tr>\n",
       "\t<tr><th scope=row>Precio</th><td>0.5269961</td><td>0.5975571</td><td>0.7160551</td><td>0.4475698</td><td>1.0000000</td><td>0.6381649</td></tr>\n",
       "\t<tr><th scope=row>MetrosCuadrados</th><td>0.4286106</td><td>0.4820403</td><td>0.5684425</td><td>0.3514033</td><td>0.6381649</td><td>1.0000000</td></tr>\n",
       "</tbody>\n",
       "</table>\n"
      ],
      "text/latex": [
       "A matrix: 6 × 6 of type dbl\n",
       "\\begin{tabular}{r|llllll}\n",
       "  & MaxOcupantes & NumBanyos & NumDormitorios & NumCamas & Precio & MetrosCuadrados\\\\\n",
       "\\hline\n",
       "\tMaxOcupantes & 1.0000000 & 0.7017290 & 0.7853809 & 0.9314625 & 0.5269961 & 0.4286106\\\\\n",
       "\tNumBanyos & 0.7017290 & 1.0000000 & 0.6873719 & 0.6096792 & 0.5975571 & 0.4820403\\\\\n",
       "\tNumDormitorios & 0.7853809 & 0.6873719 & 1.0000000 & 0.7606126 & 0.7160551 & 0.5684425\\\\\n",
       "\tNumCamas & 0.9314625 & 0.6096792 & 0.7606126 & 1.0000000 & 0.4475698 & 0.3514033\\\\\n",
       "\tPrecio & 0.5269961 & 0.5975571 & 0.7160551 & 0.4475698 & 1.0000000 & 0.6381649\\\\\n",
       "\tMetrosCuadrados & 0.4286106 & 0.4820403 & 0.5684425 & 0.3514033 & 0.6381649 & 1.0000000\\\\\n",
       "\\end{tabular}\n"
      ],
      "text/markdown": [
       "\n",
       "A matrix: 6 × 6 of type dbl\n",
       "\n",
       "| <!--/--> | MaxOcupantes | NumBanyos | NumDormitorios | NumCamas | Precio | MetrosCuadrados |\n",
       "|---|---|---|---|---|---|---|\n",
       "| MaxOcupantes | 1.0000000 | 0.7017290 | 0.7853809 | 0.9314625 | 0.5269961 | 0.4286106 |\n",
       "| NumBanyos | 0.7017290 | 1.0000000 | 0.6873719 | 0.6096792 | 0.5975571 | 0.4820403 |\n",
       "| NumDormitorios | 0.7853809 | 0.6873719 | 1.0000000 | 0.7606126 | 0.7160551 | 0.5684425 |\n",
       "| NumCamas | 0.9314625 | 0.6096792 | 0.7606126 | 1.0000000 | 0.4475698 | 0.3514033 |\n",
       "| Precio | 0.5269961 | 0.5975571 | 0.7160551 | 0.4475698 | 1.0000000 | 0.6381649 |\n",
       "| MetrosCuadrados | 0.4286106 | 0.4820403 | 0.5684425 | 0.3514033 | 0.6381649 | 1.0000000 |\n",
       "\n"
      ],
      "text/plain": [
       "                MaxOcupantes NumBanyos NumDormitorios NumCamas  Precio   \n",
       "MaxOcupantes    1.0000000    0.7017290 0.7853809      0.9314625 0.5269961\n",
       "NumBanyos       0.7017290    1.0000000 0.6873719      0.6096792 0.5975571\n",
       "NumDormitorios  0.7853809    0.6873719 1.0000000      0.7606126 0.7160551\n",
       "NumCamas        0.9314625    0.6096792 0.7606126      1.0000000 0.4475698\n",
       "Precio          0.5269961    0.5975571 0.7160551      0.4475698 1.0000000\n",
       "MetrosCuadrados 0.4286106    0.4820403 0.5684425      0.3514033 0.6381649\n",
       "                MetrosCuadrados\n",
       "MaxOcupantes    0.4286106      \n",
       "NumBanyos       0.4820403      \n",
       "NumDormitorios  0.5684425      \n",
       "NumCamas        0.3514033      \n",
       "Precio          0.6381649      \n",
       "MetrosCuadrados 1.0000000      "
      ]
     },
     "metadata": {},
     "output_type": "display_data"
    }
   ],
   "source": [
    "cor(na.omit(barrio_sol))"
   ]
  },
  {
   "cell_type": "markdown",
   "metadata": {},
   "source": [
    "Se observa que la correlación entre el número de dormitorios y los metros cuadrados es sorprendentemente baja.\n",
    "¿Son de fiar esos números?\n",
    "\n",
    "Mediante un histograma o curvas de densidad podemos descartar números que notienen sentido en el dataframe barrio_sol,\n",
    "para tener una matriz de correlación que tenga mayor sentido.\n"
   ]
  },
  {
   "cell_type": "code",
   "execution_count": 36,
   "metadata": {},
   "outputs": [
    {
     "data": {
      "image/png": "[encoded data removed]",
      "text/plain": [
       "plot without title"
      ]
     },
     "metadata": {},
     "output_type": "display_data"
    }
   ],
   "source": [
    "ggplot(data=na.omit(barrio_sol),aes(x=NumDormitorios))+\n",
    "geom_histogram(bins=6,fill='#7070BB',color=\"#2020EE\")"
   ]
  },
  {
   "cell_type": "code",
   "execution_count": 37,
   "metadata": {},
   "outputs": [
    {
     "data": {
      "text/html": [
       "'Observamos que hay muchos airbnb con menos de 1 metros cuadrados que debemos limpiar'"
      ],
      "text/latex": [
       "'Observamos que hay muchos airbnb con menos de 1 metros cuadrados que debemos limpiar'"
      ],
      "text/markdown": [
       "'Observamos que hay muchos airbnb con menos de 1 metros cuadrados que debemos limpiar'"
      ],
      "text/plain": [
       "[1] \"Observamos que hay muchos airbnb con menos de 1 metros cuadrados que debemos limpiar\""
      ]
     },
     "metadata": {},
     "output_type": "display_data"
    },
    {
     "data": {
      "image/png": "[encoded data removed]",
      "text/plain": [
       "plot without title"
      ]
     },
     "metadata": {},
     "output_type": "display_data"
    }
   ],
   "source": [
    "ggplot(data=na.omit(barrio_sol),aes(x=MetrosCuadrados))+\n",
    "geom_histogram(bins=20,fill='#7070BB',color=\"#2020EE\")\n",
    "paste('Observamos que hay muchos airbnb con menos de 1 metros cuadrados que debemos limpiar')\n"
   ]
  },
  {
   "cell_type": "code",
   "execution_count": 38,
   "metadata": {},
   "outputs": [
    {
     "data": {
      "text/html": [
       "'limpiamos los apartamentos con menos de 1 metro cuadrado'"
      ],
      "text/latex": [
       "'limpiamos los apartamentos con menos de 1 metro cuadrado'"
      ],
      "text/markdown": [
       "'limpiamos los apartamentos con menos de 1 metro cuadrado'"
      ],
      "text/plain": [
       "[1] \"limpiamos los apartamentos con menos de 1 metro cuadrado\""
      ]
     },
     "metadata": {},
     "output_type": "display_data"
    },
    {
     "data": {
      "text/html": [
       "<table>\n",
       "<caption>A matrix: 6 × 6 of type dbl</caption>\n",
       "<thead>\n",
       "\t<tr><th></th><th scope=col>MaxOcupantes</th><th scope=col>NumBanyos</th><th scope=col>NumDormitorios</th><th scope=col>NumCamas</th><th scope=col>Precio</th><th scope=col>MetrosCuadrados</th></tr>\n",
       "</thead>\n",
       "<tbody>\n",
       "\t<tr><th scope=row>MaxOcupantes</th><td>1.0000000</td><td>0.8528252</td><td>0.7841590</td><td>0.9124683</td><td>0.7291838</td><td>0.7108110</td></tr>\n",
       "\t<tr><th scope=row>NumBanyos</th><td>0.8528252</td><td>1.0000000</td><td>0.7356920</td><td>0.7686382</td><td>0.6620249</td><td>0.5711959</td></tr>\n",
       "\t<tr><th scope=row>NumDormitorios</th><td>0.7841590</td><td>0.7356920</td><td>1.0000000</td><td>0.8130327</td><td>0.8590378</td><td>0.7717363</td></tr>\n",
       "\t<tr><th scope=row>NumCamas</th><td>0.9124683</td><td>0.7686382</td><td>0.8130327</td><td>1.0000000</td><td>0.7086276</td><td>0.7084541</td></tr>\n",
       "\t<tr><th scope=row>Precio</th><td>0.7291838</td><td>0.6620249</td><td>0.8590378</td><td>0.7086276</td><td>1.0000000</td><td>0.7401898</td></tr>\n",
       "\t<tr><th scope=row>MetrosCuadrados</th><td>0.7108110</td><td>0.5711959</td><td>0.7717363</td><td>0.7084541</td><td>0.7401898</td><td>1.0000000</td></tr>\n",
       "</tbody>\n",
       "</table>\n"
      ],
      "text/latex": [
       "A matrix: 6 × 6 of type dbl\n",
       "\\begin{tabular}{r|llllll}\n",
       "  & MaxOcupantes & NumBanyos & NumDormitorios & NumCamas & Precio & MetrosCuadrados\\\\\n",
       "\\hline\n",
       "\tMaxOcupantes & 1.0000000 & 0.8528252 & 0.7841590 & 0.9124683 & 0.7291838 & 0.7108110\\\\\n",
       "\tNumBanyos & 0.8528252 & 1.0000000 & 0.7356920 & 0.7686382 & 0.6620249 & 0.5711959\\\\\n",
       "\tNumDormitorios & 0.7841590 & 0.7356920 & 1.0000000 & 0.8130327 & 0.8590378 & 0.7717363\\\\\n",
       "\tNumCamas & 0.9124683 & 0.7686382 & 0.8130327 & 1.0000000 & 0.7086276 & 0.7084541\\\\\n",
       "\tPrecio & 0.7291838 & 0.6620249 & 0.8590378 & 0.7086276 & 1.0000000 & 0.7401898\\\\\n",
       "\tMetrosCuadrados & 0.7108110 & 0.5711959 & 0.7717363 & 0.7084541 & 0.7401898 & 1.0000000\\\\\n",
       "\\end{tabular}\n"
      ],
      "text/markdown": [
       "\n",
       "A matrix: 6 × 6 of type dbl\n",
       "\n",
       "| <!--/--> | MaxOcupantes | NumBanyos | NumDormitorios | NumCamas | Precio | MetrosCuadrados |\n",
       "|---|---|---|---|---|---|---|\n",
       "| MaxOcupantes | 1.0000000 | 0.8528252 | 0.7841590 | 0.9124683 | 0.7291838 | 0.7108110 |\n",
       "| NumBanyos | 0.8528252 | 1.0000000 | 0.7356920 | 0.7686382 | 0.6620249 | 0.5711959 |\n",
       "| NumDormitorios | 0.7841590 | 0.7356920 | 1.0000000 | 0.8130327 | 0.8590378 | 0.7717363 |\n",
       "| NumCamas | 0.9124683 | 0.7686382 | 0.8130327 | 1.0000000 | 0.7086276 | 0.7084541 |\n",
       "| Precio | 0.7291838 | 0.6620249 | 0.8590378 | 0.7086276 | 1.0000000 | 0.7401898 |\n",
       "| MetrosCuadrados | 0.7108110 | 0.5711959 | 0.7717363 | 0.7084541 | 0.7401898 | 1.0000000 |\n",
       "\n"
      ],
      "text/plain": [
       "                MaxOcupantes NumBanyos NumDormitorios NumCamas  Precio   \n",
       "MaxOcupantes    1.0000000    0.8528252 0.7841590      0.9124683 0.7291838\n",
       "NumBanyos       0.8528252    1.0000000 0.7356920      0.7686382 0.6620249\n",
       "NumDormitorios  0.7841590    0.7356920 1.0000000      0.8130327 0.8590378\n",
       "NumCamas        0.9124683    0.7686382 0.8130327      1.0000000 0.7086276\n",
       "Precio          0.7291838    0.6620249 0.8590378      0.7086276 1.0000000\n",
       "MetrosCuadrados 0.7108110    0.5711959 0.7717363      0.7084541 0.7401898\n",
       "                MetrosCuadrados\n",
       "MaxOcupantes    0.7108110      \n",
       "NumBanyos       0.5711959      \n",
       "NumDormitorios  0.7717363      \n",
       "NumCamas        0.7084541      \n",
       "Precio          0.7401898      \n",
       "MetrosCuadrados 1.0000000      "
      ]
     },
     "metadata": {},
     "output_type": "display_data"
    }
   ],
   "source": [
    "paste('limpiamos los apartamentos con menos de 1 metro cuadrado')\n",
    "barrio_sol$MetrosCuadrados[barrio_sol$MetrosCuadrados<1]<-NA\n",
    "cor(na.omit(barrio_sol))\n"
   ]
  },
  {
   "cell_type": "markdown",
   "metadata": {},
   "source": [
    "Una vez que hayamos filtrado los datos correspondientes calcular el valor o la combinación de valores que mejor nos permite obtener el precio de un inmueble."
   ]
  },
  {
   "cell_type": "code",
   "execution_count": 40,
   "metadata": {},
   "outputs": [
    {
     "data": {
      "text/plain": [
       "\n",
       "Call:\n",
       "lm(formula = barrio_sol$Precio ~ barrio_sol$MaxOcupantes + barrio_sol$NumBanyos + \n",
       "    barrio_sol$NumDormitorios + barrio_sol$NumCamas + barrio_sol$MetrosCuadrados)\n",
       "\n",
       "Residuals:\n",
       "    Min      1Q  Median      3Q     Max \n",
       "-72.984 -13.182  -5.206  15.198  69.502 \n",
       "\n",
       "Coefficients:\n",
       "                           Estimate Std. Error t value Pr(>|t|)    \n",
       "(Intercept)                 28.7229    11.5099   2.495 0.017594 *  \n",
       "barrio_sol$MaxOcupantes      5.5077     5.4473   1.011 0.319110    \n",
       "barrio_sol$NumBanyos        -1.0764    13.6094  -0.079 0.937422    \n",
       "barrio_sol$NumDormitorios   32.5073     7.9043   4.113 0.000234 ***\n",
       "barrio_sol$NumCamas         -5.2141     5.4034  -0.965 0.341376    \n",
       "barrio_sol$MetrosCuadrados   0.1868     0.1579   1.183 0.245068    \n",
       "---\n",
       "Signif. codes:  0 ‘***’ 0.001 ‘**’ 0.01 ‘*’ 0.05 ‘.’ 0.1 ‘ ’ 1\n",
       "\n",
       "Residual standard error: 29.51 on 34 degrees of freedom\n",
       "  (661 observations deleted due to missingness)\n",
       "Multiple R-squared:  0.7627,\tAdjusted R-squared:  0.7278 \n",
       "F-statistic: 21.86 on 5 and 34 DF,  p-value: 9.604e-10\n"
      ]
     },
     "metadata": {},
     "output_type": "display_data"
    }
   ],
   "source": [
    "combina<-lm(barrio_sol$Precio~barrio_sol$MaxOcupantes+barrio_sol$NumBanyos+barrio_sol$NumDormitorios+barrio_sol$NumCamas+barrio_sol$MetrosCuadrados)\n",
    "summary(combina)"
   ]
  },
  {
   "cell_type": "markdown",
   "metadata": {},
   "source": [
    "¿Que variable es más fiable para conocer el precio de un inmueble, el número de habitaciones o los metros cuadrados?"
   ]
  },
  {
   "cell_type": "code",
   "execution_count": 41,
   "metadata": {},
   "outputs": [
    {
     "data": {
      "text/plain": [
       "\n",
       "Call:\n",
       "lm(formula = barrio_sol$Precio ~ barrio_sol$NumDormitorios + \n",
       "    barrio_sol$MetrosCuadrados)\n",
       "\n",
       "Residuals:\n",
       "    Min      1Q  Median      3Q     Max \n",
       "-86.136 -16.183  -0.823  15.801  68.084 \n",
       "\n",
       "Coefficients:\n",
       "                           Estimate Std. Error t value Pr(>|t|)    \n",
       "(Intercept)                 36.8283     7.9806   4.615 4.61e-05 ***\n",
       "barrio_sol$NumDormitorios   32.5587     5.8816   5.536 2.67e-06 ***\n",
       "barrio_sol$MetrosCuadrados   0.2152     0.1449   1.486    0.146    \n",
       "---\n",
       "Signif. codes:  0 ‘***’ 0.001 ‘**’ 0.01 ‘*’ 0.05 ‘.’ 0.1 ‘ ’ 1\n",
       "\n",
       "Residual standard error: 28.88 on 37 degrees of freedom\n",
       "  (661 observations deleted due to missingness)\n",
       "Multiple R-squared:  0.7527,\tAdjusted R-squared:  0.7393 \n",
       "F-statistic: 56.31 on 2 and 37 DF,  p-value: 5.953e-12\n"
      ]
     },
     "metadata": {},
     "output_type": "display_data"
    },
    {
     "data": {
      "text/html": [
       "'vemos que el numero de dormitorios es mas fiable'"
      ],
      "text/latex": [
       "'vemos que el numero de dormitorios es mas fiable'"
      ],
      "text/markdown": [
       "'vemos que el numero de dormitorios es mas fiable'"
      ],
      "text/plain": [
       "[1] \"vemos que el numero de dormitorios es mas fiable\""
      ]
     },
     "metadata": {},
     "output_type": "display_data"
    }
   ],
   "source": [
    "combina_dos<-lm(barrio_sol$Precio~barrio_sol$NumDormitorios+barrio_sol$MetrosCuadrados)\n",
    "summary(combina_dos)\n",
    "paste('vemos que el numero de dormitorios es mas fiable')"
   ]
  },
  {
   "cell_type": "markdown",
   "metadata": {},
   "source": [
    "## <font color='red'>**Comentarios**</font>\n",
    "\n",
    "Cuando uses funciones como ggplot, lm, subset que además del dataset como parámetro reciben el nombre de una columna, no es necesario poner el nombre del dataset de nuevo. Puedes acceder al valor de la columna solo con el nombre de la misma.\n",
    "\n",
    "Por ejemplo la regresión anterior sería equivalente a esta:\n",
    "`lm(Precio~NumDormitorios+MetrosCuadrados,barrio_sol)`"
   ]
  },
  {
   "cell_type": "markdown",
   "metadata": {},
   "source": [
    "Responde con su correspondiente margen de error del 95%, ¿cuantos euros incrementa el precio del alquiler por cada metro cuadrado extra del piso?"
   ]
  },
  {
   "cell_type": "code",
   "execution_count": 44,
   "metadata": {},
   "outputs": [
    {
     "data": {
      "text/html": [
       "<table>\n",
       "<caption>A matrix: 2 × 2 of type dbl</caption>\n",
       "<thead>\n",
       "\t<tr><th></th><th scope=col>2.5 %</th><th scope=col>97.5 %</th></tr>\n",
       "</thead>\n",
       "<tbody>\n",
       "\t<tr><th scope=row>(Intercept)</th><td>25.5462285</td><td>67.595136</td></tr>\n",
       "\t<tr><th scope=row>MetrosCuadrados</th><td> 0.5853199</td><td> 1.083026</td></tr>\n",
       "</tbody>\n",
       "</table>\n"
      ],
      "text/latex": [
       "A matrix: 2 × 2 of type dbl\n",
       "\\begin{tabular}{r|ll}\n",
       "  & 2.5 \\% & 97.5 \\%\\\\\n",
       "\\hline\n",
       "\t(Intercept) & 25.5462285 & 67.595136\\\\\n",
       "\tMetrosCuadrados &  0.5853199 &  1.083026\\\\\n",
       "\\end{tabular}\n"
      ],
      "text/markdown": [
       "\n",
       "A matrix: 2 × 2 of type dbl\n",
       "\n",
       "| <!--/--> | 2.5 % | 97.5 % |\n",
       "|---|---|---|\n",
       "| (Intercept) | 25.5462285 | 67.595136 |\n",
       "| MetrosCuadrados |  0.5853199 |  1.083026 |\n",
       "\n"
      ],
      "text/plain": [
       "                2.5 %      97.5 %   \n",
       "(Intercept)     25.5462285 67.595136\n",
       "MetrosCuadrados  0.5853199  1.083026"
      ]
     },
     "metadata": {},
     "output_type": "display_data"
    },
    {
     "data": {
      "text/html": [
       "<span style=white-space:pre-wrap>'el incremento por cada metro cuadrado con un margen del 95% es:  0.585319947626517     1.08302568886585'</span>"
      ],
      "text/latex": [
       "'el incremento por cada metro cuadrado con un margen del 95\\% es:  0.585319947626517     1.08302568886585'"
      ],
      "text/markdown": [
       "<span style=white-space:pre-wrap>'el incremento por cada metro cuadrado con un margen del 95% es:  0.585319947626517     1.08302568886585'</span>"
      ],
      "text/plain": [
       "[1] \"el incremento por cada metro cuadrado con un margen del 95% es:  0.585319947626517     1.08302568886585\""
      ]
     },
     "metadata": {},
     "output_type": "display_data"
    }
   ],
   "source": [
    "precio_metro <- lm(data=barrio_sol, formula= Precio ~ MetrosCuadrados)\n",
    "margen_uno<-confint(precio_metro)\n",
    "margen_uno\n",
    "\n",
    "paste('el incremento por cada metro cuadrado con un margen del 95% es: ',margen_uno[2],'   ',margen_uno[4])\n",
    "\n"
   ]
  },
  {
   "cell_type": "markdown",
   "metadata": {},
   "source": [
    "Responde con su correspondiente margen de error del 95%, ¿cuantos euros incrementa el precio del alquiler por cada habitación?"
   ]
  },
  {
   "cell_type": "code",
   "execution_count": 45,
   "metadata": {},
   "outputs": [
    {
     "data": {
      "text/html": [
       "<table>\n",
       "<caption>A matrix: 2 × 2 of type dbl</caption>\n",
       "<thead>\n",
       "\t<tr><th></th><th scope=col>2.5 %</th><th scope=col>97.5 %</th></tr>\n",
       "</thead>\n",
       "<tbody>\n",
       "\t<tr><th scope=row>(Intercept)</th><td>47.54299</td><td>57.62561</td></tr>\n",
       "\t<tr><th scope=row>NumDormitorios</th><td>30.50004</td><td>36.22803</td></tr>\n",
       "</tbody>\n",
       "</table>\n"
      ],
      "text/latex": [
       "A matrix: 2 × 2 of type dbl\n",
       "\\begin{tabular}{r|ll}\n",
       "  & 2.5 \\% & 97.5 \\%\\\\\n",
       "\\hline\n",
       "\t(Intercept) & 47.54299 & 57.62561\\\\\n",
       "\tNumDormitorios & 30.50004 & 36.22803\\\\\n",
       "\\end{tabular}\n"
      ],
      "text/markdown": [
       "\n",
       "A matrix: 2 × 2 of type dbl\n",
       "\n",
       "| <!--/--> | 2.5 % | 97.5 % |\n",
       "|---|---|---|\n",
       "| (Intercept) | 47.54299 | 57.62561 |\n",
       "| NumDormitorios | 30.50004 | 36.22803 |\n",
       "\n"
      ],
      "text/plain": [
       "               2.5 %    97.5 %  \n",
       "(Intercept)    47.54299 57.62561\n",
       "NumDormitorios 30.50004 36.22803"
      ]
     },
     "metadata": {},
     "output_type": "display_data"
    },
    {
     "data": {
      "text/html": [
       "<span style=white-space:pre-wrap>'el incremento por cada habitación con un margen del 95% es:  30.5000398658094     36.2280331958966'</span>"
      ],
      "text/latex": [
       "'el incremento por cada habitación con un margen del 95\\% es:  30.5000398658094     36.2280331958966'"
      ],
      "text/markdown": [
       "<span style=white-space:pre-wrap>'el incremento por cada habitación con un margen del 95% es:  30.5000398658094     36.2280331958966'</span>"
      ],
      "text/plain": [
       "[1] \"el incremento por cada habitación con un margen del 95% es:  30.5000398658094     36.2280331958966\""
      ]
     },
     "metadata": {},
     "output_type": "display_data"
    }
   ],
   "source": [
    "precio_habitacion <- lm(data=barrio_sol, formula= Precio ~ NumDormitorios)\n",
    "margen_dos<-confint(precio_habitacion)\n",
    "margen_dos\n",
    "\n",
    "paste('el incremento por cada habitación con un margen del 95% es: ',margen_dos[2],'   ',margen_dos[4])\n"
   ]
  },
  {
   "cell_type": "markdown",
   "metadata": {},
   "source": [
    "¿Cual es la probabilidad de encontrar, en el barrio de Sol, un apartamento en alquiler con 3 dormitorios?\n",
    "¿Cual es el margen de error de esa probabilidad?"
   ]
  },
  {
   "cell_type": "code",
   "execution_count": 46,
   "metadata": {},
   "outputs": [
    {
     "data": {
      "text/plain": [
       "\n",
       "\tExact binomial test\n",
       "\n",
       "data:  ns and n\n",
       "number of successes = 55, number of trials = 701, p-value < 2.2e-16\n",
       "alternative hypothesis: true probability of success is not equal to 0.5\n",
       "95 percent confidence interval:\n",
       " 0.0596506 0.1009033\n",
       "sample estimates:\n",
       "probability of success \n",
       "            0.07845934 \n"
      ]
     },
     "metadata": {},
     "output_type": "display_data"
    },
    {
     "data": {
      "text/html": [
       "<span style=white-space:pre-wrap>'nuestro dataset tiene  701  entradas y de ellas  55  con 3 dormitorios'</span>"
      ],
      "text/latex": [
       "'nuestro dataset tiene  701  entradas y de ellas  55  con 3 dormitorios'"
      ],
      "text/markdown": [
       "<span style=white-space:pre-wrap>'nuestro dataset tiene  701  entradas y de ellas  55  con 3 dormitorios'</span>"
      ],
      "text/plain": [
       "[1] \"nuestro dataset tiene  701  entradas y de ellas  55  con 3 dormitorios\""
      ]
     },
     "metadata": {},
     "output_type": "display_data"
    },
    {
     "data": {
      "text/html": [
       "<span style=white-space:pre-wrap>'la probabilidad de encontrar un apartamento con 3 dormitorios en el barrio de sol es:  7.85 %'</span>"
      ],
      "text/latex": [
       "'la probabilidad de encontrar un apartamento con 3 dormitorios en el barrio de sol es:  7.85 \\%'"
      ],
      "text/markdown": [
       "<span style=white-space:pre-wrap>'la probabilidad de encontrar un apartamento con 3 dormitorios en el barrio de sol es:  7.85 %'</span>"
      ],
      "text/plain": [
       "[1] \"la probabilidad de encontrar un apartamento con 3 dormitorios en el barrio de sol es:  7.85 %\""
      ]
     },
     "metadata": {},
     "output_type": "display_data"
    },
    {
     "data": {
      "text/html": [
       "<span style=white-space:pre-wrap>'el margen del 0.5% - 95% de intervalo de confianza es: 0.0596506   0.1009033'</span>"
      ],
      "text/latex": [
       "'el margen del 0.5\\% - 95\\% de intervalo de confianza es: 0.0596506   0.1009033'"
      ],
      "text/markdown": [
       "<span style=white-space:pre-wrap>'el margen del 0.5% - 95% de intervalo de confianza es: 0.0596506   0.1009033'</span>"
      ],
      "text/plain": [
       "[1] \"el margen del 0.5% - 95% de intervalo de confianza es: 0.0596506   0.1009033\""
      ]
     },
     "metadata": {},
     "output_type": "display_data"
    }
   ],
   "source": [
    "# metemos en una tabla la columna del numero de dormitorios\n",
    "tb_dormitorios<-table(barrio_sol$NumDormitorios)\n",
    "#sumamos todos los apartamentos\n",
    "n<-sum(as.numeric(tb_dormitorios))\n",
    "#buscamos los apartamentos que tienen 3 dormitorios\n",
    "ns<-as.numeric(tb_dormitorios[('3')])\n",
    "binom.test(ns,n)\n",
    "paste('nuestro dataset tiene ',n,' entradas y de ellas ',ns,' con 3 dormitorios')\n",
    "paste('la probabilidad de encontrar un apartamento con 3 dormitorios en el barrio de sol es: ',round((ns/n)*100,2),'%')\n",
    "paste('el margen del 0.5% - 95% de intervalo de confianza es: 0.0596506   0.1009033')"
   ]
  },
  {
   "cell_type": "markdown",
   "metadata": {},
   "source": [
    "## <font color='red'>**Comentarios**</font>\n",
    "\n",
    "Correcto, otra forma más fácil de hacerlo:"
   ]
  },
  {
   "cell_type": "code",
   "execution_count": 47,
   "metadata": {},
   "outputs": [
    {
     "data": {
      "text/plain": [
       "\n",
       "\tExact binomial test\n",
       "\n",
       "data:  ns and n\n",
       "number of successes = 55, number of trials = 701, p-value < 2.2e-16\n",
       "alternative hypothesis: true probability of success is not equal to 0.5\n",
       "95 percent confidence interval:\n",
       " 0.0596506 0.1009033\n",
       "sample estimates:\n",
       "probability of success \n",
       "            0.07845934 \n"
      ]
     },
     "metadata": {},
     "output_type": "display_data"
    }
   ],
   "source": [
    "#sumamos todos los apartamentos\n",
    "n<-nrow(barrio_sol)\n",
    "#buscamos los apartamentos que tienen 3 dormitorios\n",
    "ns<-sum(barrio_sol$NumDormitorios==3)\n",
    "binom.test(ns,n)"
   ]
  },
  {
   "cell_type": "markdown",
   "metadata": {},
   "source": []
  },
  {
   "cell_type": "code",
   "execution_count": null,
   "metadata": {},
   "outputs": [],
   "source": []
  }
 ],
 "metadata": {
  "kernelspec": {
   "display_name": "R",
   "language": "R",
   "name": "ir"
  },
  "language_info": {
   "codemirror_mode": "r",
   "file_extension": ".r",
   "mimetype": "text/x-r-source",
   "name": "R",
   "pygments_lexer": "r",
   "version": "3.6.0"
  }
 },
 "nbformat": 4,
 "nbformat_minor": 2
}
